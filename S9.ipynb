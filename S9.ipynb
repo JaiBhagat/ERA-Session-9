{
  "cells": [
    {
      "cell_type": "markdown",
      "metadata": {
        "id": "view-in-github",
        "colab_type": "text"
      },
      "source": [
        "<a href=\"https://colab.research.google.com/github/JaiBhagat/ERA-Session-9/blob/main/S9.ipynb\" target=\"_parent\"><img src=\"https://colab.research.google.com/assets/colab-badge.svg\" alt=\"Open In Colab\"/></a>"
      ]
    },
    {
      "cell_type": "code",
      "execution_count": 1,
      "metadata": {
        "id": "t023wzsSTScW"
      },
      "outputs": [],
      "source": [
        "from __future__ import print_function\n",
        "import torch\n",
        "import torch.nn as nn\n",
        "import torch.nn.functional as F\n",
        "import torch.optim as optim\n",
        "from torchvision import datasets, transforms\n",
        "import os\n",
        "os.environ['KMP_DUPLICATE_LIB_OK']='True'\n",
        "\n",
        "import albumentations as A\n",
        "import cv2\n",
        "from model import Net\n",
        "from utils import train, test,CustomDataset\n"
      ]
    },
    {
      "cell_type": "code",
      "execution_count": 3,
      "metadata": {
        "id": "q1dAoCGFTScX"
      },
      "outputs": [],
      "source": [
        "import albumentations as A\n",
        "from albumentations.pytorch import ToTensorV2\n",
        "from torchvision import transforms\n",
        "\n",
        "# PyTorch Train Phase transformations\n",
        "train_transforms_torch = transforms.Compose([\n",
        "                                       transforms.RandomCrop(32, padding=4, padding_mode='reflect'),\n",
        "                                       transforms.RandomHorizontalFlip(),\n",
        "                                       transforms.RandomRotation(15),\n",
        "                                       transforms.ToTensor(),\n",
        "                                       transforms.Normalize((0.4914, 0.4822, 0.4465), (0.2023, 0.1994, 0.2010)),\n",
        "                                       ])\n",
        "\n",
        "# Albumentations Train Phase transformations\n",
        "train_transforms_albu = A.Compose([\n",
        "                                       A.Normalize((0.4914, 0.4822, 0.4465), (0.2023, 0.1994, 0.2010)),\n",
        "                                       A.HorizontalFlip(p=0.5),\n",
        "                                       A.ColorJitter(p=0.2,brightness=0.2,contrast=0.2,saturation=0.2,hue=0.2),\n",
        "                                      #  A.RandomBrightnessContrast(p=0.2),\n",
        "                                      #  A.RandomContrast(limit=0.2),\n",
        "                                       A.ShiftScaleRotate(shift_limit=0.0625, scale_limit=0.1, rotate_limit=15, p=0.2,border_mode=cv2.BORDER_REFLECT_101),\n",
        "                                       A.CoarseDropout(max_holes=1, max_height=16,fill_value=(0.4914, 0.4822, 0.4465),mask_fill_value = None),\n",
        "                                       ToTensorV2(),\n",
        "\n",
        "                                       ])\n",
        "\n",
        "# PyTorch Test Phase transformations\n",
        "test_transforms_torch = transforms.Compose([\n",
        "                                       transforms.ToTensor(),\n",
        "                                       transforms.Normalize((0.4914, 0.4822, 0.4465), (0.2023, 0.1994, 0.2010))\n",
        "                                       ])\n"
      ]
    },
    {
      "cell_type": "code",
      "execution_count": 4,
      "metadata": {
        "id": "cYqf6PINTScY",
        "outputId": "b27d695e-9daf-4f0e-aa40-008865eb567c",
        "colab": {
          "base_uri": "https://localhost:8080/"
        }
      },
      "outputs": [
        {
          "output_type": "stream",
          "name": "stdout",
          "text": [
            "Downloading https://www.cs.toronto.edu/~kriz/cifar-10-python.tar.gz to ./data/cifar-10-python.tar.gz\n"
          ]
        },
        {
          "output_type": "stream",
          "name": "stderr",
          "text": [
            "100%|██████████| 170498071/170498071 [00:13<00:00, 12945759.55it/s]\n"
          ]
        },
        {
          "output_type": "stream",
          "name": "stdout",
          "text": [
            "Extracting ./data/cifar-10-python.tar.gz to ./data\n",
            "Files already downloaded and verified\n"
          ]
        }
      ],
      "source": [
        "train = datasets.CIFAR10(root='./data', train=True,\n",
        "                                        download=True, transform=train_transforms_albu)\n",
        "test = datasets.CIFAR10(root='./data', train=False,\n",
        "                                       download=True, transform=test_transforms_torch)"
      ]
    },
    {
      "cell_type": "code",
      "source": [
        "from torch.utils.data import Dataset\n",
        "import cv2\n",
        "\n",
        "SEED = 1\n",
        "\n",
        "# CUDA?\n",
        "cuda = torch.cuda.is_available()\n",
        "print(\"CUDA Available?\", cuda)\n",
        "\n",
        "# For reproducibility\n",
        "torch.manual_seed(SEED)\n",
        "\n",
        "if cuda:\n",
        "    torch.cuda.manual_seed(SEED)\n",
        "\n",
        "# dataloader arguments - something you'll fetch these from cmdprmt\n",
        "dataloader_args = dict(shuffle=True, batch_size=512, num_workers=4, pin_memory=True) if cuda else dict(shuffle=True, batch_size=64)\n",
        "\n",
        "#instead of using torchvision's CIFAR10 directly, using this CustomDataset class and pass the CIFAR10 dataset's data and targets to it:\n",
        "from torchvision.datasets import CIFAR10\n",
        "\n",
        "# Load CIFAR10 dataset\n",
        "dataset = CIFAR10(root='./data', train=True, download=True)\n",
        "\n",
        "# Create the custom dataset\n",
        "custom_dataset = CustomDataset(dataset.data, dataset.targets, transform=train_transforms_albu)\n",
        "\n",
        "# Now, create your data loader with this custom dataset\n",
        "train_loader = torch.utils.data.DataLoader(custom_dataset, **dataloader_args)\n",
        "\n",
        "# test dataloader\n",
        "test_loader = torch.utils.data.DataLoader(test, **dataloader_args)"
      ],
      "metadata": {
        "colab": {
          "base_uri": "https://localhost:8080/"
        },
        "id": "uHcCJHL6Gs5f",
        "outputId": "05f305cf-fd8c-448b-ca86-acf9306073e2"
      },
      "execution_count": 6,
      "outputs": [
        {
          "output_type": "stream",
          "name": "stdout",
          "text": [
            "CUDA Available? True\n",
            "Files already downloaded and verified\n"
          ]
        },
        {
          "output_type": "stream",
          "name": "stderr",
          "text": [
            "/usr/local/lib/python3.10/dist-packages/torch/utils/data/dataloader.py:560: UserWarning: This DataLoader will create 4 worker processes in total. Our suggested max number of worker in current system is 2, which is smaller than what this DataLoader is going to create. Please be aware that excessive worker creation might get DataLoader running slow or even freeze, lower the worker number to avoid potential slowness/freeze if necessary.\n",
            "  warnings.warn(_create_warning_msg(\n"
          ]
        }
      ]
    },
    {
      "cell_type": "code",
      "execution_count": 7,
      "metadata": {
        "id": "nesrmACZTScZ",
        "outputId": "812c4fef-94b9-4c3b-b9a7-d3cd18aa280e",
        "colab": {
          "base_uri": "https://localhost:8080/",
          "height": 229
        }
      },
      "outputs": [
        {
          "output_type": "stream",
          "name": "stderr",
          "text": [
            "WARNING:matplotlib.image:Clipping input data to the valid range for imshow with RGB data ([0..1] for floats or [0..255] for integers).\n"
          ]
        },
        {
          "output_type": "display_data",
          "data": {
            "text/plain": [
              "<Figure size 640x480 with 1 Axes>"
            ],
            "image/png": "[encoded data removed]"
          },
          "metadata": {}
        },
        {
          "output_type": "stream",
          "name": "stdout",
          "text": [
            "ship  bird  cat   dog  \n"
          ]
        }
      ],
      "source": [
        "import matplotlib.pyplot as plt\n",
        "import numpy as np\n",
        "\n",
        "# functions to show an image\n",
        "\n",
        "\n",
        "def imshow(img):\n",
        "    img = img / 2 + 0.5     # unnormalize\n",
        "    npimg = img.numpy()\n",
        "    plt.imshow(np.transpose(npimg, (1, 2, 0)))\n",
        "    plt.show()\n",
        "\n",
        "\n",
        "# get some random training images\n",
        "dataiter = iter(train_loader)\n",
        "images, labels = next(dataiter)\n",
        "classes = ('plane', 'car', 'bird', 'cat',\n",
        "           'deer', 'dog', 'frog', 'horse', 'ship', 'truck')\n",
        "\n",
        "import torchvision\n",
        "# show images\n",
        "imshow(torchvision.utils.make_grid(images[:4]))\n",
        "# print labels\n",
        "print(' '.join(f'{classes[labels[j]]:5s}' for j in range(4)))"
      ]
    },
    {
      "cell_type": "markdown",
      "source": [
        "#S9 Model"
      ],
      "metadata": {
        "id": "eVp0Re_uASYK"
      }
    },
    {
      "cell_type": "code",
      "execution_count": 15,
      "metadata": {
        "id": "VO8JkadmTSca",
        "outputId": "84680af3-cbd7-40c0-d1d1-bed82fa7c378",
        "colab": {
          "base_uri": "https://localhost:8080/"
        }
      },
      "outputs": [
        {
          "output_type": "stream",
          "name": "stdout",
          "text": [
            "Requirement already satisfied: torchsummary in /usr/local/lib/python3.10/dist-packages (1.5.1)\n",
            "cuda\n",
            "----------------------------------------------------------------\n",
            "        Layer (type)               Output Shape         Param #\n",
            "================================================================\n",
            "            Conv2d-1            [-1, 3, 32, 32]              27\n",
            "            Conv2d-2           [-1, 32, 32, 32]              96\n",
            "depthwise_separable_conv-3           [-1, 32, 32, 32]               0\n",
            "       BatchNorm2d-4           [-1, 32, 32, 32]              64\n",
            "              ReLU-5           [-1, 32, 32, 32]               0\n",
            "           Dropout-6           [-1, 32, 32, 32]               0\n",
            "            Conv2d-7           [-1, 32, 32, 32]           9,216\n",
            "       BatchNorm2d-8           [-1, 32, 32, 32]              64\n",
            "              ReLU-9           [-1, 32, 32, 32]               0\n",
            "          Dropout-10           [-1, 32, 32, 32]               0\n",
            "           Conv2d-11           [-1, 32, 32, 32]           9,216\n",
            "      BatchNorm2d-12           [-1, 32, 32, 32]              64\n",
            "             ReLU-13           [-1, 32, 32, 32]               0\n",
            "          Dropout-14           [-1, 32, 32, 32]               0\n",
            "           Conv2d-15           [-1, 64, 14, 14]          18,432\n",
            "      BatchNorm2d-16           [-1, 64, 14, 14]             128\n",
            "             ReLU-17           [-1, 64, 14, 14]               0\n",
            "          Dropout-18           [-1, 64, 14, 14]               0\n",
            "           Conv2d-19           [-1, 64, 12, 12]             576\n",
            "           Conv2d-20          [-1, 128, 12, 12]           8,192\n",
            "depthwise_separable_conv-21          [-1, 128, 12, 12]               0\n",
            "      BatchNorm2d-22          [-1, 128, 12, 12]             256\n",
            "             ReLU-23          [-1, 128, 12, 12]               0\n",
            "          Dropout-24          [-1, 128, 12, 12]               0\n",
            "           Conv2d-25           [-1, 64, 12, 12]           8,192\n",
            "      BatchNorm2d-26           [-1, 64, 12, 12]             128\n",
            "             ReLU-27           [-1, 64, 12, 12]               0\n",
            "          Dropout-28           [-1, 64, 12, 12]               0\n",
            "           Conv2d-29             [-1, 64, 8, 8]          36,864\n",
            "      BatchNorm2d-30             [-1, 64, 8, 8]             128\n",
            "             ReLU-31             [-1, 64, 8, 8]               0\n",
            "          Dropout-32             [-1, 64, 8, 8]               0\n",
            "           Conv2d-33             [-1, 64, 8, 8]             576\n",
            "           Conv2d-34            [-1, 128, 8, 8]           8,192\n",
            "depthwise_separable_conv-35            [-1, 128, 8, 8]               0\n",
            "      BatchNorm2d-36            [-1, 128, 8, 8]             256\n",
            "             ReLU-37            [-1, 128, 8, 8]               0\n",
            "          Dropout-38            [-1, 128, 8, 8]               0\n",
            "           Conv2d-39             [-1, 64, 6, 6]          73,728\n",
            "      BatchNorm2d-40             [-1, 64, 6, 6]             128\n",
            "             ReLU-41             [-1, 64, 6, 6]               0\n",
            "          Dropout-42             [-1, 64, 6, 6]               0\n",
            "           Conv2d-43             [-1, 64, 4, 4]           4,096\n",
            "      BatchNorm2d-44             [-1, 64, 4, 4]             128\n",
            "             ReLU-45             [-1, 64, 4, 4]               0\n",
            "          Dropout-46             [-1, 64, 4, 4]               0\n",
            "AdaptiveAvgPool2d-47             [-1, 64, 1, 1]               0\n",
            "           Linear-48                   [-1, 10]             650\n",
            "================================================================\n",
            "Total params: 179,397\n",
            "Trainable params: 179,397\n",
            "Non-trainable params: 0\n",
            "----------------------------------------------------------------\n",
            "Input size (MB): 0.01\n",
            "Forward/backward pass size (MB): 5.28\n",
            "Params size (MB): 0.68\n",
            "Estimated Total Size (MB): 5.98\n",
            "----------------------------------------------------------------\n"
          ]
        }
      ],
      "source": [
        "!pip install torchsummary\n",
        "from torchsummary import summary\n",
        "use_cuda = torch.cuda.is_available()\n",
        "device = torch.device(\"cuda\" if use_cuda else \"cpu\")\n",
        "print(device)\n",
        "model = Net().to(device)\n",
        "summary(model, input_size=(3, 32, 32))"
      ]
    },
    {
      "cell_type": "code",
      "execution_count": 19,
      "metadata": {
        "id": "FnXrE0xOTScb",
        "outputId": "5aeb20ed-4f03-44f4-f1fe-e63cd808832d",
        "colab": {
          "base_uri": "https://localhost:8080/"
        }
      },
      "outputs": [
        {
          "metadata": {
            "tags": null
          },
          "name": "stdout",
          "output_type": "stream",
          "text": [
            "EPOCH: 0\n"
          ]
        },
        {
          "metadata": {
            "tags": null
          },
          "name": "stderr",
          "output_type": "stream",
          "text": [
            "Loss=1.7480008602142334 Batch_id=97 Accuracy=24.72: 100%|██████████| 98/98 [00:14<00:00,  6.87it/s]\n"
          ]
        },
        {
          "metadata": {
            "tags": null
          },
          "name": "stdout",
          "output_type": "stream",
          "text": [
            "\n",
            "Test set: Average loss: 1.6914, Accuracy: 3684/10000 (36.84%)\n",
            "\n",
            "EPOCH: 1\n"
          ]
        },
        {
          "metadata": {
            "tags": null
          },
          "name": "stderr",
          "output_type": "stream",
          "text": [
            "Loss=1.3948301076889038 Batch_id=95 Accuracy=42.21:  97%|█████████▋| 95/98 [00:12<00:00,  8.06it/s]Exception ignored in: <function _MultiProcessingDataLoaderIter.__del__ at 0x7f3a168d8310>\n",
            "Traceback (most recent call last):\n",
            "  File \"/usr/local/lib/python3.10/dist-packages/torch/utils/data/dataloader.py\", line 1478, in __del__\n",
            "    self._shutdown_workers()\n",
            "  File \"/usr/local/lib/python3.10/dist-packages/torch/utils/data/dataloader.py\", line 1461, in _shutdown_workers\n",
            "    if w.is_alive():\n",
            "  File \"/usr/lib/python3.10/multiprocessing/process.py\", line 160, in is_alive\n",
            "    assert self._parent_pid == os.getpid(), 'can only test a child process'\n",
            "AssertionError: can only test a child process\n",
            "Loss=1.483482003211975 Batch_id=97 Accuracy=42.29: 100%|██████████| 98/98 [00:12<00:00,  7.57it/s]\n"
          ]
        },
        {
          "metadata": {
            "tags": null
          },
          "name": "stdout",
          "output_type": "stream",
          "text": [
            "\n",
            "Test set: Average loss: 1.3917, Accuracy: 5108/10000 (51.08%)\n",
            "\n",
            "EPOCH: 2\n"
          ]
        },
        {
          "metadata": {
            "tags": null
          },
          "name": "stderr",
          "output_type": "stream",
          "text": [
            "Loss=1.3566865921020508 Batch_id=47 Accuracy=48.71:  48%|████▊     | 47/98 [00:06<00:05,  9.20it/s]Exception ignored in: <function _MultiProcessingDataLoaderIter.__del__ at 0x7f3a168d8310>\n",
            "Traceback (most recent call last):\n",
            "Exception ignored in: <function _MultiProcessingDataLoaderIter.__del__ at 0x7f3a168d8310>  File \"/usr/local/lib/python3.10/dist-packages/torch/utils/data/dataloader.py\", line 1478, in __del__\n",
            "\n",
            "    Traceback (most recent call last):\n",
            "self._shutdown_workers()  File \"/usr/local/lib/python3.10/dist-packages/torch/utils/data/dataloader.py\", line 1478, in __del__\n",
            "    \n",
            "  File \"/usr/local/lib/python3.10/dist-packages/torch/utils/data/dataloader.py\", line 1461, in _shutdown_workers\n",
            "self._shutdown_workers()\n",
            "      File \"/usr/local/lib/python3.10/dist-packages/torch/utils/data/dataloader.py\", line 1461, in _shutdown_workers\n",
            "if w.is_alive():    \n",
            "if w.is_alive():  File \"/usr/lib/python3.10/multiprocessing/process.py\", line 160, in is_alive\n",
            "\n",
            "      File \"/usr/lib/python3.10/multiprocessing/process.py\", line 160, in is_alive\n",
            "assert self._parent_pid == os.getpid(), 'can only test a child process'    Exception ignored in: \n",
            "assert self._parent_pid == os.getpid(), 'can only test a child process'<function _MultiProcessingDataLoaderIter.__del__ at 0x7f3a168d8310>AssertionError\n",
            "\n",
            ": AssertionErrorcan only test a child processTraceback (most recent call last):\n",
            ": \n",
            "  File \"/usr/local/lib/python3.10/dist-packages/torch/utils/data/dataloader.py\", line 1478, in __del__\n",
            "can only test a child process    \n",
            "self._shutdown_workers()\n",
            "  File \"/usr/local/lib/python3.10/dist-packages/torch/utils/data/dataloader.py\", line 1461, in _shutdown_workers\n",
            "    if w.is_alive():\n",
            "  File \"/usr/lib/python3.10/multiprocessing/process.py\", line 160, in is_alive\n",
            "Exception ignored in:     <function _MultiProcessingDataLoaderIter.__del__ at 0x7f3a168d8310>assert self._parent_pid == os.getpid(), 'can only test a child process'\n",
            "\n",
            "Traceback (most recent call last):\n",
            "AssertionError  File \"/usr/local/lib/python3.10/dist-packages/torch/utils/data/dataloader.py\", line 1478, in __del__\n",
            ":     can only test a child processself._shutdown_workers()\n",
            "  File \"/usr/local/lib/python3.10/dist-packages/torch/utils/data/dataloader.py\", line 1461, in _shutdown_workers\n",
            "    \n",
            "if w.is_alive():\n",
            "  File \"/usr/lib/python3.10/multiprocessing/process.py\", line 160, in is_alive\n",
            "    assert self._parent_pid == os.getpid(), 'can only test a child process'\n",
            "AssertionError: can only test a child process\n",
            "Loss=1.2878161668777466 Batch_id=97 Accuracy=50.46: 100%|██████████| 98/98 [00:14<00:00,  6.82it/s]\n"
          ]
        },
        {
          "metadata": {
            "tags": null
          },
          "name": "stdout",
          "output_type": "stream",
          "text": [
            "\n",
            "Test set: Average loss: 1.1807, Accuracy: 5796/10000 (57.96%)\n",
            "\n",
            "EPOCH: 3\n"
          ]
        },
        {
          "metadata": {
            "tags": null
          },
          "name": "stderr",
          "output_type": "stream",
          "text": [
            "Loss=1.32697594165802 Batch_id=67 Accuracy=54.33:  68%|██████▊   | 67/98 [00:09<00:03,  9.48it/s]  Exception ignored in: <function _MultiProcessingDataLoaderIter.__del__ at 0x7f3a168d8310>\n",
            "Traceback (most recent call last):\n",
            "  File \"/usr/local/lib/python3.10/dist-packages/torch/utils/data/dataloader.py\", line 1478, in __del__\n",
            "    Exception ignored in: <function _MultiProcessingDataLoaderIter.__del__ at 0x7f3a168d8310>Exception ignored in: self._shutdown_workers()<function _MultiProcessingDataLoaderIter.__del__ at 0x7f3a168d8310>\n",
            "\n",
            "  File \"/usr/local/lib/python3.10/dist-packages/torch/utils/data/dataloader.py\", line 1461, in _shutdown_workers\n",
            "    Traceback (most recent call last):\n",
            "if w.is_alive():  File \"/usr/local/lib/python3.10/dist-packages/torch/utils/data/dataloader.py\", line 1478, in __del__\n",
            "\n",
            "      File \"/usr/lib/python3.10/multiprocessing/process.py\", line 160, in is_alive\n",
            "\n",
            "self._shutdown_workers()    \n",
            "assert self._parent_pid == os.getpid(), 'can only test a child process'  File \"/usr/local/lib/python3.10/dist-packages/torch/utils/data/dataloader.py\", line 1461, in _shutdown_workers\n",
            "\n",
            "    AssertionErrorif w.is_alive():: Traceback (most recent call last):\n",
            "\n",
            "  File \"/usr/local/lib/python3.10/dist-packages/torch/utils/data/dataloader.py\", line 1478, in __del__\n",
            "can only test a child process  File \"/usr/lib/python3.10/multiprocessing/process.py\", line 160, in is_alive\n",
            "    \n",
            "    assert self._parent_pid == os.getpid(), 'can only test a child process'self._shutdown_workers()\n",
            "\n",
            "  File \"/usr/local/lib/python3.10/dist-packages/torch/utils/data/dataloader.py\", line 1461, in _shutdown_workers\n",
            "AssertionError    if w.is_alive():: can only test a child process\n",
            "\n",
            "  File \"/usr/lib/python3.10/multiprocessing/process.py\", line 160, in is_alive\n",
            "    assert self._parent_pid == os.getpid(), 'can only test a child process'\n",
            "AssertionError: can only test a child processException ignored in: \n",
            "<function _MultiProcessingDataLoaderIter.__del__ at 0x7f3a168d8310>\n",
            "Traceback (most recent call last):\n",
            "  File \"/usr/local/lib/python3.10/dist-packages/torch/utils/data/dataloader.py\", line 1478, in __del__\n",
            "    self._shutdown_workers()\n",
            "  File \"/usr/local/lib/python3.10/dist-packages/torch/utils/data/dataloader.py\", line 1461, in _shutdown_workers\n",
            "Loss=1.1715081930160522 Batch_id=68 Accuracy=54.38:  70%|███████   | 69/98 [00:10<00:07,  4.10it/s]    if w.is_alive():\n",
            "  File \"/usr/lib/python3.10/multiprocessing/process.py\", line 160, in is_alive\n",
            "    assert self._parent_pid == os.getpid(), 'can only test a child process'\n",
            "Loss=1.1695611476898193 Batch_id=69 Accuracy=54.41:  71%|███████▏  | 70/98 [00:10<00:06,  4.58it/s]can only test a child process\n",
            "Loss=1.2988522052764893 Batch_id=97 Accuracy=54.80: 100%|██████████| 98/98 [00:14<00:00,  6.97it/s]\n"
          ]
        },
        {
          "metadata": {
            "tags": null
          },
          "name": "stdout",
          "output_type": "stream",
          "text": [
            "\n",
            "Test set: Average loss: 1.0276, Accuracy: 6299/10000 (62.99%)\n",
            "\n",
            "EPOCH: 4\n"
          ]
        },
        {
          "metadata": {
            "tags": null
          },
          "name": "stderr",
          "output_type": "stream",
          "text": [
            "Loss=1.2019981145858765 Batch_id=43 Accuracy=57.48:  44%|████▍     | 43/98 [00:06<00:06,  8.68it/s]Exception ignored in: <function _MultiProcessingDataLoaderIter.__del__ at 0x7f3a168d8310>\n",
            "Traceback (most recent call last):\n",
            "Exception ignored in:   File \"/usr/local/lib/python3.10/dist-packages/torch/utils/data/dataloader.py\", line 1478, in __del__\n",
            "    <function _MultiProcessingDataLoaderIter.__del__ at 0x7f3a168d8310>\n",
            "self._shutdown_workers()\n",
            "Traceback (most recent call last):\n",
            "  File \"/usr/local/lib/python3.10/dist-packages/torch/utils/data/dataloader.py\", line 1461, in _shutdown_workers\n",
            "  File \"/usr/local/lib/python3.10/dist-packages/torch/utils/data/dataloader.py\", line 1478, in __del__\n",
            "        if w.is_alive():\n",
            "Exception ignored in:   File \"/usr/lib/python3.10/multiprocessing/process.py\", line 160, in is_alive\n",
            "    <function _MultiProcessingDataLoaderIter.__del__ at 0x7f3a168d8310>self._shutdown_workers()assert self._parent_pid == os.getpid(), 'can only test a child process'\n",
            "\n",
            "Traceback (most recent call last):\n",
            "AssertionError  File \"/usr/local/lib/python3.10/dist-packages/torch/utils/data/dataloader.py\", line 1478, in __del__\n",
            "\n",
            ":       File \"/usr/local/lib/python3.10/dist-packages/torch/utils/data/dataloader.py\", line 1461, in _shutdown_workers\n",
            "can only test a child processself._shutdown_workers()    \n",
            "\n",
            "if w.is_alive():\n",
            "  File \"/usr/lib/python3.10/multiprocessing/process.py\", line 160, in is_alive\n",
            "  File \"/usr/local/lib/python3.10/dist-packages/torch/utils/data/dataloader.py\", line 1461, in _shutdown_workers\n",
            "        assert self._parent_pid == os.getpid(), 'can only test a child process'if w.is_alive():\n",
            "\n",
            "AssertionError  File \"/usr/lib/python3.10/multiprocessing/process.py\", line 160, in is_alive\n",
            ":     Exception ignored in: can only test a child processassert self._parent_pid == os.getpid(), 'can only test a child process'\n",
            "<function _MultiProcessingDataLoaderIter.__del__ at 0x7f3a168d8310>\n",
            "AssertionError\n",
            ": Traceback (most recent call last):\n",
            "can only test a child process  File \"/usr/local/lib/python3.10/dist-packages/torch/utils/data/dataloader.py\", line 1478, in __del__\n",
            "\n",
            "    self._shutdown_workers()\n",
            "  File \"/usr/local/lib/python3.10/dist-packages/torch/utils/data/dataloader.py\", line 1461, in _shutdown_workers\n",
            "    if w.is_alive():\n",
            "  File \"/usr/lib/python3.10/multiprocessing/process.py\", line 160, in is_alive\n",
            "    assert self._parent_pid == os.getpid(), 'can only test a child process'\n",
            "AssertionError: can only test a child process\n",
            "Loss=1.1885430812835693 Batch_id=97 Accuracy=58.04: 100%|██████████| 98/98 [00:14<00:00,  6.94it/s]\n"
          ]
        },
        {
          "metadata": {
            "tags": null
          },
          "name": "stdout",
          "output_type": "stream",
          "text": [
            "\n",
            "Test set: Average loss: 1.0697, Accuracy: 6337/10000 (63.37%)\n",
            "\n",
            "EPOCH: 5\n"
          ]
        },
        {
          "metadata": {
            "tags": null
          },
          "name": "stderr",
          "output_type": "stream",
          "text": [
            "Loss=1.1108086109161377 Batch_id=63 Accuracy=60.40:  65%|██████▌   | 64/98 [00:07<00:03,  9.72it/s]Exception ignored in: <function _MultiProcessingDataLoaderIter.__del__ at 0x7f3a168d8310>\n",
            "Traceback (most recent call last):\n",
            "  File \"/usr/local/lib/python3.10/dist-packages/torch/utils/data/dataloader.py\", line 1478, in __del__\n",
            "    self._shutdown_workers()\n",
            "  File \"/usr/local/lib/python3.10/dist-packages/torch/utils/data/dataloader.py\", line 1461, in _shutdown_workers\n",
            "    if w.is_alive():\n",
            "  File \"/usr/lib/python3.10/multiprocessing/process.py\", line 160, in is_alive\n",
            "Exception ignored in: <function _MultiProcessingDataLoaderIter.__del__ at 0x7f3a168d8310>    \n",
            "assert self._parent_pid == os.getpid(), 'can only test a child process'Traceback (most recent call last):\n",
            "\n",
            "  File \"/usr/local/lib/python3.10/dist-packages/torch/utils/data/dataloader.py\", line 1478, in __del__\n",
            "AssertionError    : self._shutdown_workers()can only test a child process\n",
            "\n",
            "  File \"/usr/local/lib/python3.10/dist-packages/torch/utils/data/dataloader.py\", line 1461, in _shutdown_workers\n",
            "    if w.is_alive():\n",
            "  File \"/usr/lib/python3.10/multiprocessing/process.py\", line 160, in is_alive\n",
            "    assert self._parent_pid == os.getpid(), 'can only test a child process'\n",
            "Loss=1.1088528633117676 Batch_id=64 Accuracy=60.40:  65%|██████▌   | 64/98 [00:08<00:03,  9.72it/s]: can only test a child processException ignored in: <function _MultiProcessingDataLoaderIter.__del__ at 0x7f3a168d8310>\n",
            "\n",
            "Traceback (most recent call last):\n",
            "  File \"/usr/local/lib/python3.10/dist-packages/torch/utils/data/dataloader.py\", line 1478, in __del__\n",
            "    if w.is_alive():self._shutdown_workers()\n",
            "  File \"/usr/local/lib/python3.10/dist-packages/torch/utils/data/dataloader.py\", line 1461, in _shutdown_workers\n",
            "Loss=1.0604051351547241 Batch_id=65 Accuracy=60.43:  67%|██████▋   | 66/98 [00:08<00:07,  4.47it/s]\n",
            "  File \"/usr/lib/python3.10/multiprocessing/process.py\", line 160, in is_alive\n",
            "    assert self._parent_pid == os.getpid(), 'can only test a child process'\n",
            "AssertionError: can only test a child process\n",
            "Exception ignored in: <function _MultiProcessingDataLoaderIter.__del__ at 0x7f3a168d8310>\n",
            "Traceback (most recent call last):\n",
            "  File \"/usr/local/lib/python3.10/dist-packages/torch/utils/data/dataloader.py\", line 1478, in __del__\n",
            "    self._shutdown_workers()\n",
            "  File \"/usr/local/lib/python3.10/dist-packages/torch/utils/data/dataloader.py\", line 1461, in _shutdown_workers\n",
            "    if w.is_alive():\n",
            "  File \"/usr/lib/python3.10/multiprocessing/process.py\", line 160, in is_alive\n",
            "    assert self._parent_pid == os.getpid(), 'can only test a child process'\n",
            "AssertionError: can only test a child process\n",
            "Loss=1.0914921760559082 Batch_id=97 Accuracy=60.67: 100%|██████████| 98/98 [00:13<00:00,  7.19it/s]\n"
          ]
        },
        {
          "metadata": {
            "tags": null
          },
          "name": "stdout",
          "output_type": "stream",
          "text": [
            "\n",
            "Test set: Average loss: 0.9224, Accuracy: 6829/10000 (68.29%)\n",
            "\n",
            "EPOCH: 6\n"
          ]
        },
        {
          "metadata": {
            "tags": null
          },
          "name": "stderr",
          "output_type": "stream",
          "text": [
            "Loss=1.0440300703048706 Batch_id=39 Accuracy=61.77:  41%|████      | 40/98 [00:05<00:06,  8.99it/s]Exception ignored in: <function _MultiProcessingDataLoaderIter.__del__ at 0x7f3a168d8310>\n",
            "Traceback (most recent call last):\n",
            "Exception ignored in: <function _MultiProcessingDataLoaderIter.__del__ at 0x7f3a168d8310>  File \"/usr/local/lib/python3.10/dist-packages/torch/utils/data/dataloader.py\", line 1478, in __del__\n",
            "Exception ignored in:     \n",
            "<function _MultiProcessingDataLoaderIter.__del__ at 0x7f3a168d8310>Traceback (most recent call last):\n",
            "self._shutdown_workers()\n",
            "  File \"/usr/local/lib/python3.10/dist-packages/torch/utils/data/dataloader.py\", line 1478, in __del__\n",
            "\n",
            "Traceback (most recent call last):\n",
            "  File \"/usr/local/lib/python3.10/dist-packages/torch/utils/data/dataloader.py\", line 1478, in __del__\n",
            "  File \"/usr/local/lib/python3.10/dist-packages/torch/utils/data/dataloader.py\", line 1461, in _shutdown_workers\n",
            "        self._shutdown_workers()    \n",
            "if w.is_alive():self._shutdown_workers()  File \"/usr/local/lib/python3.10/dist-packages/torch/utils/data/dataloader.py\", line 1461, in _shutdown_workers\n",
            "\n",
            "      File \"/usr/lib/python3.10/multiprocessing/process.py\", line 160, in is_alive\n",
            "if w.is_alive():    \n",
            "assert self._parent_pid == os.getpid(), 'can only test a child process'\n",
            "  File \"/usr/lib/python3.10/multiprocessing/process.py\", line 160, in is_alive\n",
            "\n",
            "      File \"/usr/local/lib/python3.10/dist-packages/torch/utils/data/dataloader.py\", line 1461, in _shutdown_workers\n",
            "AssertionErrorassert self._parent_pid == os.getpid(), 'can only test a child process': \n",
            "can only test a child process    \n",
            "if w.is_alive():AssertionError: can only test a child process\n",
            "Exception ignored in: \n",
            "  File \"/usr/lib/python3.10/multiprocessing/process.py\", line 160, in is_alive\n",
            "<function _MultiProcessingDataLoaderIter.__del__ at 0x7f3a168d8310>    assert self._parent_pid == os.getpid(), 'can only test a child process'\n",
            "\n",
            "AssertionError: Traceback (most recent call last):\n",
            "  File \"/usr/local/lib/python3.10/dist-packages/torch/utils/data/dataloader.py\", line 1478, in __del__\n",
            "can only test a child process\n",
            "    self._shutdown_workers()\n",
            "  File \"/usr/local/lib/python3.10/dist-packages/torch/utils/data/dataloader.py\", line 1461, in _shutdown_workers\n",
            "    if w.is_alive():\n",
            "  File \"/usr/lib/python3.10/multiprocessing/process.py\", line 160, in is_alive\n",
            "    assert self._parent_pid == os.getpid(), 'can only test a child process'\n",
            "AssertionError: can only test a child process\n",
            "Loss=1.0365709066390991 Batch_id=97 Accuracy=62.67: 100%|██████████| 98/98 [00:13<00:00,  7.13it/s]\n"
          ]
        },
        {
          "metadata": {
            "tags": null
          },
          "name": "stdout",
          "output_type": "stream",
          "text": [
            "\n",
            "Test set: Average loss: 0.8462, Accuracy: 7034/10000 (70.34%)\n",
            "\n",
            "EPOCH: 7\n"
          ]
        },
        {
          "metadata": {
            "tags": null
          },
          "name": "stderr",
          "output_type": "stream",
          "text": [
            "Loss=1.1327688694000244 Batch_id=35 Accuracy=64.25:  36%|███▌      | 35/98 [00:06<00:10,  6.15it/s]Exception ignored in: <function _MultiProcessingDataLoaderIter.__del__ at 0x7f3a168d8310>\n",
            "Traceback (most recent call last):\n",
            "  File \"/usr/local/lib/python3.10/dist-packages/torch/utils/data/dataloader.py\", line 1478, in __del__\n",
            "    self._shutdown_workers()\n",
            "  File \"/usr/local/lib/python3.10/dist-packages/torch/utils/data/dataloader.py\", line 1461, in _shutdown_workers\n",
            "    if w.is_alive():\n",
            "  File \"/usr/lib/python3.10/multiprocessing/process.py\", line 160, in is_alive\n",
            "    assert self._parent_pid == os.getpid(), 'can only test a child process'\n",
            "AssertionError: can only test a child processException ignored in: <function _MultiProcessingDataLoaderIter.__del__ at 0x7f3a168d8310>\n",
            "\n",
            "Traceback (most recent call last):\n",
            "  File \"/usr/local/lib/python3.10/dist-packages/torch/utils/data/dataloader.py\", line 1478, in __del__\n",
            "Exception ignored in: <function _MultiProcessingDataLoaderIter.__del__ at 0x7f3a168d8310>    \n",
            "self._shutdown_workers()Exception ignored in: <function _MultiProcessingDataLoaderIter.__del__ at 0x7f3a168d8310>Traceback (most recent call last):\n",
            "  File \"/usr/local/lib/python3.10/dist-packages/torch/utils/data/dataloader.py\", line 1478, in __del__\n",
            "\n",
            "\n",
            "    Traceback (most recent call last):\n",
            "  File \"/usr/local/lib/python3.10/dist-packages/torch/utils/data/dataloader.py\", line 1461, in _shutdown_workers\n",
            "self._shutdown_workers()  File \"/usr/local/lib/python3.10/dist-packages/torch/utils/data/dataloader.py\", line 1478, in __del__\n",
            "    \n",
            "if w.is_alive():\n",
            "  File \"/usr/local/lib/python3.10/dist-packages/torch/utils/data/dataloader.py\", line 1461, in _shutdown_workers\n",
            "      File \"/usr/lib/python3.10/multiprocessing/process.py\", line 160, in is_alive\n",
            "    self._shutdown_workers()if w.is_alive():\n",
            "\n",
            "      File \"/usr/local/lib/python3.10/dist-packages/torch/utils/data/dataloader.py\", line 1461, in _shutdown_workers\n",
            "  File \"/usr/lib/python3.10/multiprocessing/process.py\", line 160, in is_alive\n",
            "    assert self._parent_pid == os.getpid(), 'can only test a child process'    if w.is_alive():\n",
            "assert self._parent_pid == os.getpid(), 'can only test a child process'AssertionError: can only test a child process\n",
            "  File \"/usr/lib/python3.10/multiprocessing/process.py\", line 160, in is_alive\n",
            "\n",
            "\n",
            "    assert self._parent_pid == os.getpid(), 'can only test a child process'\n",
            "AssertionErrorAssertionError: : can only test a child processcan only test a child process\n",
            "\n",
            "Loss=1.1121870279312134 Batch_id=97 Accuracy=64.86: 100%|██████████| 98/98 [00:14<00:00,  6.76it/s]\n"
          ]
        },
        {
          "metadata": {
            "tags": null
          },
          "name": "stdout",
          "output_type": "stream",
          "text": [
            "\n",
            "Test set: Average loss: 0.8645, Accuracy: 7037/10000 (70.37%)\n",
            "\n",
            "EPOCH: 8\n"
          ]
        },
        {
          "metadata": {
            "tags": null
          },
          "name": "stderr",
          "output_type": "stream",
          "text": [
            "Loss=0.9990196228027344 Batch_id=11 Accuracy=65.46:  12%|█▏        | 12/98 [00:02<00:12,  6.92it/s]Exception ignored in: <function _MultiProcessingDataLoaderIter.__del__ at 0x7f3a168d8310>\n",
            "Exception ignored in: Traceback (most recent call last):\n",
            "  File \"/usr/local/lib/python3.10/dist-packages/torch/utils/data/dataloader.py\", line 1478, in __del__\n",
            "<function _MultiProcessingDataLoaderIter.__del__ at 0x7f3a168d8310>\n",
            "    Traceback (most recent call last):\n",
            "  File \"/usr/local/lib/python3.10/dist-packages/torch/utils/data/dataloader.py\", line 1478, in __del__\n",
            "    self._shutdown_workers()self._shutdown_workers()\n",
            "  File \"/usr/local/lib/python3.10/dist-packages/torch/utils/data/dataloader.py\", line 1461, in _shutdown_workers\n",
            "    if w.is_alive():\n",
            "  File \"/usr/lib/python3.10/multiprocessing/process.py\", line 160, in is_alive\n",
            "    assert self._parent_pid == os.getpid(), 'can only test a child process'\n",
            "AssertionError: can only test a child process\n",
            "\n",
            "Exception ignored in:   File \"/usr/local/lib/python3.10/dist-packages/torch/utils/data/dataloader.py\", line 1461, in _shutdown_workers\n",
            "<function _MultiProcessingDataLoaderIter.__del__ at 0x7f3a168d8310>    \n",
            "if w.is_alive():Traceback (most recent call last):\n",
            "  File \"/usr/local/lib/python3.10/dist-packages/torch/utils/data/dataloader.py\", line 1478, in __del__\n",
            "\n",
            "  File \"/usr/lib/python3.10/multiprocessing/process.py\", line 160, in is_alive\n",
            "    self._shutdown_workers()    assert self._parent_pid == os.getpid(), 'can only test a child process'\n",
            "  File \"/usr/local/lib/python3.10/dist-packages/torch/utils/data/dataloader.py\", line 1461, in _shutdown_workers\n",
            "    if w.is_alive():\n",
            "Exception ignored in: \n",
            "AssertionError  File \"/usr/lib/python3.10/multiprocessing/process.py\", line 160, in is_alive\n",
            "<function _MultiProcessingDataLoaderIter.__del__ at 0x7f3a168d8310>\n",
            "    : Traceback (most recent call last):\n",
            "assert self._parent_pid == os.getpid(), 'can only test a child process'can only test a child process  File \"/usr/local/lib/python3.10/dist-packages/torch/utils/data/dataloader.py\", line 1478, in __del__\n",
            "\n",
            "\n",
            "AssertionError    : self._shutdown_workers()can only test a child process\n",
            "  File \"/usr/local/lib/python3.10/dist-packages/torch/utils/data/dataloader.py\", line 1461, in _shutdown_workers\n",
            "\n",
            "    if w.is_alive():\n",
            "  File \"/usr/lib/python3.10/multiprocessing/process.py\", line 160, in is_alive\n",
            "    assert self._parent_pid == os.getpid(), 'can only test a child process'\n",
            "AssertionError: can only test a child process\n",
            "Loss=0.8951553106307983 Batch_id=97 Accuracy=66.08: 100%|██████████| 98/98 [00:13<00:00,  7.28it/s]\n",
            "Exception ignored in: Exception ignored in: <function _MultiProcessingDataLoaderIter.__del__ at 0x7f3a168d8310>\n",
            "<function _MultiProcessingDataLoaderIter.__del__ at 0x7f3a168d8310>Traceback (most recent call last):\n",
            "\n",
            "Exception ignored in: Traceback (most recent call last):\n",
            "<function _MultiProcessingDataLoaderIter.__del__ at 0x7f3a168d8310>  File \"/usr/local/lib/python3.10/dist-packages/torch/utils/data/dataloader.py\", line 1478, in __del__\n",
            "    \n",
            "Traceback (most recent call last):\n",
            "self._shutdown_workers()  File \"/usr/local/lib/python3.10/dist-packages/torch/utils/data/dataloader.py\", line 1478, in __del__\n",
            "    \n",
            "  File \"/usr/local/lib/python3.10/dist-packages/torch/utils/data/dataloader.py\", line 1478, in __del__\n",
            "Exception ignored in: self._shutdown_workers()<function _MultiProcessingDataLoaderIter.__del__ at 0x7f3a168d8310>\n",
            "  File \"/usr/local/lib/python3.10/dist-packages/torch/utils/data/dataloader.py\", line 1461, in _shutdown_workers\n",
            "    \n",
            "  File \"/usr/local/lib/python3.10/dist-packages/torch/utils/data/dataloader.py\", line 1461, in _shutdown_workers\n",
            "self._shutdown_workers()Traceback (most recent call last):\n",
            "    \n",
            "  File \"/usr/local/lib/python3.10/dist-packages/torch/utils/data/dataloader.py\", line 1478, in __del__\n",
            "if w.is_alive():  File \"/usr/local/lib/python3.10/dist-packages/torch/utils/data/dataloader.py\", line 1461, in _shutdown_workers\n",
            "        \n",
            "self._shutdown_workers()if w.is_alive():  File \"/usr/lib/python3.10/multiprocessing/process.py\", line 160, in is_alive\n",
            "\n",
            "\n",
            "    \n",
            "      File \"/usr/local/lib/python3.10/dist-packages/torch/utils/data/dataloader.py\", line 1461, in _shutdown_workers\n",
            "  File \"/usr/lib/python3.10/multiprocessing/process.py\", line 160, in is_alive\n",
            "if w.is_alive():    \n",
            "    if w.is_alive():  File \"/usr/lib/python3.10/multiprocessing/process.py\", line 160, in is_alive\n",
            "assert self._parent_pid == os.getpid(), 'can only test a child process'\n",
            "    \n",
            "  File \"/usr/lib/python3.10/multiprocessing/process.py\", line 160, in is_alive\n",
            "assert self._parent_pid == os.getpid(), 'can only test a child process'AssertionErrorassert self._parent_pid == os.getpid(), 'can only test a child process'\n",
            ": AssertionErrorcan only test a child processAssertionError: : \n",
            "can only test a child processcan only test a child process    \n",
            "\n",
            "assert self._parent_pid == os.getpid(), 'can only test a child process'\n",
            "AssertionError: can only test a child process\n"
          ]
        },
        {
          "metadata": {
            "tags": null
          },
          "name": "stdout",
          "output_type": "stream",
          "text": [
            "\n",
            "Test set: Average loss: 0.8220, Accuracy: 7128/10000 (71.28%)\n",
            "\n",
            "EPOCH: 9\n"
          ]
        },
        {
          "metadata": {
            "tags": null
          },
          "name": "stderr",
          "output_type": "stream",
          "text": [
            "Loss=0.9420729875564575 Batch_id=31 Accuracy=67.07:  32%|███▏      | 31/98 [00:04<00:07,  9.44it/s]Exception ignored in: <function _MultiProcessingDataLoaderIter.__del__ at 0x7f3a168d8310>\n",
            "Exception ignored in: <function _MultiProcessingDataLoaderIter.__del__ at 0x7f3a168d8310>Traceback (most recent call last):\n",
            "Exception ignored in: \n",
            "<function _MultiProcessingDataLoaderIter.__del__ at 0x7f3a168d8310>  File \"/usr/local/lib/python3.10/dist-packages/torch/utils/data/dataloader.py\", line 1478, in __del__\n",
            "Traceback (most recent call last):\n",
            "\n",
            "    Traceback (most recent call last):\n",
            "self._shutdown_workers()\n",
            "  File \"/usr/local/lib/python3.10/dist-packages/torch/utils/data/dataloader.py\", line 1478, in __del__\n",
            "  File \"/usr/local/lib/python3.10/dist-packages/torch/utils/data/dataloader.py\", line 1461, in _shutdown_workers\n",
            "      File \"/usr/local/lib/python3.10/dist-packages/torch/utils/data/dataloader.py\", line 1478, in __del__\n",
            "        if w.is_alive():self._shutdown_workers()self._shutdown_workers()\n",
            "\n",
            "  File \"/usr/local/lib/python3.10/dist-packages/torch/utils/data/dataloader.py\", line 1461, in _shutdown_workers\n",
            "\n",
            "  File \"/usr/lib/python3.10/multiprocessing/process.py\", line 160, in is_alive\n",
            "  File \"/usr/local/lib/python3.10/dist-packages/torch/utils/data/dataloader.py\", line 1461, in _shutdown_workers\n",
            "            if w.is_alive():assert self._parent_pid == os.getpid(), 'can only test a child process'if w.is_alive():\n",
            "\n",
            "Exception ignored in:   File \"/usr/lib/python3.10/multiprocessing/process.py\", line 160, in is_alive\n",
            "\n",
            "<function _MultiProcessingDataLoaderIter.__del__ at 0x7f3a168d8310>AssertionError\n",
            "      File \"/usr/lib/python3.10/multiprocessing/process.py\", line 160, in is_alive\n",
            ":     Traceback (most recent call last):\n",
            "assert self._parent_pid == os.getpid(), 'can only test a child process'can only test a child processassert self._parent_pid == os.getpid(), 'can only test a child process'  File \"/usr/local/lib/python3.10/dist-packages/torch/utils/data/dataloader.py\", line 1478, in __del__\n",
            "\n",
            "\n",
            "    AssertionErrorAssertionError\n",
            ": self._shutdown_workers(): \n",
            "can only test a child process  File \"/usr/local/lib/python3.10/dist-packages/torch/utils/data/dataloader.py\", line 1461, in _shutdown_workers\n",
            "    \n",
            "can only test a child processif w.is_alive():\n",
            "\n",
            "  File \"/usr/lib/python3.10/multiprocessing/process.py\", line 160, in is_alive\n",
            "    assert self._parent_pid == os.getpid(), 'can only test a child process'\n",
            "AssertionError: can only test a child process\n",
            "Loss=0.8647370934486389 Batch_id=97 Accuracy=67.35: 100%|██████████| 98/98 [00:13<00:00,  7.07it/s]\n",
            "Exception ignored in: Exception ignored in: <function _MultiProcessingDataLoaderIter.__del__ at 0x7f3a168d8310><function _MultiProcessingDataLoaderIter.__del__ at 0x7f3a168d8310>\n",
            "Traceback (most recent call last):\n",
            "\n",
            "  File \"/usr/local/lib/python3.10/dist-packages/torch/utils/data/dataloader.py\", line 1478, in __del__\n",
            "Traceback (most recent call last):\n",
            "  File \"/usr/local/lib/python3.10/dist-packages/torch/utils/data/dataloader.py\", line 1478, in __del__\n",
            "Exception ignored in:     <function _MultiProcessingDataLoaderIter.__del__ at 0x7f3a168d8310>    self._shutdown_workers()self._shutdown_workers()Exception ignored in: \n",
            "\n",
            "<function _MultiProcessingDataLoaderIter.__del__ at 0x7f3a168d8310>\n",
            "Traceback (most recent call last):\n",
            "\n",
            "  File \"/usr/local/lib/python3.10/dist-packages/torch/utils/data/dataloader.py\", line 1461, in _shutdown_workers\n",
            "  File \"/usr/local/lib/python3.10/dist-packages/torch/utils/data/dataloader.py\", line 1461, in _shutdown_workers\n",
            "  File \"/usr/local/lib/python3.10/dist-packages/torch/utils/data/dataloader.py\", line 1478, in __del__\n",
            "    if w.is_alive():\n",
            "  File \"/usr/lib/python3.10/multiprocessing/process.py\", line 160, in is_alive\n",
            "    assert self._parent_pid == os.getpid(), 'can only test a child process'    Traceback (most recent call last):\n",
            "\n",
            "    \n",
            "    : can only test a child processif w.is_alive():\n",
            "    self._shutdown_workers()\n",
            "AssertionErrorself._shutdown_workers()  File \"/usr/local/lib/python3.10/dist-packages/torch/utils/data/dataloader.py\", line 1478, in __del__\n",
            "  File \"/usr/local/lib/python3.10/dist-packages/torch/utils/data/dataloader.py\", line 1461, in _shutdown_workers\n",
            "\n",
            "  File \"/usr/lib/python3.10/multiprocessing/process.py\", line 160, in is_alive\n",
            "if w.is_alive():  File \"/usr/local/lib/python3.10/dist-packages/torch/utils/data/dataloader.py\", line 1461, in _shutdown_workers\n",
            "\n",
            "        if w.is_alive():\n",
            "  File \"/usr/lib/python3.10/multiprocessing/process.py\", line 160, in is_alive\n",
            "    assert self._parent_pid == os.getpid(), 'can only test a child process'assert self._parent_pid == os.getpid(), 'can only test a child process'  File \"/usr/lib/python3.10/multiprocessing/process.py\", line 160, in is_alive\n",
            "\n",
            "    assert self._parent_pid == os.getpid(), 'can only test a child process'\n",
            "AssertionError\n",
            "AssertionError: AssertionError: can only test a child processcan only test a child process: can only test a child process\n",
            "\n",
            "\n"
          ]
        },
        {
          "metadata": {
            "tags": null
          },
          "name": "stdout",
          "output_type": "stream",
          "text": [
            "\n",
            "Test set: Average loss: 0.7257, Accuracy: 7533/10000 (75.33%)\n",
            "\n",
            "EPOCH: 10\n"
          ]
        },
        {
          "metadata": {
            "tags": null
          },
          "name": "stderr",
          "output_type": "stream",
          "text": [
            "Loss=0.9229974150657654 Batch_id=7 Accuracy=68.36:   8%|▊         | 8/98 [00:01<00:10,  8.38it/s]Exception ignored in: <function _MultiProcessingDataLoaderIter.__del__ at 0x7f3a168d8310>\n",
            "Exception ignored in: Exception ignored in: Traceback (most recent call last):\n",
            "<function _MultiProcessingDataLoaderIter.__del__ at 0x7f3a168d8310><function _MultiProcessingDataLoaderIter.__del__ at 0x7f3a168d8310>Exception ignored in:   File \"/usr/local/lib/python3.10/dist-packages/torch/utils/data/dataloader.py\", line 1478, in __del__\n",
            "\n",
            "    Traceback (most recent call last):\n",
            "\n",
            "Traceback (most recent call last):\n",
            "<function _MultiProcessingDataLoaderIter.__del__ at 0x7f3a168d8310>  File \"/usr/local/lib/python3.10/dist-packages/torch/utils/data/dataloader.py\", line 1478, in __del__\n",
            "    self._shutdown_workers()  File \"/usr/local/lib/python3.10/dist-packages/torch/utils/data/dataloader.py\", line 1478, in __del__\n",
            "\n",
            "self._shutdown_workers()\n",
            "    \n",
            "self._shutdown_workers()Traceback (most recent call last):\n",
            "  File \"/usr/local/lib/python3.10/dist-packages/torch/utils/data/dataloader.py\", line 1461, in _shutdown_workers\n",
            "\n",
            "  File \"/usr/local/lib/python3.10/dist-packages/torch/utils/data/dataloader.py\", line 1461, in _shutdown_workers\n",
            "      File \"/usr/local/lib/python3.10/dist-packages/torch/utils/data/dataloader.py\", line 1478, in __del__\n",
            "if w.is_alive():  File \"/usr/local/lib/python3.10/dist-packages/torch/utils/data/dataloader.py\", line 1461, in _shutdown_workers\n",
            "    \n",
            "        self._shutdown_workers()if w.is_alive():  File \"/usr/lib/python3.10/multiprocessing/process.py\", line 160, in is_alive\n",
            "if w.is_alive():\n",
            "\n",
            "      File \"/usr/local/lib/python3.10/dist-packages/torch/utils/data/dataloader.py\", line 1461, in _shutdown_workers\n",
            "\n",
            "assert self._parent_pid == os.getpid(), 'can only test a child process'      File \"/usr/lib/python3.10/multiprocessing/process.py\", line 160, in is_alive\n",
            "  File \"/usr/lib/python3.10/multiprocessing/process.py\", line 160, in is_alive\n",
            "    assert self._parent_pid == os.getpid(), 'can only test a child process'\n",
            "    if w.is_alive():\n",
            "AssertionErrorAssertionError\n",
            ":   File \"/usr/lib/python3.10/multiprocessing/process.py\", line 160, in is_alive\n",
            "assert self._parent_pid == os.getpid(), 'can only test a child process': can only test a child process    \n",
            "assert self._parent_pid == os.getpid(), 'can only test a child process'AssertionError: can only test a child process\n",
            "\n",
            "\n",
            "can only test a child process\n",
            "AssertionError: can only test a child process\n",
            "Loss=0.8019331693649292 Batch_id=97 Accuracy=68.49: 100%|██████████| 98/98 [00:13<00:00,  7.14it/s]\n",
            "Exception ignored in: <function _MultiProcessingDataLoaderIter.__del__ at 0x7f3a168d8310>\n",
            "Traceback (most recent call last):\n",
            "  File \"/usr/local/lib/python3.10/dist-packages/torch/utils/data/dataloader.py\", line 1478, in __del__\n",
            "    self._shutdown_workers()\n",
            "  File \"/usr/local/lib/python3.10/dist-packages/torch/utils/data/dataloader.py\", line 1461, in _shutdown_workers\n",
            "    if w.is_alive():\n",
            "  File \"/usr/lib/python3.10/multiprocessing/process.py\", line 160, in is_alive\n",
            "    assert self._parent_pid == os.getpid(), 'can only test a child process'\n",
            "AssertionErrorException ignored in: : <function _MultiProcessingDataLoaderIter.__del__ at 0x7f3a168d8310>can only test a child processException ignored in: \n",
            "\n",
            "Traceback (most recent call last):\n",
            "<function _MultiProcessingDataLoaderIter.__del__ at 0x7f3a168d8310>  File \"/usr/local/lib/python3.10/dist-packages/torch/utils/data/dataloader.py\", line 1478, in __del__\n",
            "\n",
            "    Traceback (most recent call last):\n",
            "self._shutdown_workers()  File \"/usr/local/lib/python3.10/dist-packages/torch/utils/data/dataloader.py\", line 1478, in __del__\n",
            "\n",
            "      File \"/usr/local/lib/python3.10/dist-packages/torch/utils/data/dataloader.py\", line 1461, in _shutdown_workers\n",
            "self._shutdown_workers()Exception ignored in:     <function _MultiProcessingDataLoaderIter.__del__ at 0x7f3a168d8310>\n",
            "if w.is_alive():\n",
            "  File \"/usr/local/lib/python3.10/dist-packages/torch/utils/data/dataloader.py\", line 1461, in _shutdown_workers\n",
            "      File \"/usr/lib/python3.10/multiprocessing/process.py\", line 160, in is_alive\n",
            "\n",
            "    assert self._parent_pid == os.getpid(), 'can only test a child process'Traceback (most recent call last):\n",
            "\n",
            "if w.is_alive():  File \"/usr/local/lib/python3.10/dist-packages/torch/utils/data/dataloader.py\", line 1478, in __del__\n",
            "AssertionError\n",
            ":   File \"/usr/lib/python3.10/multiprocessing/process.py\", line 160, in is_alive\n",
            "can only test a child process    \n",
            "assert self._parent_pid == os.getpid(), 'can only test a child process'\n",
            "    AssertionErrorself._shutdown_workers()  File \"/usr/local/lib/python3.10/dist-packages/torch/utils/data/dataloader.py\", line 1461, in _shutdown_workers\n",
            "can only test a child process\n",
            "\n",
            ":     if w.is_alive():\n",
            "  File \"/usr/lib/python3.10/multiprocessing/process.py\", line 160, in is_alive\n",
            "    assert self._parent_pid == os.getpid(), 'can only test a child process'\n",
            "AssertionError: can only test a child process\n"
          ]
        },
        {
          "metadata": {
            "tags": null
          },
          "name": "stdout",
          "output_type": "stream",
          "text": [
            "\n",
            "Test set: Average loss: 0.7624, Accuracy: 7398/10000 (73.98%)\n",
            "\n",
            "EPOCH: 11\n"
          ]
        },
        {
          "metadata": {
            "tags": null
          },
          "name": "stderr",
          "output_type": "stream",
          "text": [
            "Loss=1.0069769620895386 Batch_id=3 Accuracy=67.14:   4%|▍         | 4/98 [00:01<00:18,  5.09it/s]Exception ignored in: <function _MultiProcessingDataLoaderIter.__del__ at 0x7f3a168d8310>\n",
            "Traceback (most recent call last):\n",
            "  File \"/usr/local/lib/python3.10/dist-packages/torch/utils/data/dataloader.py\", line 1478, in __del__\n",
            "    self._shutdown_workers()\n",
            "  File \"/usr/local/lib/python3.10/dist-packages/torch/utils/data/dataloader.py\", line 1461, in _shutdown_workers\n",
            "    if w.is_alive():\n",
            "  File \"/usr/lib/python3.10/multiprocessing/process.py\", line 160, in is_alive\n",
            "    assert self._parent_pid == os.getpid(), 'can only test a child process'\n",
            "AssertionError: can only test a child process\n",
            "Exception ignored in: <function _MultiProcessingDataLoaderIter.__del__ at 0x7f3a168d8310>\n",
            "Exception ignored in: Traceback (most recent call last):\n",
            "  File \"/usr/local/lib/python3.10/dist-packages/torch/utils/data/dataloader.py\", line 1478, in __del__\n",
            "<function _MultiProcessingDataLoaderIter.__del__ at 0x7f3a168d8310>Exception ignored in: \n",
            "    <function _MultiProcessingDataLoaderIter.__del__ at 0x7f3a168d8310>Traceback (most recent call last):\n",
            "self._shutdown_workers()  File \"/usr/local/lib/python3.10/dist-packages/torch/utils/data/dataloader.py\", line 1478, in __del__\n",
            "\n",
            "\n",
            "  File \"/usr/local/lib/python3.10/dist-packages/torch/utils/data/dataloader.py\", line 1461, in _shutdown_workers\n",
            "    Traceback (most recent call last):\n",
            "  File \"/usr/local/lib/python3.10/dist-packages/torch/utils/data/dataloader.py\", line 1478, in __del__\n",
            "    self._shutdown_workers()\n",
            "if w.is_alive():      File \"/usr/local/lib/python3.10/dist-packages/torch/utils/data/dataloader.py\", line 1461, in _shutdown_workers\n",
            "self._shutdown_workers()\n",
            "  File \"/usr/lib/python3.10/multiprocessing/process.py\", line 160, in is_alive\n",
            "\n",
            "      File \"/usr/local/lib/python3.10/dist-packages/torch/utils/data/dataloader.py\", line 1461, in _shutdown_workers\n",
            "        assert self._parent_pid == os.getpid(), 'can only test a child process'if w.is_alive():if w.is_alive():\n",
            "AssertionError\n",
            "\n",
            ":   File \"/usr/lib/python3.10/multiprocessing/process.py\", line 160, in is_alive\n",
            "can only test a child process  File \"/usr/lib/python3.10/multiprocessing/process.py\", line 160, in is_alive\n",
            "        \n",
            "assert self._parent_pid == os.getpid(), 'can only test a child process'\n",
            "assert self._parent_pid == os.getpid(), 'can only test a child process'AssertionError\n",
            "Loss=0.9428816437721252 Batch_id=4 Accuracy=66.80:   4%|▍         | 4/98 [00:02<00:18,  5.09it/s]\n",
            "Loss=0.9428816437721252 Batch_id=4 Accuracy=66.80:   5%|▌         | 5/98 [00:02<00:50,  1.86it/s]can only test a child process\n",
            "Loss=0.896084189414978 Batch_id=97 Accuracy=69.03: 100%|██████████| 98/98 [00:13<00:00,  7.07it/s]\n",
            "Exception ignored in: <function _MultiProcessingDataLoaderIter.__del__ at 0x7f3a168d8310>\n",
            "Traceback (most recent call last):\n",
            "Exception ignored in: <function _MultiProcessingDataLoaderIter.__del__ at 0x7f3a168d8310>  File \"/usr/local/lib/python3.10/dist-packages/torch/utils/data/dataloader.py\", line 1478, in __del__\n",
            "\n",
            "    Traceback (most recent call last):\n",
            "self._shutdown_workers()  File \"/usr/local/lib/python3.10/dist-packages/torch/utils/data/dataloader.py\", line 1478, in __del__\n",
            "\n",
            "  File \"/usr/local/lib/python3.10/dist-packages/torch/utils/data/dataloader.py\", line 1461, in _shutdown_workers\n",
            "    self._shutdown_workers()    \n",
            "if w.is_alive():\n",
            "  File \"/usr/lib/python3.10/multiprocessing/process.py\", line 160, in is_alive\n",
            "  File \"/usr/local/lib/python3.10/dist-packages/torch/utils/data/dataloader.py\", line 1461, in _shutdown_workers\n",
            "    if w.is_alive():    assert self._parent_pid == os.getpid(), 'can only test a child process'\n",
            "  File \"/usr/lib/python3.10/multiprocessing/process.py\", line 160, in is_alive\n",
            "    \n",
            "AssertionErrorassert self._parent_pid == os.getpid(), 'can only test a child process': can only test a child process\n",
            "AssertionError: can only test a child process\n",
            "\n",
            "Exception ignored in: Exception ignored in: <function _MultiProcessingDataLoaderIter.__del__ at 0x7f3a168d8310>\n",
            "Traceback (most recent call last):\n",
            "<function _MultiProcessingDataLoaderIter.__del__ at 0x7f3a168d8310>  File \"/usr/local/lib/python3.10/dist-packages/torch/utils/data/dataloader.py\", line 1478, in __del__\n",
            "\n",
            "    Traceback (most recent call last):\n",
            "self._shutdown_workers()  File \"/usr/local/lib/python3.10/dist-packages/torch/utils/data/dataloader.py\", line 1478, in __del__\n",
            "\n",
            "      File \"/usr/local/lib/python3.10/dist-packages/torch/utils/data/dataloader.py\", line 1461, in _shutdown_workers\n",
            "self._shutdown_workers()    \n",
            "if w.is_alive():  File \"/usr/local/lib/python3.10/dist-packages/torch/utils/data/dataloader.py\", line 1461, in _shutdown_workers\n",
            "\n",
            "      File \"/usr/lib/python3.10/multiprocessing/process.py\", line 160, in is_alive\n",
            "if w.is_alive():    \n",
            "assert self._parent_pid == os.getpid(), 'can only test a child process'  File \"/usr/lib/python3.10/multiprocessing/process.py\", line 160, in is_alive\n",
            "\n",
            "AssertionError    : assert self._parent_pid == os.getpid(), 'can only test a child process'can only test a child process\n",
            "\n",
            "AssertionError: can only test a child process\n"
          ]
        },
        {
          "metadata": {
            "tags": null
          },
          "name": "stdout",
          "output_type": "stream",
          "text": [
            "\n",
            "Test set: Average loss: 0.6907, Accuracy: 7578/10000 (75.78%)\n",
            "\n",
            "EPOCH: 12\n"
          ]
        },
        {
          "metadata": {
            "tags": null
          },
          "name": "stderr",
          "output_type": "stream",
          "text": [
            "Loss=0.7562809586524963 Batch_id=3 Accuracy=70.41:   4%|▍         | 4/98 [00:01<00:18,  5.19it/s]Exception ignored in: <function _MultiProcessingDataLoaderIter.__del__ at 0x7f3a168d8310>\n",
            "Traceback (most recent call last):\n",
            "  File \"/usr/local/lib/python3.10/dist-packages/torch/utils/data/dataloader.py\", line 1478, in __del__\n",
            "    self._shutdown_workers()\n",
            "  File \"/usr/local/lib/python3.10/dist-packages/torch/utils/data/dataloader.py\", line 1461, in _shutdown_workers\n",
            "    Exception ignored in: if w.is_alive():<function _MultiProcessingDataLoaderIter.__del__ at 0x7f3a168d8310>\n",
            "\n",
            "  File \"/usr/lib/python3.10/multiprocessing/process.py\", line 160, in is_alive\n",
            "Traceback (most recent call last):\n",
            "      File \"/usr/local/lib/python3.10/dist-packages/torch/utils/data/dataloader.py\", line 1478, in __del__\n",
            "assert self._parent_pid == os.getpid(), 'can only test a child process'    \n",
            "self._shutdown_workers()AssertionError\n",
            ":   File \"/usr/local/lib/python3.10/dist-packages/torch/utils/data/dataloader.py\", line 1461, in _shutdown_workers\n",
            "can only test a child process    \n",
            "if w.is_alive():\n",
            "  File \"/usr/lib/python3.10/multiprocessing/process.py\", line 160, in is_alive\n",
            "Exception ignored in:     <function _MultiProcessingDataLoaderIter.__del__ at 0x7f3a168d8310>assert self._parent_pid == os.getpid(), 'can only test a child process'\n",
            "Traceback (most recent call last):\n",
            "\n",
            "  File \"/usr/local/lib/python3.10/dist-packages/torch/utils/data/dataloader.py\", line 1478, in __del__\n",
            ": AssertionError    self._shutdown_workers()can only test a child processException ignored in: \n",
            "\n",
            "<function _MultiProcessingDataLoaderIter.__del__ at 0x7f3a168d8310>  File \"/usr/local/lib/python3.10/dist-packages/torch/utils/data/dataloader.py\", line 1461, in _shutdown_workers\n",
            "\n",
            "    Traceback (most recent call last):\n",
            "if w.is_alive():  File \"/usr/local/lib/python3.10/dist-packages/torch/utils/data/dataloader.py\", line 1478, in __del__\n",
            "\n",
            "    self._shutdown_workers()  File \"/usr/lib/python3.10/multiprocessing/process.py\", line 160, in is_alive\n",
            "\n",
            "  File \"/usr/local/lib/python3.10/dist-packages/torch/utils/data/dataloader.py\", line 1461, in _shutdown_workers\n",
            "    if w.is_alive():    assert self._parent_pid == os.getpid(), 'can only test a child process'\n",
            "\n",
            "AssertionError  File \"/usr/lib/python3.10/multiprocessing/process.py\", line 160, in is_alive\n",
            "    : assert self._parent_pid == os.getpid(), 'can only test a child process'can only test a child process\n",
            "\n",
            "AssertionError: can only test a child process\n",
            "Loss=0.8769303560256958 Batch_id=97 Accuracy=69.75: 100%|██████████| 98/98 [00:14<00:00,  6.89it/s]\n",
            "Exception ignored in: <function _MultiProcessingDataLoaderIter.__del__ at 0x7f3a168d8310>\n",
            "Traceback (most recent call last):\n",
            "  File \"/usr/local/lib/python3.10/dist-packages/torch/utils/data/dataloader.py\", line 1478, in __del__\n",
            "    self._shutdown_workers()\n",
            "  File \"/usr/local/lib/python3.10/dist-packages/torch/utils/data/dataloader.py\", line 1461, in _shutdown_workers\n",
            "    if w.is_alive():\n",
            "  File \"/usr/lib/python3.10/multiprocessing/process.py\", line 160, in is_alive\n",
            "    assert self._parent_pid == os.getpid(), 'can only test a child process'\n",
            "AssertionError: can only test a child process\n",
            "Exception ignored in: <function _MultiProcessingDataLoaderIter.__del__ at 0x7f3a168d8310>\n",
            "Traceback (most recent call last):\n",
            "  File \"/usr/local/lib/python3.10/dist-packages/torch/utils/data/dataloader.py\", line 1478, in __del__\n",
            "    self._shutdown_workers()\n",
            "  File \"/usr/local/lib/python3.10/dist-packages/torch/utils/data/dataloader.py\", line 1461, in _shutdown_workers\n",
            "    if w.is_alive():\n",
            "  File \"/usr/lib/python3.10/multiprocessing/process.py\", line 160, in is_alive\n",
            "Exception ignored in: <function _MultiProcessingDataLoaderIter.__del__ at 0x7f3a168d8310>Exception ignored in: <function _MultiProcessingDataLoaderIter.__del__ at 0x7f3a168d8310>\n",
            "\n",
            "    assert self._parent_pid == os.getpid(), 'can only test a child process'Traceback (most recent call last):\n",
            "Traceback (most recent call last):\n",
            "  File \"/usr/local/lib/python3.10/dist-packages/torch/utils/data/dataloader.py\", line 1478, in __del__\n",
            "  File \"/usr/local/lib/python3.10/dist-packages/torch/utils/data/dataloader.py\", line 1478, in __del__\n",
            "    \n",
            "    self._shutdown_workers()AssertionErrorself._shutdown_workers()\n",
            "\n",
            ":   File \"/usr/local/lib/python3.10/dist-packages/torch/utils/data/dataloader.py\", line 1461, in _shutdown_workers\n",
            "  File \"/usr/local/lib/python3.10/dist-packages/torch/utils/data/dataloader.py\", line 1461, in _shutdown_workers\n",
            "    can only test a child process    if w.is_alive():\n",
            "if w.is_alive():\n",
            "\n",
            "  File \"/usr/lib/python3.10/multiprocessing/process.py\", line 160, in is_alive\n",
            "      File \"/usr/lib/python3.10/multiprocessing/process.py\", line 160, in is_alive\n",
            "    assert self._parent_pid == os.getpid(), 'can only test a child process'\n",
            "assert self._parent_pid == os.getpid(), 'can only test a child process'\n",
            "AssertionErrorAssertionError: : can only test a child processcan only test a child process\n",
            "\n"
          ]
        },
        {
          "metadata": {
            "tags": null
          },
          "name": "stdout",
          "output_type": "stream",
          "text": [
            "\n",
            "Test set: Average loss: 0.7307, Accuracy: 7526/10000 (75.26%)\n",
            "\n",
            "EPOCH: 13\n"
          ]
        },
        {
          "metadata": {
            "tags": null
          },
          "name": "stderr",
          "output_type": "stream",
          "text": [
            "  0%|          | 0/98 [00:00<?, ?it/s]Exception ignored in: <function _MultiProcessingDataLoaderIter.__del__ at 0x7f3a168d8310>\n",
            "Traceback (most recent call last):\n",
            "Exception ignored in:   File \"/usr/local/lib/python3.10/dist-packages/torch/utils/data/dataloader.py\", line 1478, in __del__\n",
            "    <function _MultiProcessingDataLoaderIter.__del__ at 0x7f3a168d8310>self._shutdown_workers()\n",
            "\n",
            "  File \"/usr/local/lib/python3.10/dist-packages/torch/utils/data/dataloader.py\", line 1461, in _shutdown_workers\n",
            "    Traceback (most recent call last):\n",
            "if w.is_alive():  File \"/usr/local/lib/python3.10/dist-packages/torch/utils/data/dataloader.py\", line 1478, in __del__\n",
            "\n",
            "Exception ignored in:   File \"/usr/lib/python3.10/multiprocessing/process.py\", line 160, in is_alive\n",
            "        <function _MultiProcessingDataLoaderIter.__del__ at 0x7f3a168d8310>self._shutdown_workers()\n",
            "\n",
            "Exception ignored in: assert self._parent_pid == os.getpid(), 'can only test a child process'Traceback (most recent call last):\n",
            "  File \"/usr/local/lib/python3.10/dist-packages/torch/utils/data/dataloader.py\", line 1461, in _shutdown_workers\n",
            "<function _MultiProcessingDataLoaderIter.__del__ at 0x7f3a168d8310>\n",
            "      File \"/usr/local/lib/python3.10/dist-packages/torch/utils/data/dataloader.py\", line 1478, in __del__\n",
            "    \n",
            "self._shutdown_workers()Traceback (most recent call last):\n",
            "AssertionError\n",
            "if w.is_alive():  File \"/usr/local/lib/python3.10/dist-packages/torch/utils/data/dataloader.py\", line 1478, in __del__\n",
            ":       File \"/usr/local/lib/python3.10/dist-packages/torch/utils/data/dataloader.py\", line 1461, in _shutdown_workers\n",
            "\n",
            "can only test a child processself._shutdown_workers()\n",
            "  File \"/usr/lib/python3.10/multiprocessing/process.py\", line 160, in is_alive\n",
            "    if w.is_alive():    \n",
            "assert self._parent_pid == os.getpid(), 'can only test a child process'\n",
            "\n",
            "  File \"/usr/lib/python3.10/multiprocessing/process.py\", line 160, in is_alive\n",
            "  File \"/usr/local/lib/python3.10/dist-packages/torch/utils/data/dataloader.py\", line 1461, in _shutdown_workers\n",
            "AssertionError    if w.is_alive():\n",
            ":   File \"/usr/lib/python3.10/multiprocessing/process.py\", line 160, in is_alive\n",
            "can only test a child process\n",
            "    assert self._parent_pid == os.getpid(), 'can only test a child process'    \n",
            "assert self._parent_pid == os.getpid(), 'can only test a child process'AssertionError: can only test a child process\n",
            "\n",
            "AssertionError: can only test a child process\n",
            "Loss=0.8426963090896606 Batch_id=97 Accuracy=70.25: 100%|██████████| 98/98 [00:14<00:00,  6.92it/s]\n",
            "Exception ignored in: <function _MultiProcessingDataLoaderIter.__del__ at 0x7f3a168d8310>Exception ignored in: <function _MultiProcessingDataLoaderIter.__del__ at 0x7f3a168d8310>\n",
            "\n",
            "Traceback (most recent call last):\n",
            "  File \"/usr/local/lib/python3.10/dist-packages/torch/utils/data/dataloader.py\", line 1478, in __del__\n",
            "Traceback (most recent call last):\n",
            "Exception ignored in: <function _MultiProcessingDataLoaderIter.__del__ at 0x7f3a168d8310>  File \"/usr/local/lib/python3.10/dist-packages/torch/utils/data/dataloader.py\", line 1478, in __del__\n",
            "Exception ignored in:         self._shutdown_workers()\n",
            "\n",
            "self._shutdown_workers()  File \"/usr/local/lib/python3.10/dist-packages/torch/utils/data/dataloader.py\", line 1461, in _shutdown_workers\n",
            "<function _MultiProcessingDataLoaderIter.__del__ at 0x7f3a168d8310>    Traceback (most recent call last):\n",
            "if w.is_alive():\n",
            "\n",
            "if w.is_alive():  File \"/usr/lib/python3.10/multiprocessing/process.py\", line 160, in is_alive\n",
            "    \n",
            "assert self._parent_pid == os.getpid(), 'can only test a child process'\n",
            "  File \"/usr/local/lib/python3.10/dist-packages/torch/utils/data/dataloader.py\", line 1478, in __del__\n",
            "Traceback (most recent call last):\n",
            "      File \"/usr/local/lib/python3.10/dist-packages/torch/utils/data/dataloader.py\", line 1461, in _shutdown_workers\n",
            "  File \"/usr/local/lib/python3.10/dist-packages/torch/utils/data/dataloader.py\", line 1478, in __del__\n",
            "self._shutdown_workers()\n",
            "  File \"/usr/lib/python3.10/multiprocessing/process.py\", line 160, in is_alive\n",
            "    assert self._parent_pid == os.getpid(), 'can only test a child process'    \n",
            "    AssertionError\n",
            ": AssertionErrorself._shutdown_workers()  File \"/usr/local/lib/python3.10/dist-packages/torch/utils/data/dataloader.py\", line 1461, in _shutdown_workers\n",
            ": can only test a child process\n",
            "    \n",
            "can only test a child process  File \"/usr/local/lib/python3.10/dist-packages/torch/utils/data/dataloader.py\", line 1461, in _shutdown_workers\n",
            "    if w.is_alive():\n",
            "\n",
            "if w.is_alive():  File \"/usr/lib/python3.10/multiprocessing/process.py\", line 160, in is_alive\n",
            "\n",
            "  File \"/usr/lib/python3.10/multiprocessing/process.py\", line 160, in is_alive\n",
            "    assert self._parent_pid == os.getpid(), 'can only test a child process'    \n",
            "assert self._parent_pid == os.getpid(), 'can only test a child process'AssertionError\n",
            ": AssertionErrorcan only test a child process\n",
            ": can only test a child process\n"
          ]
        },
        {
          "metadata": {
            "tags": null
          },
          "name": "stdout",
          "output_type": "stream",
          "text": [
            "\n",
            "Test set: Average loss: 0.8338, Accuracy: 7188/10000 (71.88%)\n",
            "\n",
            "EPOCH: 14\n"
          ]
        },
        {
          "metadata": {
            "tags": null
          },
          "name": "stderr",
          "output_type": "stream",
          "text": [
            "  0%|          | 0/98 [00:00<?, ?it/s]Exception ignored in: <function _MultiProcessingDataLoaderIter.__del__ at 0x7f3a168d8310>\n",
            "Traceback (most recent call last):\n",
            "  File \"/usr/local/lib/python3.10/dist-packages/torch/utils/data/dataloader.py\", line 1478, in __del__\n",
            "    self._shutdown_workers()\n",
            "  File \"/usr/local/lib/python3.10/dist-packages/torch/utils/data/dataloader.py\", line 1461, in _shutdown_workers\n",
            "    if w.is_alive():\n",
            "Exception ignored in: Exception ignored in:   File \"/usr/lib/python3.10/multiprocessing/process.py\", line 160, in is_alive\n",
            "<function _MultiProcessingDataLoaderIter.__del__ at 0x7f3a168d8310><function _MultiProcessingDataLoaderIter.__del__ at 0x7f3a168d8310>    \n",
            "Exception ignored in: \n",
            "assert self._parent_pid == os.getpid(), 'can only test a child process'Traceback (most recent call last):\n",
            "\n",
            "  File \"/usr/local/lib/python3.10/dist-packages/torch/utils/data/dataloader.py\", line 1478, in __del__\n",
            "    AssertionErrorself._shutdown_workers(): \n",
            "can only test a child process  File \"/usr/local/lib/python3.10/dist-packages/torch/utils/data/dataloader.py\", line 1461, in _shutdown_workers\n",
            "\n",
            "    <function _MultiProcessingDataLoaderIter.__del__ at 0x7f3a168d8310>Traceback (most recent call last):\n",
            "if w.is_alive():\n",
            "  File \"/usr/local/lib/python3.10/dist-packages/torch/utils/data/dataloader.py\", line 1478, in __del__\n",
            "    Traceback (most recent call last):\n",
            "\n",
            "self._shutdown_workers()  File \"/usr/lib/python3.10/multiprocessing/process.py\", line 160, in is_alive\n",
            "  File \"/usr/local/lib/python3.10/dist-packages/torch/utils/data/dataloader.py\", line 1478, in __del__\n",
            "\n",
            "        self._shutdown_workers()assert self._parent_pid == os.getpid(), 'can only test a child process'\n",
            "\n",
            "  File \"/usr/local/lib/python3.10/dist-packages/torch/utils/data/dataloader.py\", line 1461, in _shutdown_workers\n",
            "AssertionError  File \"/usr/local/lib/python3.10/dist-packages/torch/utils/data/dataloader.py\", line 1461, in _shutdown_workers\n",
            ":     can only test a child processif w.is_alive():\n",
            "    if w.is_alive():\n",
            "  File \"/usr/lib/python3.10/multiprocessing/process.py\", line 160, in is_alive\n",
            "\n",
            "    assert self._parent_pid == os.getpid(), 'can only test a child process'\n",
            "AssertionError: can only test a child process\n",
            "  File \"/usr/lib/python3.10/multiprocessing/process.py\", line 160, in is_alive\n",
            "    assert self._parent_pid == os.getpid(), 'can only test a child process'\n",
            "AssertionError: can only test a child process\n",
            "Loss=0.854442298412323 Batch_id=97 Accuracy=70.85: 100%|██████████| 98/98 [00:14<00:00,  6.74it/s]\n"
          ]
        },
        {
          "metadata": {
            "tags": null
          },
          "name": "stdout",
          "output_type": "stream",
          "text": [
            "\n",
            "Test set: Average loss: 0.6662, Accuracy: 7754/10000 (77.54%)\n",
            "\n",
            "EPOCH: 15\n"
          ]
        },
        {
          "metadata": {
            "tags": null
          },
          "name": "stderr",
          "output_type": "stream",
          "text": [
            "Loss=0.8261621594429016 Batch_id=97 Accuracy=71.26: 100%|██████████| 98/98 [00:12<00:00,  7.72it/s]\n"
          ]
        },
        {
          "metadata": {
            "tags": null
          },
          "name": "stdout",
          "output_type": "stream",
          "text": [
            "\n",
            "Test set: Average loss: 0.6641, Accuracy: 7724/10000 (77.24%)\n",
            "\n",
            "EPOCH: 16\n"
          ]
        },
        {
          "metadata": {
            "tags": null
          },
          "name": "stderr",
          "output_type": "stream",
          "text": [
            "Loss=0.7557589411735535 Batch_id=97 Accuracy=71.92: 100%|██████████| 98/98 [00:13<00:00,  7.47it/s]\n"
          ]
        },
        {
          "metadata": {
            "tags": null
          },
          "name": "stdout",
          "output_type": "stream",
          "text": [
            "\n",
            "Test set: Average loss: 0.6258, Accuracy: 7858/10000 (78.58%)\n",
            "\n",
            "EPOCH: 17\n"
          ]
        },
        {
          "metadata": {
            "tags": null
          },
          "name": "stderr",
          "output_type": "stream",
          "text": [
            "Loss=0.8798855543136597 Batch_id=97 Accuracy=72.44: 100%|██████████| 98/98 [00:14<00:00,  6.88it/s]\n"
          ]
        },
        {
          "metadata": {
            "tags": null
          },
          "name": "stdout",
          "output_type": "stream",
          "text": [
            "\n",
            "Test set: Average loss: 0.6248, Accuracy: 7878/10000 (78.78%)\n",
            "\n",
            "EPOCH: 18\n"
          ]
        },
        {
          "metadata": {
            "tags": null
          },
          "name": "stderr",
          "output_type": "stream",
          "text": [
            "Loss=0.8187411427497864 Batch_id=97 Accuracy=72.44: 100%|██████████| 98/98 [00:13<00:00,  7.38it/s]\n"
          ]
        },
        {
          "metadata": {
            "tags": null
          },
          "name": "stdout",
          "output_type": "stream",
          "text": [
            "\n",
            "Test set: Average loss: 0.6498, Accuracy: 7821/10000 (78.21%)\n",
            "\n",
            "EPOCH: 19\n"
          ]
        },
        {
          "metadata": {
            "tags": null
          },
          "name": "stderr",
          "output_type": "stream",
          "text": [
            "Loss=0.7528306841850281 Batch_id=97 Accuracy=72.90: 100%|██████████| 98/98 [00:13<00:00,  7.54it/s]\n"
          ]
        },
        {
          "metadata": {
            "tags": null
          },
          "name": "stdout",
          "output_type": "stream",
          "text": [
            "\n",
            "Test set: Average loss: 0.5776, Accuracy: 7996/10000 (79.96%)\n",
            "\n",
            "EPOCH: 20\n"
          ]
        },
        {
          "metadata": {
            "tags": null
          },
          "name": "stderr",
          "output_type": "stream",
          "text": [
            "Loss=0.8382452130317688 Batch_id=97 Accuracy=73.23: 100%|██████████| 98/98 [00:12<00:00,  7.94it/s]\n"
          ]
        },
        {
          "metadata": {
            "tags": null
          },
          "name": "stdout",
          "output_type": "stream",
          "text": [
            "\n",
            "Test set: Average loss: 0.6688, Accuracy: 7728/10000 (77.28%)\n",
            "\n",
            "EPOCH: 21\n"
          ]
        },
        {
          "metadata": {
            "tags": null
          },
          "name": "stderr",
          "output_type": "stream",
          "text": [
            "Loss=0.7224876880645752 Batch_id=97 Accuracy=73.70: 100%|██████████| 98/98 [00:12<00:00,  7.70it/s]\n"
          ]
        },
        {
          "metadata": {
            "tags": null
          },
          "name": "stdout",
          "output_type": "stream",
          "text": [
            "\n",
            "Test set: Average loss: 0.6002, Accuracy: 7956/10000 (79.56%)\n",
            "\n",
            "EPOCH: 22\n"
          ]
        },
        {
          "metadata": {
            "tags": null
          },
          "name": "stderr",
          "output_type": "stream",
          "text": [
            "Loss=0.8445928692817688 Batch_id=97 Accuracy=74.03: 100%|██████████| 98/98 [00:12<00:00,  7.58it/s]\n"
          ]
        },
        {
          "metadata": {
            "tags": null
          },
          "name": "stdout",
          "output_type": "stream",
          "text": [
            "\n",
            "Test set: Average loss: 0.6037, Accuracy: 7960/10000 (79.60%)\n",
            "\n",
            "EPOCH: 23\n"
          ]
        },
        {
          "metadata": {
            "tags": null
          },
          "name": "stderr",
          "output_type": "stream",
          "text": [
            "Loss=0.7371851801872253 Batch_id=97 Accuracy=74.17: 100%|██████████| 98/98 [00:12<00:00,  7.58it/s]\n"
          ]
        },
        {
          "metadata": {
            "tags": null
          },
          "name": "stdout",
          "output_type": "stream",
          "text": [
            "\n",
            "Test set: Average loss: 0.5990, Accuracy: 7987/10000 (79.87%)\n",
            "\n",
            "EPOCH: 24\n"
          ]
        },
        {
          "metadata": {
            "tags": null
          },
          "name": "stderr",
          "output_type": "stream",
          "text": [
            "Loss=0.6763123273849487 Batch_id=97 Accuracy=74.36: 100%|██████████| 98/98 [00:12<00:00,  7.63it/s]\n"
          ]
        },
        {
          "metadata": {
            "tags": null
          },
          "name": "stdout",
          "output_type": "stream",
          "text": [
            "\n",
            "Test set: Average loss: 0.6312, Accuracy: 7910/10000 (79.10%)\n",
            "\n",
            "EPOCH: 25\n"
          ]
        },
        {
          "metadata": {
            "tags": null
          },
          "name": "stderr",
          "output_type": "stream",
          "text": [
            "Loss=0.764739990234375 Batch_id=97 Accuracy=74.89: 100%|██████████| 98/98 [00:13<00:00,  7.46it/s]\n"
          ]
        },
        {
          "metadata": {
            "tags": null
          },
          "name": "stdout",
          "output_type": "stream",
          "text": [
            "\n",
            "Test set: Average loss: 0.5734, Accuracy: 8027/10000 (80.27%)\n",
            "\n",
            "EPOCH: 26\n"
          ]
        },
        {
          "metadata": {
            "tags": null
          },
          "name": "stderr",
          "output_type": "stream",
          "text": [
            "Loss=0.7358580827713013 Batch_id=97 Accuracy=74.68: 100%|██████████| 98/98 [00:12<00:00,  7.81it/s]\n"
          ]
        },
        {
          "metadata": {
            "tags": null
          },
          "name": "stdout",
          "output_type": "stream",
          "text": [
            "\n",
            "Test set: Average loss: 0.5573, Accuracy: 8123/10000 (81.23%)\n",
            "\n",
            "EPOCH: 27\n"
          ]
        },
        {
          "metadata": {
            "tags": null
          },
          "name": "stderr",
          "output_type": "stream",
          "text": [
            "Loss=0.6140778660774231 Batch_id=97 Accuracy=75.06: 100%|██████████| 98/98 [00:13<00:00,  7.46it/s]\n"
          ]
        },
        {
          "metadata": {
            "tags": null
          },
          "name": "stdout",
          "output_type": "stream",
          "text": [
            "\n",
            "Test set: Average loss: 0.5570, Accuracy: 8093/10000 (80.93%)\n",
            "\n",
            "EPOCH: 28\n"
          ]
        },
        {
          "metadata": {
            "tags": null
          },
          "name": "stderr",
          "output_type": "stream",
          "text": [
            "Loss=0.5935724973678589 Batch_id=97 Accuracy=75.33: 100%|██████████| 98/98 [00:14<00:00,  6.68it/s]\n"
          ]
        },
        {
          "metadata": {
            "tags": null
          },
          "name": "stdout",
          "output_type": "stream",
          "text": [
            "\n",
            "Test set: Average loss: 0.6072, Accuracy: 7959/10000 (79.59%)\n",
            "\n",
            "EPOCH: 29\n"
          ]
        },
        {
          "metadata": {
            "tags": null
          },
          "name": "stderr",
          "output_type": "stream",
          "text": [
            "Loss=0.6437410116195679 Batch_id=97 Accuracy=75.46: 100%|██████████| 98/98 [00:12<00:00,  7.58it/s]\n"
          ]
        },
        {
          "metadata": {
            "tags": null
          },
          "name": "stdout",
          "output_type": "stream",
          "text": [
            "\n",
            "Test set: Average loss: 0.5784, Accuracy: 8042/10000 (80.42%)\n",
            "\n",
            "EPOCH: 30\n"
          ]
        },
        {
          "metadata": {
            "tags": null
          },
          "name": "stderr",
          "output_type": "stream",
          "text": [
            "Loss=0.6488422155380249 Batch_id=97 Accuracy=76.02: 100%|██████████| 98/98 [00:13<00:00,  7.46it/s]\n"
          ]
        },
        {
          "metadata": {
            "tags": null
          },
          "name": "stdout",
          "output_type": "stream",
          "text": [
            "\n",
            "Test set: Average loss: 0.5624, Accuracy: 8065/10000 (80.65%)\n",
            "\n",
            "EPOCH: 31\n"
          ]
        },
        {
          "metadata": {
            "tags": null
          },
          "name": "stderr",
          "output_type": "stream",
          "text": [
            "Loss=0.6807096004486084 Batch_id=97 Accuracy=75.73: 100%|██████████| 98/98 [00:13<00:00,  7.43it/s]\n"
          ]
        },
        {
          "metadata": {
            "tags": null
          },
          "name": "stdout",
          "output_type": "stream",
          "text": [
            "\n",
            "Test set: Average loss: 0.5319, Accuracy: 8218/10000 (82.18%)\n",
            "\n",
            "EPOCH: 32\n"
          ]
        },
        {
          "metadata": {
            "tags": null
          },
          "name": "stderr",
          "output_type": "stream",
          "text": [
            "Loss=0.6527844667434692 Batch_id=97 Accuracy=76.08: 100%|██████████| 98/98 [00:12<00:00,  8.03it/s]\n"
          ]
        },
        {
          "metadata": {
            "tags": null
          },
          "name": "stdout",
          "output_type": "stream",
          "text": [
            "\n",
            "Test set: Average loss: 0.5684, Accuracy: 8137/10000 (81.37%)\n",
            "\n",
            "EPOCH: 33\n"
          ]
        },
        {
          "metadata": {
            "tags": null
          },
          "name": "stderr",
          "output_type": "stream",
          "text": [
            "Loss=0.6194171905517578 Batch_id=97 Accuracy=76.09: 100%|██████████| 98/98 [00:13<00:00,  7.48it/s]\n"
          ]
        },
        {
          "metadata": {
            "tags": null
          },
          "name": "stdout",
          "output_type": "stream",
          "text": [
            "\n",
            "Test set: Average loss: 0.5498, Accuracy: 8153/10000 (81.53%)\n",
            "\n",
            "EPOCH: 34\n"
          ]
        },
        {
          "metadata": {
            "tags": null
          },
          "name": "stderr",
          "output_type": "stream",
          "text": [
            "Loss=0.8028519153594971 Batch_id=97 Accuracy=76.29: 100%|██████████| 98/98 [00:12<00:00,  7.57it/s]\n"
          ]
        },
        {
          "metadata": {
            "tags": null
          },
          "name": "stdout",
          "output_type": "stream",
          "text": [
            "\n",
            "Test set: Average loss: 0.5274, Accuracy: 8223/10000 (82.23%)\n",
            "\n",
            "EPOCH: 35\n"
          ]
        },
        {
          "metadata": {
            "tags": null
          },
          "name": "stderr",
          "output_type": "stream",
          "text": [
            "Loss=0.6691418290138245 Batch_id=97 Accuracy=76.50: 100%|██████████| 98/98 [00:13<00:00,  7.49it/s]\n"
          ]
        },
        {
          "metadata": {
            "tags": null
          },
          "name": "stdout",
          "output_type": "stream",
          "text": [
            "\n",
            "Test set: Average loss: 0.5185, Accuracy: 8250/10000 (82.50%)\n",
            "\n",
            "EPOCH: 36\n"
          ]
        },
        {
          "metadata": {
            "tags": null
          },
          "name": "stderr",
          "output_type": "stream",
          "text": [
            "Loss=0.6059434413909912 Batch_id=97 Accuracy=76.70: 100%|██████████| 98/98 [00:12<00:00,  7.67it/s]\n"
          ]
        },
        {
          "metadata": {
            "tags": null
          },
          "name": "stdout",
          "output_type": "stream",
          "text": [
            "\n",
            "Test set: Average loss: 0.5542, Accuracy: 8146/10000 (81.46%)\n",
            "\n",
            "EPOCH: 37\n"
          ]
        },
        {
          "metadata": {
            "tags": null
          },
          "name": "stderr",
          "output_type": "stream",
          "text": [
            "Loss=0.6164984107017517 Batch_id=97 Accuracy=76.67: 100%|██████████| 98/98 [00:13<00:00,  7.54it/s]\n"
          ]
        },
        {
          "metadata": {
            "tags": null
          },
          "name": "stdout",
          "output_type": "stream",
          "text": [
            "\n",
            "Test set: Average loss: 0.5028, Accuracy: 8321/10000 (83.21%)\n",
            "\n",
            "EPOCH: 38\n"
          ]
        },
        {
          "metadata": {
            "tags": null
          },
          "name": "stderr",
          "output_type": "stream",
          "text": [
            "Loss=0.6459526419639587 Batch_id=97 Accuracy=77.14: 100%|██████████| 98/98 [00:12<00:00,  7.66it/s]\n"
          ]
        },
        {
          "metadata": {
            "tags": null
          },
          "name": "stdout",
          "output_type": "stream",
          "text": [
            "\n",
            "Test set: Average loss: 0.4955, Accuracy: 8342/10000 (83.42%)\n",
            "\n",
            "EPOCH: 39\n"
          ]
        },
        {
          "metadata": {
            "tags": null
          },
          "name": "stderr",
          "output_type": "stream",
          "text": [
            "Loss=0.6137130856513977 Batch_id=97 Accuracy=77.12: 100%|██████████| 98/98 [00:14<00:00,  6.72it/s]\n"
          ]
        },
        {
          "metadata": {
            "tags": null
          },
          "name": "stdout",
          "output_type": "stream",
          "text": [
            "\n",
            "Test set: Average loss: 0.4920, Accuracy: 8354/10000 (83.54%)\n",
            "\n",
            "EPOCH: 40\n"
          ]
        },
        {
          "metadata": {
            "tags": null
          },
          "name": "stderr",
          "output_type": "stream",
          "text": [
            "Loss=0.6627112627029419 Batch_id=97 Accuracy=77.32: 100%|██████████| 98/98 [00:13<00:00,  7.51it/s]\n"
          ]
        },
        {
          "metadata": {
            "tags": null
          },
          "name": "stdout",
          "output_type": "stream",
          "text": [
            "\n",
            "Test set: Average loss: 0.4950, Accuracy: 8340/10000 (83.40%)\n",
            "\n",
            "EPOCH: 41\n"
          ]
        },
        {
          "metadata": {
            "tags": null
          },
          "name": "stderr",
          "output_type": "stream",
          "text": [
            "Loss=0.6927242279052734 Batch_id=97 Accuracy=77.32: 100%|██████████| 98/98 [00:13<00:00,  7.50it/s]\n"
          ]
        },
        {
          "metadata": {
            "tags": null
          },
          "name": "stdout",
          "output_type": "stream",
          "text": [
            "\n",
            "Test set: Average loss: 0.5213, Accuracy: 8276/10000 (82.76%)\n",
            "\n",
            "EPOCH: 42\n"
          ]
        },
        {
          "metadata": {
            "tags": null
          },
          "name": "stderr",
          "output_type": "stream",
          "text": [
            "Loss=0.6273150444030762 Batch_id=97 Accuracy=77.46: 100%|██████████| 98/98 [00:13<00:00,  7.51it/s]\n"
          ]
        },
        {
          "metadata": {
            "tags": null
          },
          "name": "stdout",
          "output_type": "stream",
          "text": [
            "\n",
            "Test set: Average loss: 0.5149, Accuracy: 8309/10000 (83.09%)\n",
            "\n",
            "EPOCH: 43\n"
          ]
        },
        {
          "metadata": {
            "tags": null
          },
          "name": "stderr",
          "output_type": "stream",
          "text": [
            "Loss=0.5700880289077759 Batch_id=97 Accuracy=77.46: 100%|██████████| 98/98 [00:12<00:00,  7.86it/s]\n"
          ]
        },
        {
          "metadata": {
            "tags": null
          },
          "name": "stdout",
          "output_type": "stream",
          "text": [
            "\n",
            "Test set: Average loss: 0.5193, Accuracy: 8279/10000 (82.79%)\n",
            "\n",
            "EPOCH: 44\n"
          ]
        },
        {
          "metadata": {
            "tags": null
          },
          "name": "stderr",
          "output_type": "stream",
          "text": [
            "Loss=0.6159905195236206 Batch_id=97 Accuracy=77.59: 100%|██████████| 98/98 [00:13<00:00,  7.53it/s]\n"
          ]
        },
        {
          "metadata": {
            "tags": null
          },
          "name": "stdout",
          "output_type": "stream",
          "text": [
            "\n",
            "Test set: Average loss: 0.4948, Accuracy: 8329/10000 (83.29%)\n",
            "\n",
            "EPOCH: 45\n"
          ]
        },
        {
          "metadata": {
            "tags": null
          },
          "name": "stderr",
          "output_type": "stream",
          "text": [
            "Loss=0.670348584651947 Batch_id=97 Accuracy=77.97: 100%|██████████| 98/98 [00:13<00:00,  7.53it/s]\n"
          ]
        },
        {
          "metadata": {
            "tags": null
          },
          "name": "stdout",
          "output_type": "stream",
          "text": [
            "\n",
            "Test set: Average loss: 0.5132, Accuracy: 8307/10000 (83.07%)\n",
            "\n",
            "EPOCH: 46\n"
          ]
        },
        {
          "metadata": {
            "tags": null
          },
          "name": "stderr",
          "output_type": "stream",
          "text": [
            "Loss=0.5879417061805725 Batch_id=97 Accuracy=77.82: 100%|██████████| 98/98 [00:13<00:00,  7.49it/s]\n"
          ]
        },
        {
          "metadata": {
            "tags": null
          },
          "name": "stdout",
          "output_type": "stream",
          "text": [
            "\n",
            "Test set: Average loss: 0.5320, Accuracy: 8268/10000 (82.68%)\n",
            "\n",
            "EPOCH: 47\n"
          ]
        },
        {
          "metadata": {
            "tags": null
          },
          "name": "stderr",
          "output_type": "stream",
          "text": [
            "Loss=0.6504334211349487 Batch_id=97 Accuracy=77.80: 100%|██████████| 98/98 [00:13<00:00,  7.46it/s]\n"
          ]
        },
        {
          "metadata": {
            "tags": null
          },
          "name": "stdout",
          "output_type": "stream",
          "text": [
            "\n",
            "Test set: Average loss: 0.4954, Accuracy: 8368/10000 (83.68%)\n",
            "\n",
            "EPOCH: 48\n"
          ]
        },
        {
          "metadata": {
            "tags": null
          },
          "name": "stderr",
          "output_type": "stream",
          "text": [
            "Loss=0.686936616897583 Batch_id=97 Accuracy=78.27: 100%|██████████| 98/98 [00:12<00:00,  7.64it/s]\n"
          ]
        },
        {
          "metadata": {
            "tags": null
          },
          "name": "stdout",
          "output_type": "stream",
          "text": [
            "\n",
            "Test set: Average loss: 0.5019, Accuracy: 8346/10000 (83.46%)\n",
            "\n",
            "EPOCH: 49\n"
          ]
        },
        {
          "metadata": {
            "tags": null
          },
          "name": "stderr",
          "output_type": "stream",
          "text": [
            "Loss=0.6629683375358582 Batch_id=97 Accuracy=78.35: 100%|██████████| 98/98 [00:12<00:00,  7.57it/s]\n"
          ]
        },
        {
          "metadata": {
            "tags": null
          },
          "name": "stdout",
          "output_type": "stream",
          "text": [
            "\n",
            "Test set: Average loss: 0.4960, Accuracy: 8364/10000 (83.64%)\n",
            "\n",
            "EPOCH: 50\n"
          ]
        },
        {
          "metadata": {
            "tags": null
          },
          "name": "stderr",
          "output_type": "stream",
          "text": [
            "Loss=0.5142934918403625 Batch_id=97 Accuracy=78.55: 100%|██████████| 98/98 [00:14<00:00,  6.89it/s]\n"
          ]
        },
        {
          "metadata": {
            "tags": null
          },
          "name": "stdout",
          "output_type": "stream",
          "text": [
            "\n",
            "Test set: Average loss: 0.4769, Accuracy: 8449/10000 (84.49%)\n",
            "\n",
            "EPOCH: 51\n"
          ]
        },
        {
          "metadata": {
            "tags": null
          },
          "name": "stderr",
          "output_type": "stream",
          "text": [
            "Loss=0.5630332231521606 Batch_id=97 Accuracy=78.14: 100%|██████████| 98/98 [00:13<00:00,  7.39it/s]\n"
          ]
        },
        {
          "metadata": {
            "tags": null
          },
          "name": "stdout",
          "output_type": "stream",
          "text": [
            "\n",
            "Test set: Average loss: 0.4859, Accuracy: 8369/10000 (83.69%)\n",
            "\n",
            "EPOCH: 52\n"
          ]
        },
        {
          "metadata": {
            "tags": null
          },
          "name": "stderr",
          "output_type": "stream",
          "text": [
            "Loss=0.6176190376281738 Batch_id=97 Accuracy=78.61: 100%|██████████| 98/98 [00:13<00:00,  7.27it/s]\n"
          ]
        },
        {
          "metadata": {
            "tags": null
          },
          "name": "stdout",
          "output_type": "stream",
          "text": [
            "\n",
            "Test set: Average loss: 0.4960, Accuracy: 8336/10000 (83.36%)\n",
            "\n",
            "EPOCH: 53\n"
          ]
        },
        {
          "metadata": {
            "tags": null
          },
          "name": "stderr",
          "output_type": "stream",
          "text": [
            "Loss=0.6048494577407837 Batch_id=97 Accuracy=78.63: 100%|██████████| 98/98 [00:12<00:00,  7.74it/s]\n"
          ]
        },
        {
          "metadata": {
            "tags": null
          },
          "name": "stdout",
          "output_type": "stream",
          "text": [
            "\n",
            "Test set: Average loss: 0.4661, Accuracy: 8422/10000 (84.22%)\n",
            "\n",
            "EPOCH: 54\n"
          ]
        },
        {
          "metadata": {
            "tags": null
          },
          "name": "stderr",
          "output_type": "stream",
          "text": [
            "Loss=0.5664501786231995 Batch_id=97 Accuracy=78.71: 100%|██████████| 98/98 [00:12<00:00,  7.57it/s]\n"
          ]
        },
        {
          "metadata": {
            "tags": null
          },
          "name": "stdout",
          "output_type": "stream",
          "text": [
            "\n",
            "Test set: Average loss: 0.4855, Accuracy: 8404/10000 (84.04%)\n",
            "\n",
            "EPOCH: 55\n"
          ]
        },
        {
          "metadata": {
            "tags": null
          },
          "name": "stderr",
          "output_type": "stream",
          "text": [
            "Loss=0.5959731340408325 Batch_id=97 Accuracy=78.90: 100%|██████████| 98/98 [00:13<00:00,  7.50it/s]\n"
          ]
        },
        {
          "metadata": {
            "tags": null
          },
          "name": "stdout",
          "output_type": "stream",
          "text": [
            "\n",
            "Test set: Average loss: 0.4703, Accuracy: 8438/10000 (84.38%)\n",
            "\n",
            "EPOCH: 56\n"
          ]
        },
        {
          "metadata": {
            "tags": null
          },
          "name": "stderr",
          "output_type": "stream",
          "text": [
            "Loss=0.6172703504562378 Batch_id=97 Accuracy=78.64: 100%|██████████| 98/98 [00:13<00:00,  7.33it/s]\n"
          ]
        },
        {
          "metadata": {
            "tags": null
          },
          "name": "stdout",
          "output_type": "stream",
          "text": [
            "\n",
            "Test set: Average loss: 0.4668, Accuracy: 8457/10000 (84.57%)\n",
            "\n",
            "EPOCH: 57\n"
          ]
        },
        {
          "metadata": {
            "tags": null
          },
          "name": "stderr",
          "output_type": "stream",
          "text": [
            "Loss=0.678625226020813 Batch_id=97 Accuracy=78.96: 100%|██████████| 98/98 [00:13<00:00,  7.39it/s]\n"
          ]
        },
        {
          "metadata": {
            "tags": null
          },
          "name": "stdout",
          "output_type": "stream",
          "text": [
            "\n",
            "Test set: Average loss: 0.4541, Accuracy: 8452/10000 (84.52%)\n",
            "\n",
            "EPOCH: 58\n"
          ]
        },
        {
          "metadata": {
            "tags": null
          },
          "name": "stderr",
          "output_type": "stream",
          "text": [
            "Loss=0.6478513479232788 Batch_id=97 Accuracy=79.18: 100%|██████████| 98/98 [00:13<00:00,  7.44it/s]\n"
          ]
        },
        {
          "metadata": {
            "tags": null
          },
          "name": "stdout",
          "output_type": "stream",
          "text": [
            "\n",
            "Test set: Average loss: 0.4728, Accuracy: 8450/10000 (84.50%)\n",
            "\n",
            "EPOCH: 59\n"
          ]
        },
        {
          "metadata": {
            "tags": null
          },
          "name": "stderr",
          "output_type": "stream",
          "text": [
            "Loss=0.6600233316421509 Batch_id=97 Accuracy=78.83: 100%|██████████| 98/98 [00:12<00:00,  7.94it/s]\n"
          ]
        },
        {
          "metadata": {
            "tags": null
          },
          "name": "stdout",
          "output_type": "stream",
          "text": [
            "\n",
            "Test set: Average loss: 0.4697, Accuracy: 8455/10000 (84.55%)\n",
            "\n",
            "EPOCH: 60\n"
          ]
        },
        {
          "metadata": {
            "tags": null
          },
          "name": "stderr",
          "output_type": "stream",
          "text": [
            "Loss=0.6076568961143494 Batch_id=97 Accuracy=79.05: 100%|██████████| 98/98 [00:12<00:00,  7.55it/s]\n"
          ]
        },
        {
          "metadata": {
            "tags": null
          },
          "name": "stdout",
          "output_type": "stream",
          "text": [
            "\n",
            "Test set: Average loss: 0.4751, Accuracy: 8366/10000 (83.66%)\n",
            "\n",
            "EPOCH: 61\n"
          ]
        },
        {
          "metadata": {
            "tags": null
          },
          "name": "stderr",
          "output_type": "stream",
          "text": [
            "Loss=0.6712964177131653 Batch_id=97 Accuracy=79.01: 100%|██████████| 98/98 [00:13<00:00,  7.45it/s]\n"
          ]
        },
        {
          "metadata": {
            "tags": null
          },
          "name": "stdout",
          "output_type": "stream",
          "text": [
            "\n",
            "Test set: Average loss: 0.4583, Accuracy: 8480/10000 (84.80%)\n",
            "\n",
            "EPOCH: 62\n"
          ]
        },
        {
          "metadata": {
            "tags": null
          },
          "name": "stderr",
          "output_type": "stream",
          "text": [
            "Loss=0.6175121665000916 Batch_id=97 Accuracy=79.32: 100%|██████████| 98/98 [00:13<00:00,  7.49it/s]\n"
          ]
        },
        {
          "metadata": {
            "tags": null
          },
          "name": "stdout",
          "output_type": "stream",
          "text": [
            "\n",
            "Test set: Average loss: 0.4646, Accuracy: 8498/10000 (84.98%)\n",
            "\n",
            "EPOCH: 63\n"
          ]
        },
        {
          "metadata": {
            "tags": null
          },
          "name": "stderr",
          "output_type": "stream",
          "text": [
            "Loss=0.47283944487571716 Batch_id=97 Accuracy=79.07: 100%|██████████| 98/98 [00:13<00:00,  7.37it/s]\n"
          ]
        },
        {
          "metadata": {
            "tags": null
          },
          "name": "stdout",
          "output_type": "stream",
          "text": [
            "\n",
            "Test set: Average loss: 0.4620, Accuracy: 8477/10000 (84.77%)\n",
            "\n",
            "EPOCH: 64\n"
          ]
        },
        {
          "metadata": {
            "tags": null
          },
          "name": "stderr",
          "output_type": "stream",
          "text": [
            "Loss=0.6071616411209106 Batch_id=97 Accuracy=79.52: 100%|██████████| 98/98 [00:12<00:00,  7.64it/s]\n"
          ]
        },
        {
          "metadata": {
            "tags": null
          },
          "name": "stdout",
          "output_type": "stream",
          "text": [
            "\n",
            "Test set: Average loss: 0.5154, Accuracy: 8318/10000 (83.18%)\n",
            "\n",
            "EPOCH: 65\n"
          ]
        },
        {
          "metadata": {
            "tags": null
          },
          "name": "stderr",
          "output_type": "stream",
          "text": [
            "Loss=0.5708123445510864 Batch_id=97 Accuracy=79.56: 100%|██████████| 98/98 [00:13<00:00,  7.51it/s]\n"
          ]
        },
        {
          "metadata": {
            "tags": null
          },
          "name": "stdout",
          "output_type": "stream",
          "text": [
            "\n",
            "Test set: Average loss: 0.4908, Accuracy: 8423/10000 (84.23%)\n",
            "\n",
            "EPOCH: 66\n"
          ]
        },
        {
          "metadata": {
            "tags": null
          },
          "name": "stderr",
          "output_type": "stream",
          "text": [
            "Loss=0.5345656275749207 Batch_id=97 Accuracy=79.44: 100%|██████████| 98/98 [00:12<00:00,  7.58it/s]\n"
          ]
        },
        {
          "metadata": {
            "tags": null
          },
          "name": "stdout",
          "output_type": "stream",
          "text": [
            "\n",
            "Test set: Average loss: 0.4692, Accuracy: 8460/10000 (84.60%)\n",
            "\n",
            "EPOCH: 67\n"
          ]
        },
        {
          "metadata": {
            "tags": null
          },
          "name": "stderr",
          "output_type": "stream",
          "text": [
            "Loss=0.5003325343132019 Batch_id=97 Accuracy=79.55: 100%|██████████| 98/98 [00:13<00:00,  7.48it/s]\n"
          ]
        },
        {
          "metadata": {
            "tags": null
          },
          "name": "stdout",
          "output_type": "stream",
          "text": [
            "\n",
            "Test set: Average loss: 0.4458, Accuracy: 8537/10000 (85.37%)\n",
            "\n",
            "EPOCH: 68\n"
          ]
        },
        {
          "metadata": {
            "tags": null
          },
          "name": "stderr",
          "output_type": "stream",
          "text": [
            "Loss=0.6074647307395935 Batch_id=97 Accuracy=79.26: 100%|██████████| 98/98 [00:12<00:00,  7.55it/s]\n"
          ]
        },
        {
          "metadata": {
            "tags": null
          },
          "name": "stdout",
          "output_type": "stream",
          "text": [
            "\n",
            "Test set: Average loss: 0.4568, Accuracy: 8505/10000 (85.05%)\n",
            "\n",
            "EPOCH: 69\n"
          ]
        },
        {
          "metadata": {
            "tags": null
          },
          "name": "stderr",
          "output_type": "stream",
          "text": [
            "Loss=0.7020139694213867 Batch_id=97 Accuracy=79.40: 100%|██████████| 98/98 [00:12<00:00,  7.59it/s]\n"
          ]
        },
        {
          "metadata": {
            "tags": null
          },
          "name": "stdout",
          "output_type": "stream",
          "text": [
            "\n",
            "Test set: Average loss: 0.4787, Accuracy: 8424/10000 (84.24%)\n",
            "\n",
            "EPOCH: 70\n"
          ]
        },
        {
          "metadata": {
            "tags": null
          },
          "name": "stderr",
          "output_type": "stream",
          "text": [
            "Loss=0.5897084474563599 Batch_id=97 Accuracy=79.60: 100%|██████████| 98/98 [00:13<00:00,  7.46it/s]\n"
          ]
        },
        {
          "metadata": {
            "tags": null
          },
          "name": "stdout",
          "output_type": "stream",
          "text": [
            "\n",
            "Test set: Average loss: 0.4747, Accuracy: 8439/10000 (84.39%)\n",
            "\n",
            "EPOCH: 71\n"
          ]
        },
        {
          "metadata": {
            "tags": null
          },
          "name": "stderr",
          "output_type": "stream",
          "text": [
            "Loss=0.5346512794494629 Batch_id=97 Accuracy=79.61: 100%|██████████| 98/98 [00:13<00:00,  7.35it/s]\n"
          ]
        },
        {
          "metadata": {
            "tags": null
          },
          "name": "stdout",
          "output_type": "stream",
          "text": [
            "\n",
            "Test set: Average loss: 0.4628, Accuracy: 8427/10000 (84.27%)\n",
            "\n",
            "EPOCH: 72\n"
          ]
        },
        {
          "metadata": {
            "tags": null
          },
          "name": "stderr",
          "output_type": "stream",
          "text": [
            "Loss=0.6025581955909729 Batch_id=97 Accuracy=79.75: 100%|██████████| 98/98 [00:12<00:00,  7.64it/s]\n"
          ]
        },
        {
          "metadata": {
            "tags": null
          },
          "name": "stdout",
          "output_type": "stream",
          "text": [
            "\n",
            "Test set: Average loss: 0.4766, Accuracy: 8435/10000 (84.35%)\n",
            "\n",
            "EPOCH: 73\n"
          ]
        },
        {
          "metadata": {
            "tags": null
          },
          "name": "stderr",
          "output_type": "stream",
          "text": [
            "Loss=0.5377574563026428 Batch_id=97 Accuracy=80.05: 100%|██████████| 98/98 [00:13<00:00,  7.51it/s]\n"
          ]
        },
        {
          "metadata": {
            "tags": null
          },
          "name": "stdout",
          "output_type": "stream",
          "text": [
            "\n",
            "Test set: Average loss: 0.4638, Accuracy: 8494/10000 (84.94%)\n",
            "\n",
            "EPOCH: 74\n"
          ]
        },
        {
          "metadata": {
            "tags": null
          },
          "name": "stderr",
          "output_type": "stream",
          "text": [
            "Loss=0.5132718086242676 Batch_id=97 Accuracy=80.13: 100%|██████████| 98/98 [00:12<00:00,  7.65it/s]\n"
          ]
        },
        {
          "metadata": {
            "tags": null
          },
          "name": "stdout",
          "output_type": "stream",
          "text": [
            "\n",
            "Test set: Average loss: 0.4613, Accuracy: 8468/10000 (84.68%)\n",
            "\n",
            "EPOCH: 75\n"
          ]
        },
        {
          "metadata": {
            "tags": null
          },
          "name": "stderr",
          "output_type": "stream",
          "text": [
            "Loss=0.5230063199996948 Batch_id=97 Accuracy=79.85: 100%|██████████| 98/98 [00:12<00:00,  7.66it/s]\n"
          ]
        },
        {
          "metadata": {
            "tags": null
          },
          "name": "stdout",
          "output_type": "stream",
          "text": [
            "\n",
            "Test set: Average loss: 0.4600, Accuracy: 8463/10000 (84.63%)\n",
            "\n",
            "EPOCH: 76\n"
          ]
        },
        {
          "metadata": {
            "tags": null
          },
          "name": "stderr",
          "output_type": "stream",
          "text": [
            "Loss=0.5755982398986816 Batch_id=97 Accuracy=80.19: 100%|██████████| 98/98 [00:12<00:00,  7.64it/s]\n"
          ]
        },
        {
          "metadata": {
            "tags": null
          },
          "name": "stdout",
          "output_type": "stream",
          "text": [
            "\n",
            "Test set: Average loss: 0.4563, Accuracy: 8496/10000 (84.96%)\n",
            "\n",
            "EPOCH: 77\n"
          ]
        },
        {
          "metadata": {
            "tags": null
          },
          "name": "stderr",
          "output_type": "stream",
          "text": [
            "Loss=0.7087705731391907 Batch_id=97 Accuracy=79.77: 100%|██████████| 98/98 [00:13<00:00,  7.49it/s]\n"
          ]
        },
        {
          "metadata": {
            "tags": null
          },
          "name": "stdout",
          "output_type": "stream",
          "text": [
            "\n",
            "Test set: Average loss: 0.4410, Accuracy: 8527/10000 (85.27%)\n",
            "\n",
            "EPOCH: 78\n"
          ]
        },
        {
          "metadata": {
            "tags": null
          },
          "name": "stderr",
          "output_type": "stream",
          "text": [
            "Loss=0.5626107454299927 Batch_id=97 Accuracy=80.04: 100%|██████████| 98/98 [00:12<00:00,  7.62it/s]\n"
          ]
        },
        {
          "metadata": {
            "tags": null
          },
          "name": "stdout",
          "output_type": "stream",
          "text": [
            "\n",
            "Test set: Average loss: 0.4499, Accuracy: 8521/10000 (85.21%)\n",
            "\n",
            "EPOCH: 79\n"
          ]
        },
        {
          "metadata": {
            "tags": null
          },
          "name": "stderr",
          "output_type": "stream",
          "text": [
            "Loss=0.4780276119709015 Batch_id=97 Accuracy=80.35: 100%|██████████| 98/98 [00:12<00:00,  7.58it/s]\n"
          ]
        },
        {
          "metadata": {
            "tags": null
          },
          "name": "stdout",
          "output_type": "stream",
          "text": [
            "\n",
            "Test set: Average loss: 0.4602, Accuracy: 8527/10000 (85.27%)\n",
            "\n",
            "EPOCH: 80\n"
          ]
        },
        {
          "metadata": {
            "tags": null
          },
          "name": "stderr",
          "output_type": "stream",
          "text": [
            "Loss=0.5542477965354919 Batch_id=97 Accuracy=80.15: 100%|██████████| 98/98 [00:12<00:00,  7.61it/s]\n"
          ]
        },
        {
          "metadata": {
            "tags": null
          },
          "name": "stdout",
          "output_type": "stream",
          "text": [
            "\n",
            "Test set: Average loss: 0.4545, Accuracy: 8537/10000 (85.37%)\n",
            "\n",
            "EPOCH: 81\n"
          ]
        },
        {
          "metadata": {
            "tags": null
          },
          "name": "stderr",
          "output_type": "stream",
          "text": [
            "Loss=0.608185887336731 Batch_id=97 Accuracy=80.22: 100%|██████████| 98/98 [00:13<00:00,  7.51it/s]\n"
          ]
        },
        {
          "metadata": {
            "tags": null
          },
          "name": "stdout",
          "output_type": "stream",
          "text": [
            "\n",
            "Test set: Average loss: 0.4535, Accuracy: 8552/10000 (85.52%)\n",
            "\n",
            "EPOCH: 82\n"
          ]
        },
        {
          "metadata": {
            "tags": null
          },
          "name": "stderr",
          "output_type": "stream",
          "text": [
            "Loss=0.5763078927993774 Batch_id=97 Accuracy=80.29: 100%|██████████| 98/98 [00:13<00:00,  7.05it/s]\n"
          ]
        },
        {
          "metadata": {
            "tags": null
          },
          "name": "stdout",
          "output_type": "stream",
          "text": [
            "\n",
            "Test set: Average loss: 0.4685, Accuracy: 8441/10000 (84.41%)\n",
            "\n",
            "EPOCH: 83\n"
          ]
        },
        {
          "metadata": {
            "tags": null
          },
          "name": "stderr",
          "output_type": "stream",
          "text": [
            "Loss=0.5396720170974731 Batch_id=97 Accuracy=80.47: 100%|██████████| 98/98 [00:12<00:00,  7.70it/s]\n"
          ]
        },
        {
          "metadata": {
            "tags": null
          },
          "name": "stdout",
          "output_type": "stream",
          "text": [
            "\n",
            "Test set: Average loss: 0.4675, Accuracy: 8495/10000 (84.95%)\n",
            "\n",
            "EPOCH: 84\n"
          ]
        },
        {
          "metadata": {
            "tags": null
          },
          "name": "stderr",
          "output_type": "stream",
          "text": [
            "Loss=0.5527290105819702 Batch_id=97 Accuracy=80.15: 100%|██████████| 98/98 [00:12<00:00,  7.77it/s]\n"
          ]
        },
        {
          "metadata": {
            "tags": null
          },
          "name": "stdout",
          "output_type": "stream",
          "text": [
            "\n",
            "Test set: Average loss: 0.4539, Accuracy: 8475/10000 (84.75%)\n",
            "\n",
            "EPOCH: 85\n"
          ]
        },
        {
          "metadata": {
            "tags": null
          },
          "name": "stderr",
          "output_type": "stream",
          "text": [
            "Loss=0.5445504188537598 Batch_id=97 Accuracy=80.60: 100%|██████████| 98/98 [00:12<00:00,  7.76it/s]\n"
          ]
        },
        {
          "metadata": {
            "tags": null
          },
          "name": "stdout",
          "output_type": "stream",
          "text": [
            "\n",
            "Test set: Average loss: 0.4686, Accuracy: 8453/10000 (84.53%)\n",
            "\n",
            "EPOCH: 86\n"
          ]
        },
        {
          "metadata": {
            "tags": null
          },
          "name": "stderr",
          "output_type": "stream",
          "text": [
            "Loss=0.6165471076965332 Batch_id=97 Accuracy=80.46: 100%|██████████| 98/98 [00:12<00:00,  7.73it/s]\n"
          ]
        },
        {
          "metadata": {
            "tags": null
          },
          "name": "stdout",
          "output_type": "stream",
          "text": [
            "\n",
            "Test set: Average loss: 0.4499, Accuracy: 8514/10000 (85.14%)\n",
            "\n",
            "EPOCH: 87\n"
          ]
        },
        {
          "metadata": {
            "tags": null
          },
          "name": "stderr",
          "output_type": "stream",
          "text": [
            "Loss=0.5930839776992798 Batch_id=97 Accuracy=80.63: 100%|██████████| 98/98 [00:11<00:00,  8.19it/s]\n"
          ]
        },
        {
          "metadata": {
            "tags": null
          },
          "name": "stdout",
          "output_type": "stream",
          "text": [
            "\n",
            "Test set: Average loss: 0.4448, Accuracy: 8545/10000 (85.45%)\n",
            "\n",
            "EPOCH: 88\n"
          ]
        },
        {
          "metadata": {
            "tags": null
          },
          "name": "stderr",
          "output_type": "stream",
          "text": [
            "Loss=0.5469889640808105 Batch_id=97 Accuracy=80.64: 100%|██████████| 98/98 [00:12<00:00,  7.82it/s]\n"
          ]
        },
        {
          "metadata": {
            "tags": null
          },
          "name": "stdout",
          "output_type": "stream",
          "text": [
            "\n",
            "Test set: Average loss: 0.4781, Accuracy: 8458/10000 (84.58%)\n",
            "\n",
            "EPOCH: 89\n"
          ]
        },
        {
          "metadata": {
            "tags": null
          },
          "name": "stderr",
          "output_type": "stream",
          "text": [
            "Loss=0.5198349356651306 Batch_id=97 Accuracy=80.76: 100%|██████████| 98/98 [00:12<00:00,  7.86it/s]\n"
          ]
        },
        {
          "metadata": {
            "tags": null
          },
          "name": "stdout",
          "output_type": "stream",
          "text": [
            "\n",
            "Test set: Average loss: 0.4474, Accuracy: 8569/10000 (85.69%)\n",
            "\n",
            "EPOCH: 90\n"
          ]
        },
        {
          "metadata": {
            "tags": null
          },
          "name": "stderr",
          "output_type": "stream",
          "text": [
            "Loss=0.4731099307537079 Batch_id=97 Accuracy=80.55: 100%|██████████| 98/98 [00:12<00:00,  7.72it/s]\n"
          ]
        },
        {
          "metadata": {
            "tags": null
          },
          "name": "stdout",
          "output_type": "stream",
          "text": [
            "\n",
            "Test set: Average loss: 0.4518, Accuracy: 8519/10000 (85.19%)\n",
            "\n",
            "EPOCH: 91\n"
          ]
        },
        {
          "metadata": {
            "tags": null
          },
          "name": "stderr",
          "output_type": "stream",
          "text": [
            "Loss=0.4586173892021179 Batch_id=97 Accuracy=80.76: 100%|██████████| 98/98 [00:12<00:00,  7.75it/s]\n"
          ]
        },
        {
          "metadata": {
            "tags": null
          },
          "name": "stdout",
          "output_type": "stream",
          "text": [
            "\n",
            "Test set: Average loss: 0.4405, Accuracy: 8543/10000 (85.43%)\n",
            "\n",
            "EPOCH: 92\n"
          ]
        },
        {
          "metadata": {
            "tags": null
          },
          "name": "stderr",
          "output_type": "stream",
          "text": [
            "Loss=0.5517649054527283 Batch_id=97 Accuracy=80.80: 100%|██████████| 98/98 [00:12<00:00,  7.72it/s]\n"
          ]
        },
        {
          "metadata": {
            "tags": null
          },
          "name": "stdout",
          "output_type": "stream",
          "text": [
            "\n",
            "Test set: Average loss: 0.4462, Accuracy: 8518/10000 (85.18%)\n",
            "\n",
            "EPOCH: 93\n"
          ]
        },
        {
          "metadata": {
            "tags": null
          },
          "name": "stderr",
          "output_type": "stream",
          "text": [
            "Loss=0.64089435338974 Batch_id=97 Accuracy=80.89: 100%|██████████| 98/98 [00:13<00:00,  7.03it/s]\n"
          ]
        },
        {
          "metadata": {
            "tags": null
          },
          "name": "stdout",
          "output_type": "stream",
          "text": [
            "\n",
            "Test set: Average loss: 0.4287, Accuracy: 8570/10000 (85.70%)\n",
            "\n",
            "EPOCH: 94\n"
          ]
        },
        {
          "metadata": {
            "tags": null
          },
          "name": "stderr",
          "output_type": "stream",
          "text": [
            "Loss=0.5633025765419006 Batch_id=97 Accuracy=80.67: 100%|██████████| 98/98 [00:13<00:00,  7.50it/s]\n"
          ]
        },
        {
          "metadata": {
            "tags": null
          },
          "name": "stdout",
          "output_type": "stream",
          "text": [
            "\n",
            "Test set: Average loss: 0.4433, Accuracy: 8511/10000 (85.11%)\n",
            "\n",
            "EPOCH: 95\n"
          ]
        },
        {
          "metadata": {
            "tags": null
          },
          "name": "stderr",
          "output_type": "stream",
          "text": [
            "Loss=0.634364128112793 Batch_id=97 Accuracy=81.12: 100%|██████████| 98/98 [00:12<00:00,  7.58it/s]\n"
          ]
        },
        {
          "metadata": {
            "tags": null
          },
          "name": "stdout",
          "output_type": "stream",
          "text": [
            "\n",
            "Test set: Average loss: 0.4288, Accuracy: 8578/10000 (85.78%)\n",
            "\n",
            "EPOCH: 96\n"
          ]
        },
        {
          "metadata": {
            "tags": null
          },
          "name": "stderr",
          "output_type": "stream",
          "text": [
            "Loss=0.5479022860527039 Batch_id=97 Accuracy=81.04: 100%|██████████| 98/98 [00:12<00:00,  7.57it/s]\n"
          ]
        },
        {
          "metadata": {
            "tags": null
          },
          "name": "stdout",
          "output_type": "stream",
          "text": [
            "\n",
            "Test set: Average loss: 0.4324, Accuracy: 8571/10000 (85.71%)\n",
            "\n",
            "EPOCH: 97\n"
          ]
        },
        {
          "metadata": {
            "tags": null
          },
          "name": "stderr",
          "output_type": "stream",
          "text": [
            "Loss=0.6060107350349426 Batch_id=97 Accuracy=80.92: 100%|██████████| 98/98 [00:12<00:00,  7.75it/s]\n"
          ]
        },
        {
          "metadata": {
            "tags": null
          },
          "name": "stdout",
          "output_type": "stream",
          "text": [
            "\n",
            "Test set: Average loss: 0.4696, Accuracy: 8492/10000 (84.92%)\n",
            "\n",
            "EPOCH: 98\n"
          ]
        },
        {
          "metadata": {
            "tags": null
          },
          "name": "stderr",
          "output_type": "stream",
          "text": [
            "Loss=0.48174595832824707 Batch_id=97 Accuracy=80.83: 100%|██████████| 98/98 [00:12<00:00,  7.77it/s]\n"
          ]
        },
        {
          "metadata": {
            "tags": null
          },
          "name": "stdout",
          "output_type": "stream",
          "text": [
            "\n",
            "Test set: Average loss: 0.4393, Accuracy: 8569/10000 (85.69%)\n",
            "\n",
            "EPOCH: 99\n"
          ]
        },
        {
          "metadata": {
            "tags": null
          },
          "name": "stderr",
          "output_type": "stream",
          "text": [
            "Loss=0.575049877166748 Batch_id=97 Accuracy=81.10: 100%|██████████| 98/98 [00:12<00:00,  7.75it/s]\n"
          ]
        },
        {
          "metadata": {
            "tags": null
          },
          "name": "stdout",
          "output_type": "stream",
          "text": [
            "\n",
            "Test set: Average loss: 0.4200, Accuracy: 8632/10000 (86.32%)\n",
            "\n",
            "EPOCH: 100\n"
          ]
        },
        {
          "metadata": {
            "tags": null
          },
          "name": "stderr",
          "output_type": "stream",
          "text": [
            "Loss=0.4942188262939453 Batch_id=97 Accuracy=80.83: 100%|██████████| 98/98 [00:12<00:00,  7.82it/s]\n"
          ]
        },
        {
          "metadata": {
            "tags": null
          },
          "name": "stdout",
          "output_type": "stream",
          "text": [
            "\n",
            "Test set: Average loss: 0.4433, Accuracy: 8552/10000 (85.52%)\n",
            "\n",
            "EPOCH: 101\n"
          ]
        },
        {
          "metadata": {
            "tags": null
          },
          "name": "stderr",
          "output_type": "stream",
          "text": [
            "Loss=0.4890654981136322 Batch_id=97 Accuracy=81.02: 100%|██████████| 98/98 [00:12<00:00,  7.68it/s]\n"
          ]
        },
        {
          "metadata": {
            "tags": null
          },
          "name": "stdout",
          "output_type": "stream",
          "text": [
            "\n",
            "Test set: Average loss: 0.4271, Accuracy: 8577/10000 (85.77%)\n",
            "\n",
            "EPOCH: 102\n"
          ]
        },
        {
          "metadata": {
            "tags": null
          },
          "name": "stderr",
          "output_type": "stream",
          "text": [
            "Loss=0.554284393787384 Batch_id=97 Accuracy=81.23: 100%|██████████| 98/98 [00:12<00:00,  7.72it/s]\n"
          ]
        },
        {
          "metadata": {
            "tags": null
          },
          "name": "stdout",
          "output_type": "stream",
          "text": [
            "\n",
            "Test set: Average loss: 0.4560, Accuracy: 8513/10000 (85.13%)\n",
            "\n",
            "EPOCH: 103\n"
          ]
        },
        {
          "metadata": {
            "tags": null
          },
          "name": "stderr",
          "output_type": "stream",
          "text": [
            "Loss=0.6061359643936157 Batch_id=97 Accuracy=81.06: 100%|██████████| 98/98 [00:12<00:00,  7.79it/s]\n"
          ]
        },
        {
          "metadata": {
            "tags": null
          },
          "name": "stdout",
          "output_type": "stream",
          "text": [
            "\n",
            "Test set: Average loss: 0.4365, Accuracy: 8544/10000 (85.44%)\n",
            "\n",
            "EPOCH: 104\n"
          ]
        },
        {
          "metadata": {
            "tags": null
          },
          "name": "stderr",
          "output_type": "stream",
          "text": [
            "Loss=0.5479701161384583 Batch_id=97 Accuracy=81.24: 100%|██████████| 98/98 [00:13<00:00,  7.10it/s]\n"
          ]
        },
        {
          "metadata": {
            "tags": null
          },
          "name": "stdout",
          "output_type": "stream",
          "text": [
            "\n",
            "Test set: Average loss: 0.4384, Accuracy: 8593/10000 (85.93%)\n",
            "\n",
            "EPOCH: 105\n"
          ]
        },
        {
          "metadata": {
            "tags": null
          },
          "name": "stderr",
          "output_type": "stream",
          "text": [
            "Loss=0.46112796664237976 Batch_id=97 Accuracy=81.32: 100%|██████████| 98/98 [00:12<00:00,  7.61it/s]\n"
          ]
        },
        {
          "metadata": {
            "tags": null
          },
          "name": "stdout",
          "output_type": "stream",
          "text": [
            "\n",
            "Test set: Average loss: 0.4181, Accuracy: 8595/10000 (85.95%)\n",
            "\n",
            "EPOCH: 106\n"
          ]
        },
        {
          "metadata": {
            "tags": null
          },
          "name": "stderr",
          "output_type": "stream",
          "text": [
            "Loss=0.5648135542869568 Batch_id=97 Accuracy=81.11: 100%|██████████| 98/98 [00:12<00:00,  7.70it/s]\n"
          ]
        },
        {
          "metadata": {
            "tags": null
          },
          "name": "stdout",
          "output_type": "stream",
          "text": [
            "\n",
            "Test set: Average loss: 0.4284, Accuracy: 8592/10000 (85.92%)\n",
            "\n",
            "EPOCH: 107\n"
          ]
        },
        {
          "metadata": {
            "tags": null
          },
          "name": "stderr",
          "output_type": "stream",
          "text": [
            "Loss=0.561407208442688 Batch_id=97 Accuracy=81.43: 100%|██████████| 98/98 [00:12<00:00,  7.76it/s]\n"
          ]
        },
        {
          "metadata": {
            "tags": null
          },
          "name": "stdout",
          "output_type": "stream",
          "text": [
            "\n",
            "Test set: Average loss: 0.4563, Accuracy: 8542/10000 (85.42%)\n",
            "\n",
            "EPOCH: 108\n"
          ]
        },
        {
          "metadata": {
            "tags": null
          },
          "name": "stderr",
          "output_type": "stream",
          "text": [
            "Loss=0.5842152833938599 Batch_id=97 Accuracy=81.39: 100%|██████████| 98/98 [00:12<00:00,  7.87it/s]\n"
          ]
        },
        {
          "metadata": {
            "tags": null
          },
          "name": "stdout",
          "output_type": "stream",
          "text": [
            "\n",
            "Test set: Average loss: 0.4250, Accuracy: 8610/10000 (86.10%)\n",
            "\n",
            "EPOCH: 109\n"
          ]
        },
        {
          "metadata": {
            "tags": null
          },
          "name": "stderr",
          "output_type": "stream",
          "text": [
            "Loss=0.5407155156135559 Batch_id=97 Accuracy=81.49: 100%|██████████| 98/98 [00:12<00:00,  7.58it/s]\n"
          ]
        },
        {
          "metadata": {
            "tags": null
          },
          "name": "stdout",
          "output_type": "stream",
          "text": [
            "\n",
            "Test set: Average loss: 0.4244, Accuracy: 8590/10000 (85.90%)\n",
            "\n",
            "EPOCH: 110\n"
          ]
        },
        {
          "metadata": {
            "tags": null
          },
          "name": "stderr",
          "output_type": "stream",
          "text": [
            "Loss=0.5106450319290161 Batch_id=97 Accuracy=81.81: 100%|██████████| 98/98 [00:12<00:00,  7.73it/s]\n"
          ]
        },
        {
          "metadata": {
            "tags": null
          },
          "name": "stdout",
          "output_type": "stream",
          "text": [
            "\n",
            "Test set: Average loss: 0.4664, Accuracy: 8508/10000 (85.08%)\n",
            "\n",
            "EPOCH: 111\n"
          ]
        },
        {
          "metadata": {
            "tags": null
          },
          "name": "stderr",
          "output_type": "stream",
          "text": [
            "Loss=0.5819575190544128 Batch_id=97 Accuracy=81.04: 100%|██████████| 98/98 [00:12<00:00,  7.73it/s]\n"
          ]
        },
        {
          "metadata": {
            "tags": null
          },
          "name": "stdout",
          "output_type": "stream",
          "text": [
            "\n",
            "Test set: Average loss: 0.4230, Accuracy: 8587/10000 (85.87%)\n",
            "\n",
            "EPOCH: 112\n"
          ]
        },
        {
          "metadata": {
            "tags": null
          },
          "name": "stderr",
          "output_type": "stream",
          "text": [
            "Loss=0.5312514901161194 Batch_id=97 Accuracy=81.53: 100%|██████████| 98/98 [00:12<00:00,  7.87it/s]\n"
          ]
        },
        {
          "metadata": {
            "tags": null
          },
          "name": "stdout",
          "output_type": "stream",
          "text": [
            "\n",
            "Test set: Average loss: 0.4073, Accuracy: 8628/10000 (86.28%)\n",
            "\n",
            "EPOCH: 113\n"
          ]
        },
        {
          "metadata": {
            "tags": null
          },
          "name": "stderr",
          "output_type": "stream",
          "text": [
            "Loss=0.4954169690608978 Batch_id=97 Accuracy=81.34: 100%|██████████| 98/98 [00:13<00:00,  7.54it/s]\n"
          ]
        },
        {
          "metadata": {
            "tags": null
          },
          "name": "stdout",
          "output_type": "stream",
          "text": [
            "\n",
            "Test set: Average loss: 0.4318, Accuracy: 8594/10000 (85.94%)\n",
            "\n",
            "EPOCH: 114\n"
          ]
        },
        {
          "metadata": {
            "tags": null
          },
          "name": "stderr",
          "output_type": "stream",
          "text": [
            "Loss=0.565278172492981 Batch_id=97 Accuracy=81.41: 100%|██████████| 98/98 [00:12<00:00,  7.68it/s]\n"
          ]
        },
        {
          "metadata": {
            "tags": null
          },
          "name": "stdout",
          "output_type": "stream",
          "text": [
            "\n",
            "Test set: Average loss: 0.4209, Accuracy: 8602/10000 (86.02%)\n",
            "\n",
            "EPOCH: 115\n"
          ]
        },
        {
          "metadata": {
            "tags": null
          },
          "name": "stderr",
          "output_type": "stream",
          "text": [
            "Loss=0.6361227035522461 Batch_id=97 Accuracy=81.64: 100%|██████████| 98/98 [00:12<00:00,  7.69it/s]\n"
          ]
        },
        {
          "metadata": {
            "tags": null
          },
          "name": "stdout",
          "output_type": "stream",
          "text": [
            "\n",
            "Test set: Average loss: 0.4216, Accuracy: 8614/10000 (86.14%)\n",
            "\n",
            "EPOCH: 116\n"
          ]
        },
        {
          "metadata": {
            "tags": null
          },
          "name": "stderr",
          "output_type": "stream",
          "text": [
            "Loss=0.5826984643936157 Batch_id=97 Accuracy=81.61: 100%|██████████| 98/98 [00:12<00:00,  7.82it/s]\n"
          ]
        },
        {
          "metadata": {
            "tags": null
          },
          "name": "stdout",
          "output_type": "stream",
          "text": [
            "\n",
            "Test set: Average loss: 0.4181, Accuracy: 8627/10000 (86.27%)\n",
            "\n",
            "EPOCH: 117\n"
          ]
        },
        {
          "metadata": {
            "tags": null
          },
          "name": "stderr",
          "output_type": "stream",
          "text": [
            "Loss=0.47032982110977173 Batch_id=97 Accuracy=81.63: 100%|██████████| 98/98 [00:12<00:00,  7.71it/s]\n"
          ]
        },
        {
          "metadata": {
            "tags": null
          },
          "name": "stdout",
          "output_type": "stream",
          "text": [
            "\n",
            "Test set: Average loss: 0.4436, Accuracy: 8573/10000 (85.73%)\n",
            "\n",
            "EPOCH: 118\n"
          ]
        },
        {
          "metadata": {
            "tags": null
          },
          "name": "stderr",
          "output_type": "stream",
          "text": [
            "Loss=0.524287223815918 Batch_id=97 Accuracy=81.94: 100%|██████████| 98/98 [00:12<00:00,  7.75it/s]\n"
          ]
        },
        {
          "metadata": {
            "tags": null
          },
          "name": "stdout",
          "output_type": "stream",
          "text": [
            "\n",
            "Test set: Average loss: 0.4190, Accuracy: 8621/10000 (86.21%)\n",
            "\n",
            "EPOCH: 119\n"
          ]
        },
        {
          "metadata": {
            "tags": null
          },
          "name": "stderr",
          "output_type": "stream",
          "text": [
            "Loss=0.4932764172554016 Batch_id=97 Accuracy=81.88: 100%|██████████| 98/98 [00:13<00:00,  7.53it/s]\n"
          ]
        },
        {
          "metadata": {
            "tags": null
          },
          "name": "stdout",
          "output_type": "stream",
          "text": [
            "\n",
            "Test set: Average loss: 0.4284, Accuracy: 8616/10000 (86.16%)\n",
            "\n",
            "EPOCH: 120\n"
          ]
        },
        {
          "metadata": {
            "tags": null
          },
          "name": "stderr",
          "output_type": "stream",
          "text": [
            "Loss=0.5280056595802307 Batch_id=97 Accuracy=81.52: 100%|██████████| 98/98 [00:12<00:00,  7.57it/s]\n"
          ]
        },
        {
          "metadata": {
            "tags": null
          },
          "name": "stdout",
          "output_type": "stream",
          "text": [
            "\n",
            "Test set: Average loss: 0.4226, Accuracy: 8610/10000 (86.10%)\n",
            "\n",
            "EPOCH: 121\n"
          ]
        },
        {
          "metadata": {
            "tags": null
          },
          "name": "stderr",
          "output_type": "stream",
          "text": [
            "Loss=0.5568773746490479 Batch_id=97 Accuracy=81.82: 100%|██████████| 98/98 [00:13<00:00,  7.44it/s]\n"
          ]
        },
        {
          "metadata": {
            "tags": null
          },
          "name": "stdout",
          "output_type": "stream",
          "text": [
            "\n",
            "Test set: Average loss: 0.4332, Accuracy: 8600/10000 (86.00%)\n",
            "\n",
            "EPOCH: 122\n"
          ]
        },
        {
          "metadata": {
            "tags": null
          },
          "name": "stderr",
          "output_type": "stream",
          "text": [
            "Loss=0.49505579471588135 Batch_id=97 Accuracy=81.88: 100%|██████████| 98/98 [00:12<00:00,  7.72it/s]\n"
          ]
        },
        {
          "metadata": {
            "tags": null
          },
          "name": "stdout",
          "output_type": "stream",
          "text": [
            "\n",
            "Test set: Average loss: 0.4255, Accuracy: 8631/10000 (86.31%)\n",
            "\n",
            "EPOCH: 123\n"
          ]
        },
        {
          "metadata": {
            "tags": null
          },
          "name": "stderr",
          "output_type": "stream",
          "text": [
            "Loss=0.4321388006210327 Batch_id=97 Accuracy=81.76: 100%|██████████| 98/98 [00:12<00:00,  7.67it/s]\n"
          ]
        },
        {
          "metadata": {
            "tags": null
          },
          "name": "stdout",
          "output_type": "stream",
          "text": [
            "\n",
            "Test set: Average loss: 0.4293, Accuracy: 8632/10000 (86.32%)\n",
            "\n",
            "EPOCH: 124\n"
          ]
        },
        {
          "metadata": {
            "tags": null
          },
          "name": "stderr",
          "output_type": "stream",
          "text": [
            "Loss=0.4336598813533783 Batch_id=97 Accuracy=81.67: 100%|██████████| 98/98 [00:12<00:00,  7.96it/s]\n"
          ]
        },
        {
          "metadata": {
            "tags": null
          },
          "name": "stdout",
          "output_type": "stream",
          "text": [
            "\n",
            "Test set: Average loss: 0.4292, Accuracy: 8615/10000 (86.15%)\n",
            "\n",
            "EPOCH: 125\n"
          ]
        },
        {
          "metadata": {
            "tags": null
          },
          "name": "stderr",
          "output_type": "stream",
          "text": [
            "Loss=0.5486065745353699 Batch_id=97 Accuracy=81.87: 100%|██████████| 98/98 [00:13<00:00,  7.22it/s]\n"
          ]
        },
        {
          "metadata": {
            "tags": null
          },
          "name": "stdout",
          "output_type": "stream",
          "text": [
            "\n",
            "Test set: Average loss: 0.4507, Accuracy: 8514/10000 (85.14%)\n",
            "\n",
            "EPOCH: 126\n"
          ]
        },
        {
          "metadata": {
            "tags": null
          },
          "name": "stderr",
          "output_type": "stream",
          "text": [
            "Loss=0.551939845085144 Batch_id=97 Accuracy=81.99: 100%|██████████| 98/98 [00:12<00:00,  8.06it/s]\n"
          ]
        },
        {
          "metadata": {
            "tags": null
          },
          "name": "stdout",
          "output_type": "stream",
          "text": [
            "\n",
            "Test set: Average loss: 0.4071, Accuracy: 8641/10000 (86.41%)\n",
            "\n",
            "EPOCH: 127\n"
          ]
        },
        {
          "metadata": {
            "tags": null
          },
          "name": "stderr",
          "output_type": "stream",
          "text": [
            "Loss=0.49000999331474304 Batch_id=97 Accuracy=82.32: 100%|██████████| 98/98 [00:12<00:00,  7.99it/s]\n"
          ]
        },
        {
          "metadata": {
            "tags": null
          },
          "name": "stdout",
          "output_type": "stream",
          "text": [
            "\n",
            "Test set: Average loss: 0.4358, Accuracy: 8606/10000 (86.06%)\n",
            "\n",
            "EPOCH: 128\n"
          ]
        },
        {
          "metadata": {
            "tags": null
          },
          "name": "stderr",
          "output_type": "stream",
          "text": [
            "Loss=0.5764268040657043 Batch_id=97 Accuracy=81.93: 100%|██████████| 98/98 [00:12<00:00,  8.11it/s]\n"
          ]
        },
        {
          "metadata": {
            "tags": null
          },
          "name": "stdout",
          "output_type": "stream",
          "text": [
            "\n",
            "Test set: Average loss: 0.4462, Accuracy: 8530/10000 (85.30%)\n",
            "\n",
            "EPOCH: 129\n"
          ]
        },
        {
          "metadata": {
            "tags": null
          },
          "name": "stderr",
          "output_type": "stream",
          "text": [
            "Loss=0.5168202519416809 Batch_id=97 Accuracy=82.18: 100%|██████████| 98/98 [00:12<00:00,  7.96it/s]\n"
          ]
        },
        {
          "metadata": {
            "tags": null
          },
          "name": "stdout",
          "output_type": "stream",
          "text": [
            "\n",
            "Test set: Average loss: 0.4055, Accuracy: 8669/10000 (86.69%)\n",
            "\n",
            "EPOCH: 130\n"
          ]
        },
        {
          "metadata": {
            "tags": null
          },
          "name": "stderr",
          "output_type": "stream",
          "text": [
            "Loss=0.5438229441642761 Batch_id=97 Accuracy=82.12: 100%|██████████| 98/98 [00:12<00:00,  7.77it/s]\n"
          ]
        },
        {
          "metadata": {
            "tags": null
          },
          "name": "stdout",
          "output_type": "stream",
          "text": [
            "\n",
            "Test set: Average loss: 0.4469, Accuracy: 8576/10000 (85.76%)\n",
            "\n",
            "EPOCH: 131\n"
          ]
        },
        {
          "metadata": {
            "tags": null
          },
          "name": "stderr",
          "output_type": "stream",
          "text": [
            "Loss=0.4140349328517914 Batch_id=97 Accuracy=81.78: 100%|██████████| 98/98 [00:12<00:00,  7.78it/s]\n"
          ]
        },
        {
          "metadata": {
            "tags": null
          },
          "name": "stdout",
          "output_type": "stream",
          "text": [
            "\n",
            "Test set: Average loss: 0.4359, Accuracy: 8587/10000 (85.87%)\n",
            "\n",
            "EPOCH: 132\n"
          ]
        },
        {
          "metadata": {
            "tags": null
          },
          "name": "stderr",
          "output_type": "stream",
          "text": [
            "Loss=0.5292588472366333 Batch_id=97 Accuracy=82.14: 100%|██████████| 98/98 [00:12<00:00,  7.62it/s]\n"
          ]
        },
        {
          "metadata": {
            "tags": null
          },
          "name": "stdout",
          "output_type": "stream",
          "text": [
            "\n",
            "Test set: Average loss: 0.4273, Accuracy: 8599/10000 (85.99%)\n",
            "\n",
            "EPOCH: 133\n"
          ]
        },
        {
          "metadata": {
            "tags": null
          },
          "name": "stderr",
          "output_type": "stream",
          "text": [
            "Loss=0.46498674154281616 Batch_id=97 Accuracy=82.21: 100%|██████████| 98/98 [00:12<00:00,  7.67it/s]\n"
          ]
        },
        {
          "metadata": {
            "tags": null
          },
          "name": "stdout",
          "output_type": "stream",
          "text": [
            "\n",
            "Test set: Average loss: 0.4278, Accuracy: 8599/10000 (85.99%)\n",
            "\n",
            "EPOCH: 134\n"
          ]
        },
        {
          "metadata": {
            "tags": null
          },
          "name": "stderr",
          "output_type": "stream",
          "text": [
            "Loss=0.5504577159881592 Batch_id=97 Accuracy=82.09: 100%|██████████| 98/98 [00:12<00:00,  7.60it/s]\n"
          ]
        },
        {
          "metadata": {
            "tags": null
          },
          "name": "stdout",
          "output_type": "stream",
          "text": [
            "\n",
            "Test set: Average loss: 0.4490, Accuracy: 8584/10000 (85.84%)\n",
            "\n",
            "EPOCH: 135\n"
          ]
        },
        {
          "metadata": {
            "tags": null
          },
          "name": "stderr",
          "output_type": "stream",
          "text": [
            "Loss=0.5239573121070862 Batch_id=97 Accuracy=82.09: 100%|██████████| 98/98 [00:12<00:00,  7.57it/s]\n"
          ]
        },
        {
          "metadata": {
            "tags": null
          },
          "name": "stdout",
          "output_type": "stream",
          "text": [
            "\n",
            "Test set: Average loss: 0.4206, Accuracy: 8636/10000 (86.36%)\n",
            "\n",
            "EPOCH: 136\n"
          ]
        },
        {
          "metadata": {
            "tags": null
          },
          "name": "stderr",
          "output_type": "stream",
          "text": [
            "Loss=0.5510783791542053 Batch_id=97 Accuracy=82.29: 100%|██████████| 98/98 [00:14<00:00,  6.91it/s]\n"
          ]
        },
        {
          "metadata": {
            "tags": null
          },
          "name": "stdout",
          "output_type": "stream",
          "text": [
            "\n",
            "Test set: Average loss: 0.4176, Accuracy: 8655/10000 (86.55%)\n",
            "\n",
            "EPOCH: 137\n"
          ]
        },
        {
          "metadata": {
            "tags": null
          },
          "name": "stderr",
          "output_type": "stream",
          "text": [
            "Loss=0.5201617479324341 Batch_id=97 Accuracy=82.09: 100%|██████████| 98/98 [00:12<00:00,  7.73it/s]\n"
          ]
        },
        {
          "metadata": {
            "tags": null
          },
          "name": "stdout",
          "output_type": "stream",
          "text": [
            "\n",
            "Test set: Average loss: 0.4162, Accuracy: 8650/10000 (86.50%)\n",
            "\n",
            "EPOCH: 138\n"
          ]
        },
        {
          "metadata": {
            "tags": null
          },
          "name": "stderr",
          "output_type": "stream",
          "text": [
            "Loss=0.56293123960495 Batch_id=97 Accuracy=81.94: 100%|██████████| 98/98 [00:12<00:00,  7.61it/s]\n"
          ]
        },
        {
          "metadata": {
            "tags": null
          },
          "name": "stdout",
          "output_type": "stream",
          "text": [
            "\n",
            "Test set: Average loss: 0.4371, Accuracy: 8585/10000 (85.85%)\n",
            "\n",
            "EPOCH: 139\n"
          ]
        },
        {
          "metadata": {
            "tags": null
          },
          "name": "stderr",
          "output_type": "stream",
          "text": [
            "Loss=0.5025111436843872 Batch_id=97 Accuracy=82.29: 100%|██████████| 98/98 [00:12<00:00,  7.78it/s]\n"
          ]
        },
        {
          "metadata": {
            "tags": null
          },
          "name": "stdout",
          "output_type": "stream",
          "text": [
            "\n",
            "Test set: Average loss: 0.4149, Accuracy: 8664/10000 (86.64%)\n",
            "\n",
            "EPOCH: 140\n"
          ]
        },
        {
          "metadata": {
            "tags": null
          },
          "name": "stderr",
          "output_type": "stream",
          "text": [
            "Loss=0.40796539187431335 Batch_id=97 Accuracy=82.20: 100%|██████████| 98/98 [00:12<00:00,  7.91it/s]\n"
          ]
        },
        {
          "metadata": {
            "tags": null
          },
          "name": "stdout",
          "output_type": "stream",
          "text": [
            "\n",
            "Test set: Average loss: 0.4480, Accuracy: 8553/10000 (85.53%)\n",
            "\n",
            "EPOCH: 141\n"
          ]
        },
        {
          "metadata": {
            "tags": null
          },
          "name": "stderr",
          "output_type": "stream",
          "text": [
            "Loss=0.49729496240615845 Batch_id=97 Accuracy=82.14: 100%|██████████| 98/98 [00:12<00:00,  7.95it/s]\n"
          ]
        },
        {
          "metadata": {
            "tags": null
          },
          "name": "stdout",
          "output_type": "stream",
          "text": [
            "\n",
            "Test set: Average loss: 0.4194, Accuracy: 8650/10000 (86.50%)\n",
            "\n",
            "EPOCH: 142\n"
          ]
        },
        {
          "metadata": {
            "tags": null
          },
          "name": "stderr",
          "output_type": "stream",
          "text": [
            "Loss=0.5353742837905884 Batch_id=97 Accuracy=82.36: 100%|██████████| 98/98 [00:12<00:00,  7.95it/s]\n"
          ]
        },
        {
          "metadata": {
            "tags": null
          },
          "name": "stdout",
          "output_type": "stream",
          "text": [
            "\n",
            "Test set: Average loss: 0.4265, Accuracy: 8605/10000 (86.05%)\n",
            "\n",
            "EPOCH: 143\n"
          ]
        },
        {
          "metadata": {
            "tags": null
          },
          "name": "stderr",
          "output_type": "stream",
          "text": [
            "Loss=0.5234594941139221 Batch_id=97 Accuracy=82.20: 100%|██████████| 98/98 [00:12<00:00,  7.81it/s]\n"
          ]
        },
        {
          "metadata": {
            "tags": null
          },
          "name": "stdout",
          "output_type": "stream",
          "text": [
            "\n",
            "Test set: Average loss: 0.4285, Accuracy: 8638/10000 (86.38%)\n",
            "\n",
            "EPOCH: 144\n"
          ]
        },
        {
          "metadata": {
            "tags": null
          },
          "name": "stderr",
          "output_type": "stream",
          "text": [
            "Loss=0.45212501287460327 Batch_id=97 Accuracy=82.29: 100%|██████████| 98/98 [00:13<00:00,  7.51it/s]\n"
          ]
        },
        {
          "metadata": {
            "tags": null
          },
          "name": "stdout",
          "output_type": "stream",
          "text": [
            "\n",
            "Test set: Average loss: 0.4124, Accuracy: 8674/10000 (86.74%)\n",
            "\n",
            "EPOCH: 145\n"
          ]
        },
        {
          "metadata": {
            "tags": null
          },
          "name": "stderr",
          "output_type": "stream",
          "text": [
            "Loss=0.5023999214172363 Batch_id=97 Accuracy=82.58: 100%|██████████| 98/98 [00:12<00:00,  7.63it/s]\n"
          ]
        },
        {
          "metadata": {
            "tags": null
          },
          "name": "stdout",
          "output_type": "stream",
          "text": [
            "\n",
            "Test set: Average loss: 0.4152, Accuracy: 8656/10000 (86.56%)\n",
            "\n",
            "EPOCH: 146\n"
          ]
        },
        {
          "metadata": {
            "tags": null
          },
          "name": "stderr",
          "output_type": "stream",
          "text": [
            "Loss=0.5056870579719543 Batch_id=97 Accuracy=82.31: 100%|██████████| 98/98 [00:12<00:00,  7.64it/s]\n"
          ]
        },
        {
          "metadata": {
            "tags": null
          },
          "name": "stdout",
          "output_type": "stream",
          "text": [
            "\n",
            "Test set: Average loss: 0.4233, Accuracy: 8668/10000 (86.68%)\n",
            "\n",
            "EPOCH: 147\n"
          ]
        },
        {
          "metadata": {
            "tags": null
          },
          "name": "stderr",
          "output_type": "stream",
          "text": [
            "Loss=0.5220128297805786 Batch_id=97 Accuracy=82.13: 100%|██████████| 98/98 [00:13<00:00,  7.05it/s]\n"
          ]
        },
        {
          "metadata": {
            "tags": null
          },
          "name": "stdout",
          "output_type": "stream",
          "text": [
            "\n",
            "Test set: Average loss: 0.4111, Accuracy: 8679/10000 (86.79%)\n",
            "\n",
            "EPOCH: 148\n"
          ]
        },
        {
          "metadata": {
            "tags": null
          },
          "name": "stderr",
          "output_type": "stream",
          "text": [
            "Loss=0.5203929543495178 Batch_id=97 Accuracy=82.50: 100%|██████████| 98/98 [00:13<00:00,  7.41it/s]\n"
          ]
        },
        {
          "metadata": {
            "tags": null
          },
          "name": "stdout",
          "output_type": "stream",
          "text": [
            "\n",
            "Test set: Average loss: 0.4283, Accuracy: 8638/10000 (86.38%)\n",
            "\n",
            "EPOCH: 149\n"
          ]
        },
        {
          "metadata": {
            "tags": null
          },
          "name": "stderr",
          "output_type": "stream",
          "text": [
            "Loss=0.49876490235328674 Batch_id=97 Accuracy=82.55: 100%|██████████| 98/98 [00:13<00:00,  7.52it/s]\n"
          ]
        },
        {
          "metadata": {
            "tags": null
          },
          "name": "stdout",
          "output_type": "stream",
          "text": [
            "\n",
            "Test set: Average loss: 0.4250, Accuracy: 8652/10000 (86.52%)\n",
            "\n",
            "EPOCH: 150\n"
          ]
        },
        {
          "metadata": {
            "tags": null
          },
          "name": "stderr",
          "output_type": "stream",
          "text": [
            "Loss=0.498359739780426 Batch_id=97 Accuracy=82.58: 100%|██████████| 98/98 [00:13<00:00,  7.51it/s]\n"
          ]
        },
        {
          "metadata": {
            "tags": null
          },
          "name": "stdout",
          "output_type": "stream",
          "text": [
            "\n",
            "Test set: Average loss: 0.4109, Accuracy: 8671/10000 (86.71%)\n",
            "\n",
            "EPOCH: 151\n"
          ]
        },
        {
          "metadata": {
            "tags": null
          },
          "name": "stderr",
          "output_type": "stream",
          "text": [
            "Loss=0.45974859595298767 Batch_id=97 Accuracy=82.60: 100%|██████████| 98/98 [00:12<00:00,  7.60it/s]\n"
          ]
        },
        {
          "metadata": {
            "tags": null
          },
          "name": "stdout",
          "output_type": "stream",
          "text": [
            "\n",
            "Test set: Average loss: 0.4173, Accuracy: 8668/10000 (86.68%)\n",
            "\n",
            "EPOCH: 152\n"
          ]
        },
        {
          "metadata": {
            "tags": null
          },
          "name": "stderr",
          "output_type": "stream",
          "text": [
            "Loss=0.49808189272880554 Batch_id=97 Accuracy=82.88: 100%|██████████| 98/98 [00:12<00:00,  7.84it/s]\n"
          ]
        },
        {
          "metadata": {
            "tags": null
          },
          "name": "stdout",
          "output_type": "stream",
          "text": [
            "\n",
            "Test set: Average loss: 0.4113, Accuracy: 8668/10000 (86.68%)\n",
            "\n",
            "EPOCH: 153\n"
          ]
        },
        {
          "metadata": {
            "tags": null
          },
          "name": "stderr",
          "output_type": "stream",
          "text": [
            "Loss=0.45085275173187256 Batch_id=97 Accuracy=82.50: 100%|██████████| 98/98 [00:12<00:00,  7.88it/s]\n"
          ]
        },
        {
          "metadata": {
            "tags": null
          },
          "name": "stdout",
          "output_type": "stream",
          "text": [
            "\n",
            "Test set: Average loss: 0.4156, Accuracy: 8677/10000 (86.77%)\n",
            "\n",
            "EPOCH: 154\n"
          ]
        },
        {
          "metadata": {
            "tags": null
          },
          "name": "stderr",
          "output_type": "stream",
          "text": [
            "Loss=0.49181097745895386 Batch_id=97 Accuracy=82.53: 100%|██████████| 98/98 [00:12<00:00,  7.68it/s]\n"
          ]
        },
        {
          "metadata": {
            "tags": null
          },
          "name": "stdout",
          "output_type": "stream",
          "text": [
            "\n",
            "Test set: Average loss: 0.4110, Accuracy: 8655/10000 (86.55%)\n",
            "\n",
            "EPOCH: 155\n"
          ]
        },
        {
          "metadata": {
            "tags": null
          },
          "name": "stderr",
          "output_type": "stream",
          "text": [
            "Loss=0.5161937475204468 Batch_id=97 Accuracy=82.75: 100%|██████████| 98/98 [00:12<00:00,  7.78it/s]\n"
          ]
        },
        {
          "metadata": {
            "tags": null
          },
          "name": "stdout",
          "output_type": "stream",
          "text": [
            "\n",
            "Test set: Average loss: 0.4028, Accuracy: 8690/10000 (86.90%)\n",
            "\n",
            "EPOCH: 156\n"
          ]
        },
        {
          "metadata": {
            "tags": null
          },
          "name": "stderr",
          "output_type": "stream",
          "text": [
            "Loss=0.495246022939682 Batch_id=97 Accuracy=82.55: 100%|██████████| 98/98 [00:12<00:00,  7.95it/s]\n"
          ]
        },
        {
          "metadata": {
            "tags": null
          },
          "name": "stdout",
          "output_type": "stream",
          "text": [
            "\n",
            "Test set: Average loss: 0.4157, Accuracy: 8643/10000 (86.43%)\n",
            "\n",
            "EPOCH: 157\n"
          ]
        },
        {
          "metadata": {
            "tags": null
          },
          "name": "stderr",
          "output_type": "stream",
          "text": [
            "Loss=0.5501331686973572 Batch_id=97 Accuracy=82.78: 100%|██████████| 98/98 [00:13<00:00,  7.29it/s]\n"
          ]
        },
        {
          "metadata": {
            "tags": null
          },
          "name": "stdout",
          "output_type": "stream",
          "text": [
            "\n",
            "Test set: Average loss: 0.4068, Accuracy: 8658/10000 (86.58%)\n",
            "\n",
            "EPOCH: 158\n"
          ]
        },
        {
          "metadata": {
            "tags": null
          },
          "name": "stderr",
          "output_type": "stream",
          "text": [
            "Loss=0.4981066882610321 Batch_id=97 Accuracy=82.67: 100%|██████████| 98/98 [00:12<00:00,  7.74it/s]\n"
          ]
        },
        {
          "metadata": {
            "tags": null
          },
          "name": "stdout",
          "output_type": "stream",
          "text": [
            "\n",
            "Test set: Average loss: 0.4084, Accuracy: 8689/10000 (86.89%)\n",
            "\n",
            "EPOCH: 159\n"
          ]
        },
        {
          "metadata": {
            "tags": null
          },
          "name": "stderr",
          "output_type": "stream",
          "text": [
            "Loss=0.5225389003753662 Batch_id=97 Accuracy=82.73: 100%|██████████| 98/98 [00:12<00:00,  7.81it/s]\n"
          ]
        },
        {
          "metadata": {
            "tags": null
          },
          "name": "stdout",
          "output_type": "stream",
          "text": [
            "\n",
            "Test set: Average loss: 0.4096, Accuracy: 8670/10000 (86.70%)\n",
            "\n",
            "EPOCH: 160\n"
          ]
        },
        {
          "metadata": {
            "tags": null
          },
          "name": "stderr",
          "output_type": "stream",
          "text": [
            "Loss=0.4795851409435272 Batch_id=97 Accuracy=82.38: 100%|██████████| 98/98 [00:12<00:00,  7.67it/s]\n"
          ]
        },
        {
          "metadata": {
            "tags": null
          },
          "name": "stdout",
          "output_type": "stream",
          "text": [
            "\n",
            "Test set: Average loss: 0.4618, Accuracy: 8533/10000 (85.33%)\n",
            "\n",
            "EPOCH: 161\n"
          ]
        },
        {
          "metadata": {
            "tags": null
          },
          "name": "stderr",
          "output_type": "stream",
          "text": [
            "Loss=0.5844836831092834 Batch_id=97 Accuracy=82.67: 100%|██████████| 98/98 [00:12<00:00,  7.95it/s]\n"
          ]
        },
        {
          "metadata": {
            "tags": null
          },
          "name": "stdout",
          "output_type": "stream",
          "text": [
            "\n",
            "Test set: Average loss: 0.4259, Accuracy: 8626/10000 (86.26%)\n",
            "\n",
            "EPOCH: 162\n"
          ]
        },
        {
          "metadata": {
            "tags": null
          },
          "name": "stderr",
          "output_type": "stream",
          "text": [
            "Loss=0.4907214641571045 Batch_id=97 Accuracy=82.68: 100%|██████████| 98/98 [00:12<00:00,  7.71it/s]\n"
          ]
        },
        {
          "metadata": {
            "tags": null
          },
          "name": "stdout",
          "output_type": "stream",
          "text": [
            "\n",
            "Test set: Average loss: 0.4051, Accuracy: 8678/10000 (86.78%)\n",
            "\n",
            "EPOCH: 163\n"
          ]
        },
        {
          "metadata": {
            "tags": null
          },
          "name": "stderr",
          "output_type": "stream",
          "text": [
            "Loss=0.4942880868911743 Batch_id=97 Accuracy=82.48: 100%|██████████| 98/98 [00:12<00:00,  7.79it/s]\n"
          ]
        },
        {
          "metadata": {
            "tags": null
          },
          "name": "stdout",
          "output_type": "stream",
          "text": [
            "\n",
            "Test set: Average loss: 0.4094, Accuracy: 8668/10000 (86.68%)\n",
            "\n",
            "EPOCH: 164\n"
          ]
        },
        {
          "metadata": {
            "tags": null
          },
          "name": "stderr",
          "output_type": "stream",
          "text": [
            "Loss=0.451803058385849 Batch_id=97 Accuracy=83.01: 100%|██████████| 98/98 [00:12<00:00,  7.96it/s]\n"
          ]
        },
        {
          "metadata": {
            "tags": null
          },
          "name": "stdout",
          "output_type": "stream",
          "text": [
            "\n",
            "Test set: Average loss: 0.4010, Accuracy: 8703/10000 (87.03%)\n",
            "\n",
            "EPOCH: 165\n"
          ]
        },
        {
          "metadata": {
            "tags": null
          },
          "name": "stderr",
          "output_type": "stream",
          "text": [
            "Loss=0.5368801951408386 Batch_id=97 Accuracy=83.15: 100%|██████████| 98/98 [00:11<00:00,  8.20it/s]\n"
          ]
        },
        {
          "metadata": {
            "tags": null
          },
          "name": "stdout",
          "output_type": "stream",
          "text": [
            "\n",
            "Test set: Average loss: 0.4138, Accuracy: 8672/10000 (86.72%)\n",
            "\n",
            "EPOCH: 166\n"
          ]
        },
        {
          "metadata": {
            "tags": null
          },
          "name": "stderr",
          "output_type": "stream",
          "text": [
            "Loss=0.43331483006477356 Batch_id=97 Accuracy=82.85: 100%|██████████| 98/98 [00:12<00:00,  7.97it/s]\n"
          ]
        },
        {
          "metadata": {
            "tags": null
          },
          "name": "stdout",
          "output_type": "stream",
          "text": [
            "\n",
            "Test set: Average loss: 0.4156, Accuracy: 8670/10000 (86.70%)\n",
            "\n",
            "EPOCH: 167\n"
          ]
        },
        {
          "metadata": {
            "tags": null
          },
          "name": "stderr",
          "output_type": "stream",
          "text": [
            "Loss=0.46330732107162476 Batch_id=97 Accuracy=82.79: 100%|██████████| 98/98 [00:12<00:00,  8.02it/s]\n"
          ]
        },
        {
          "metadata": {
            "tags": null
          },
          "name": "stdout",
          "output_type": "stream",
          "text": [
            "\n",
            "Test set: Average loss: 0.4140, Accuracy: 8696/10000 (86.96%)\n",
            "\n",
            "EPOCH: 168\n"
          ]
        },
        {
          "metadata": {
            "tags": null
          },
          "name": "stderr",
          "output_type": "stream",
          "text": [
            "Loss=0.4986008107662201 Batch_id=97 Accuracy=82.97: 100%|██████████| 98/98 [00:13<00:00,  7.33it/s]\n"
          ]
        },
        {
          "metadata": {
            "tags": null
          },
          "name": "stdout",
          "output_type": "stream",
          "text": [
            "\n",
            "Test set: Average loss: 0.4398, Accuracy: 8559/10000 (85.59%)\n",
            "\n",
            "EPOCH: 169\n"
          ]
        },
        {
          "metadata": {
            "tags": null
          },
          "name": "stderr",
          "output_type": "stream",
          "text": [
            "Loss=0.45873600244522095 Batch_id=97 Accuracy=82.98: 100%|██████████| 98/98 [00:12<00:00,  7.77it/s]\n"
          ]
        },
        {
          "metadata": {
            "tags": null
          },
          "name": "stdout",
          "output_type": "stream",
          "text": [
            "\n",
            "Test set: Average loss: 0.4305, Accuracy: 8609/10000 (86.09%)\n",
            "\n",
            "EPOCH: 170\n"
          ]
        },
        {
          "metadata": {
            "tags": null
          },
          "name": "stderr",
          "output_type": "stream",
          "text": [
            "Loss=0.4471169114112854 Batch_id=97 Accuracy=82.72: 100%|██████████| 98/98 [00:12<00:00,  7.64it/s]\n"
          ]
        },
        {
          "metadata": {
            "tags": null
          },
          "name": "stdout",
          "output_type": "stream",
          "text": [
            "\n",
            "Test set: Average loss: 0.4039, Accuracy: 8668/10000 (86.68%)\n",
            "\n",
            "EPOCH: 171\n"
          ]
        },
        {
          "metadata": {
            "tags": null
          },
          "name": "stderr",
          "output_type": "stream",
          "text": [
            "Loss=0.5804349184036255 Batch_id=97 Accuracy=82.87: 100%|██████████| 98/98 [00:12<00:00,  7.58it/s]\n"
          ]
        },
        {
          "metadata": {
            "tags": null
          },
          "name": "stdout",
          "output_type": "stream",
          "text": [
            "\n",
            "Test set: Average loss: 0.4086, Accuracy: 8681/10000 (86.81%)\n",
            "\n",
            "EPOCH: 172\n"
          ]
        },
        {
          "metadata": {
            "tags": null
          },
          "name": "stderr",
          "output_type": "stream",
          "text": [
            "Loss=0.4868670403957367 Batch_id=97 Accuracy=82.74: 100%|██████████| 98/98 [00:12<00:00,  7.80it/s]\n"
          ]
        },
        {
          "metadata": {
            "tags": null
          },
          "name": "stdout",
          "output_type": "stream",
          "text": [
            "\n",
            "Test set: Average loss: 0.4158, Accuracy: 8674/10000 (86.74%)\n",
            "\n",
            "EPOCH: 173\n"
          ]
        },
        {
          "metadata": {
            "tags": null
          },
          "name": "stderr",
          "output_type": "stream",
          "text": [
            "Loss=0.5023263692855835 Batch_id=97 Accuracy=83.11: 100%|██████████| 98/98 [00:12<00:00,  7.72it/s]\n"
          ]
        },
        {
          "metadata": {
            "tags": null
          },
          "name": "stdout",
          "output_type": "stream",
          "text": [
            "\n",
            "Test set: Average loss: 0.4142, Accuracy: 8646/10000 (86.46%)\n",
            "\n",
            "EPOCH: 174\n"
          ]
        },
        {
          "metadata": {
            "tags": null
          },
          "name": "stderr",
          "output_type": "stream",
          "text": [
            "Loss=0.40345683693885803 Batch_id=97 Accuracy=83.20: 100%|██████████| 98/98 [00:12<00:00,  7.66it/s]\n"
          ]
        },
        {
          "metadata": {
            "tags": null
          },
          "name": "stdout",
          "output_type": "stream",
          "text": [
            "\n",
            "Test set: Average loss: 0.4267, Accuracy: 8625/10000 (86.25%)\n",
            "\n",
            "EPOCH: 175\n"
          ]
        },
        {
          "metadata": {
            "tags": null
          },
          "name": "stderr",
          "output_type": "stream",
          "text": [
            "Loss=0.5895780324935913 Batch_id=97 Accuracy=83.23: 100%|██████████| 98/98 [00:12<00:00,  7.60it/s]\n"
          ]
        },
        {
          "metadata": {
            "tags": null
          },
          "name": "stdout",
          "output_type": "stream",
          "text": [
            "\n",
            "Test set: Average loss: 0.3963, Accuracy: 8710/10000 (87.10%)\n",
            "\n",
            "EPOCH: 176\n"
          ]
        },
        {
          "metadata": {
            "tags": null
          },
          "name": "stderr",
          "output_type": "stream",
          "text": [
            "Loss=0.46041470766067505 Batch_id=97 Accuracy=83.02: 100%|██████████| 98/98 [00:12<00:00,  7.72it/s]\n"
          ]
        },
        {
          "metadata": {
            "tags": null
          },
          "name": "stdout",
          "output_type": "stream",
          "text": [
            "\n",
            "Test set: Average loss: 0.4226, Accuracy: 8670/10000 (86.70%)\n",
            "\n",
            "EPOCH: 177\n"
          ]
        },
        {
          "metadata": {
            "tags": null
          },
          "name": "stderr",
          "output_type": "stream",
          "text": [
            "Loss=0.5881736278533936 Batch_id=97 Accuracy=83.10: 100%|██████████| 98/98 [00:12<00:00,  7.62it/s]\n"
          ]
        },
        {
          "metadata": {
            "tags": null
          },
          "name": "stdout",
          "output_type": "stream",
          "text": [
            "\n",
            "Test set: Average loss: 0.4093, Accuracy: 8688/10000 (86.88%)\n",
            "\n",
            "EPOCH: 178\n"
          ]
        },
        {
          "metadata": {
            "tags": null
          },
          "name": "stderr",
          "output_type": "stream",
          "text": [
            "Loss=0.36236831545829773 Batch_id=97 Accuracy=82.96: 100%|██████████| 98/98 [00:12<00:00,  7.59it/s]\n"
          ]
        },
        {
          "metadata": {
            "tags": null
          },
          "name": "stdout",
          "output_type": "stream",
          "text": [
            "\n",
            "Test set: Average loss: 0.4181, Accuracy: 8646/10000 (86.46%)\n",
            "\n",
            "EPOCH: 179\n"
          ]
        },
        {
          "metadata": {
            "tags": null
          },
          "name": "stderr",
          "output_type": "stream",
          "text": [
            "Loss=0.46933695673942566 Batch_id=97 Accuracy=83.13: 100%|██████████| 98/98 [00:12<00:00,  7.71it/s]\n"
          ]
        },
        {
          "metadata": {
            "tags": null
          },
          "name": "stdout",
          "output_type": "stream",
          "text": [
            "\n",
            "Test set: Average loss: 0.4188, Accuracy: 8672/10000 (86.72%)\n",
            "\n",
            "EPOCH: 180\n"
          ]
        },
        {
          "metadata": {
            "tags": null
          },
          "name": "stderr",
          "output_type": "stream",
          "text": [
            "Loss=0.4818638265132904 Batch_id=97 Accuracy=83.25: 100%|██████████| 98/98 [00:12<00:00,  7.60it/s]\n"
          ]
        },
        {
          "metadata": {
            "tags": null
          },
          "name": "stdout",
          "output_type": "stream",
          "text": [
            "\n",
            "Test set: Average loss: 0.4072, Accuracy: 8692/10000 (86.92%)\n",
            "\n",
            "EPOCH: 181\n"
          ]
        },
        {
          "metadata": {
            "tags": null
          },
          "name": "stderr",
          "output_type": "stream",
          "text": [
            "Loss=0.5362962484359741 Batch_id=97 Accuracy=83.20: 100%|██████████| 98/98 [00:13<00:00,  7.45it/s]\n"
          ]
        },
        {
          "metadata": {
            "tags": null
          },
          "name": "stdout",
          "output_type": "stream",
          "text": [
            "\n",
            "Test set: Average loss: 0.3980, Accuracy: 8696/10000 (86.96%)\n",
            "\n",
            "EPOCH: 182\n"
          ]
        },
        {
          "metadata": {
            "tags": null
          },
          "name": "stderr",
          "output_type": "stream",
          "text": [
            "Loss=0.39899903535842896 Batch_id=97 Accuracy=83.28: 100%|██████████| 98/98 [00:12<00:00,  7.56it/s]\n"
          ]
        },
        {
          "metadata": {
            "tags": null
          },
          "name": "stdout",
          "output_type": "stream",
          "text": [
            "\n",
            "Test set: Average loss: 0.4013, Accuracy: 8699/10000 (86.99%)\n",
            "\n",
            "EPOCH: 183\n"
          ]
        },
        {
          "metadata": {
            "tags": null
          },
          "name": "stderr",
          "output_type": "stream",
          "text": [
            "Loss=0.3893083333969116 Batch_id=97 Accuracy=83.11: 100%|██████████| 98/98 [00:12<00:00,  7.54it/s]\n"
          ]
        },
        {
          "metadata": {
            "tags": null
          },
          "name": "stdout",
          "output_type": "stream",
          "text": [
            "\n",
            "Test set: Average loss: 0.4140, Accuracy: 8660/10000 (86.60%)\n",
            "\n",
            "EPOCH: 184\n"
          ]
        },
        {
          "metadata": {
            "tags": null
          },
          "name": "stderr",
          "output_type": "stream",
          "text": [
            "Loss=0.5273245573043823 Batch_id=97 Accuracy=83.18: 100%|██████████| 98/98 [00:13<00:00,  7.53it/s]\n"
          ]
        },
        {
          "metadata": {
            "tags": null
          },
          "name": "stdout",
          "output_type": "stream",
          "text": [
            "\n",
            "Test set: Average loss: 0.4058, Accuracy: 8712/10000 (87.12%)\n",
            "\n",
            "EPOCH: 185\n"
          ]
        },
        {
          "metadata": {
            "tags": null
          },
          "name": "stderr",
          "output_type": "stream",
          "text": [
            "Loss=0.46978724002838135 Batch_id=97 Accuracy=83.16: 100%|██████████| 98/98 [00:13<00:00,  7.50it/s]\n"
          ]
        },
        {
          "metadata": {
            "tags": null
          },
          "name": "stdout",
          "output_type": "stream",
          "text": [
            "\n",
            "Test set: Average loss: 0.4018, Accuracy: 8715/10000 (87.15%)\n",
            "\n",
            "EPOCH: 186\n"
          ]
        },
        {
          "metadata": {
            "tags": null
          },
          "name": "stderr",
          "output_type": "stream",
          "text": [
            "Loss=0.4163905084133148 Batch_id=97 Accuracy=83.13: 100%|██████████| 98/98 [00:13<00:00,  7.51it/s]\n"
          ]
        },
        {
          "metadata": {
            "tags": null
          },
          "name": "stdout",
          "output_type": "stream",
          "text": [
            "\n",
            "Test set: Average loss: 0.4046, Accuracy: 8680/10000 (86.80%)\n",
            "\n",
            "EPOCH: 187\n"
          ]
        },
        {
          "metadata": {
            "tags": null
          },
          "name": "stderr",
          "output_type": "stream",
          "text": [
            "Loss=0.5249133706092834 Batch_id=97 Accuracy=83.18: 100%|██████████| 98/98 [00:13<00:00,  7.30it/s]\n"
          ]
        },
        {
          "metadata": {
            "tags": null
          },
          "name": "stdout",
          "output_type": "stream",
          "text": [
            "\n",
            "Test set: Average loss: 0.4003, Accuracy: 8722/10000 (87.22%)\n",
            "\n",
            "EPOCH: 188\n"
          ]
        },
        {
          "metadata": {
            "tags": null
          },
          "name": "stderr",
          "output_type": "stream",
          "text": [
            "Loss=0.4708385467529297 Batch_id=97 Accuracy=82.93: 100%|██████████| 98/98 [00:13<00:00,  7.24it/s]\n"
          ]
        },
        {
          "metadata": {
            "tags": null
          },
          "name": "stdout",
          "output_type": "stream",
          "text": [
            "\n",
            "Test set: Average loss: 0.4230, Accuracy: 8657/10000 (86.57%)\n",
            "\n",
            "EPOCH: 189\n"
          ]
        },
        {
          "metadata": {
            "tags": null
          },
          "name": "stderr",
          "output_type": "stream",
          "text": [
            "Loss=0.4120858907699585 Batch_id=97 Accuracy=83.35: 100%|██████████| 98/98 [00:13<00:00,  7.11it/s]\n"
          ]
        },
        {
          "metadata": {
            "tags": null
          },
          "name": "stdout",
          "output_type": "stream",
          "text": [
            "\n",
            "Test set: Average loss: 0.4106, Accuracy: 8690/10000 (86.90%)\n",
            "\n",
            "EPOCH: 190\n"
          ]
        },
        {
          "metadata": {
            "tags": null
          },
          "name": "stderr",
          "output_type": "stream",
          "text": [
            "Loss=0.4442337155342102 Batch_id=97 Accuracy=83.15: 100%|██████████| 98/98 [00:13<00:00,  7.12it/s]\n"
          ]
        },
        {
          "metadata": {
            "tags": null
          },
          "name": "stdout",
          "output_type": "stream",
          "text": [
            "\n",
            "Test set: Average loss: 0.4147, Accuracy: 8693/10000 (86.93%)\n",
            "\n",
            "EPOCH: 191\n"
          ]
        },
        {
          "metadata": {
            "tags": null
          },
          "name": "stderr",
          "output_type": "stream",
          "text": [
            "Loss=0.4180010259151459 Batch_id=97 Accuracy=83.12: 100%|██████████| 98/98 [00:13<00:00,  7.51it/s]\n"
          ]
        },
        {
          "metadata": {
            "tags": null
          },
          "name": "stdout",
          "output_type": "stream",
          "text": [
            "\n",
            "Test set: Average loss: 0.4131, Accuracy: 8688/10000 (86.88%)\n",
            "\n",
            "EPOCH: 192\n"
          ]
        },
        {
          "metadata": {
            "tags": null
          },
          "name": "stderr",
          "output_type": "stream",
          "text": [
            "Loss=0.44307979941368103 Batch_id=97 Accuracy=83.22: 100%|██████████| 98/98 [00:13<00:00,  7.33it/s]\n"
          ]
        },
        {
          "metadata": {
            "tags": null
          },
          "name": "stdout",
          "output_type": "stream",
          "text": [
            "\n",
            "Test set: Average loss: 0.4218, Accuracy: 8672/10000 (86.72%)\n",
            "\n",
            "EPOCH: 193\n"
          ]
        },
        {
          "metadata": {
            "tags": null
          },
          "name": "stderr",
          "output_type": "stream",
          "text": [
            "Loss=0.44236981868743896 Batch_id=97 Accuracy=83.31: 100%|██████████| 98/98 [00:13<00:00,  7.46it/s]\n"
          ]
        },
        {
          "metadata": {
            "tags": null
          },
          "name": "stdout",
          "output_type": "stream",
          "text": [
            "\n",
            "Test set: Average loss: 0.3922, Accuracy: 8724/10000 (87.24%)\n",
            "\n",
            "EPOCH: 194\n"
          ]
        },
        {
          "metadata": {
            "tags": null
          },
          "name": "stderr",
          "output_type": "stream",
          "text": [
            "Loss=0.6460529565811157 Batch_id=97 Accuracy=83.32: 100%|██████████| 98/98 [00:12<00:00,  7.63it/s]\n"
          ]
        },
        {
          "metadata": {
            "tags": null
          },
          "name": "stdout",
          "output_type": "stream",
          "text": [
            "\n",
            "Test set: Average loss: 0.4265, Accuracy: 8633/10000 (86.33%)\n",
            "\n",
            "EPOCH: 195\n"
          ]
        },
        {
          "metadata": {
            "tags": null
          },
          "name": "stderr",
          "output_type": "stream",
          "text": [
            "Loss=0.45519116520881653 Batch_id=97 Accuracy=83.06: 100%|██████████| 98/98 [00:13<00:00,  7.49it/s]\n"
          ]
        },
        {
          "metadata": {
            "tags": null
          },
          "name": "stdout",
          "output_type": "stream",
          "text": [
            "\n",
            "Test set: Average loss: 0.4107, Accuracy: 8674/10000 (86.74%)\n",
            "\n",
            "EPOCH: 196\n"
          ]
        },
        {
          "metadata": {
            "tags": null
          },
          "name": "stderr",
          "output_type": "stream",
          "text": [
            "Loss=0.5133792757987976 Batch_id=97 Accuracy=83.37: 100%|██████████| 98/98 [00:13<00:00,  7.53it/s]\n"
          ]
        },
        {
          "metadata": {
            "tags": null
          },
          "name": "stdout",
          "output_type": "stream",
          "text": [
            "\n",
            "Test set: Average loss: 0.4129, Accuracy: 8667/10000 (86.67%)\n",
            "\n",
            "EPOCH: 197\n"
          ]
        },
        {
          "metadata": {
            "tags": null
          },
          "name": "stderr",
          "output_type": "stream",
          "text": [
            "Loss=0.5543863773345947 Batch_id=97 Accuracy=83.25: 100%|██████████| 98/98 [00:12<00:00,  7.78it/s]\n"
          ]
        },
        {
          "metadata": {
            "tags": null
          },
          "name": "stdout",
          "output_type": "stream",
          "text": [
            "\n",
            "Test set: Average loss: 0.4037, Accuracy: 8682/10000 (86.82%)\n",
            "\n",
            "EPOCH: 198\n"
          ]
        },
        {
          "metadata": {
            "tags": null
          },
          "name": "stderr",
          "output_type": "stream",
          "text": [
            "Loss=0.45208460092544556 Batch_id=97 Accuracy=83.29: 100%|██████████| 98/98 [00:12<00:00,  7.64it/s]\n"
          ]
        },
        {
          "metadata": {
            "tags": null
          },
          "name": "stdout",
          "output_type": "stream",
          "text": [
            "\n",
            "Test set: Average loss: 0.3893, Accuracy: 8706/10000 (87.06%)\n",
            "\n",
            "EPOCH: 199\n"
          ]
        },
        {
          "metadata": {
            "tags": null
          },
          "name": "stderr",
          "output_type": "stream",
          "text": [
            "Loss=0.4374125003814697 Batch_id=97 Accuracy=83.40: 100%|██████████| 98/98 [00:13<00:00,  7.46it/s]\n"
          ]
        },
        {
          "metadata": {
            "tags": null
          },
          "name": "stdout",
          "output_type": "stream",
          "text": [
            "\n",
            "Test set: Average loss: 0.3993, Accuracy: 8682/10000 (86.82%)\n",
            "\n"
          ]
        }
      ],
      "source": [
        "from torch.optim.lr_scheduler import StepLR\n",
        "\n",
        "model =  Net().to(device)\n",
        "optimizer = optim.SGD(model.parameters(), lr=0.023, momentum=0.9)\n",
        "scheduler = StepLR(optimizer, step_size=10, gamma=0.1)\n",
        "\n",
        "\n",
        "EPOCHS = 200\n",
        "for epoch in range(EPOCHS):\n",
        "    print(\"EPOCH:\", epoch)\n",
        "    train(model, device, train_loader, optimizer, epoch)\n",
        "    # scheduler.step()\n",
        "    test(model, device, test_loader)"
      ]
    },
    {
      "cell_type": "code",
      "source": [
        "# define a list of class labels in the correct order\n",
        "class_labels = ['airplane', 'automobile', 'bird', 'cat', 'deer', 'dog', 'frog', 'horse', 'ship', 'truck']  # replace this with the actual labels of your classes\n",
        "\n",
        "import torch\n",
        "import torchvision\n",
        "%matplotlib inline\n",
        "\n",
        "def get_wrong_predictions(model, test_loader):\n",
        "    model.eval()\n",
        "    test_loss = 0\n",
        "    correct = 0\n",
        "\n",
        "    wrong_correct = []\n",
        "    wrong_predicted = []\n",
        "    wrong_image_data = []\n",
        "\n",
        "    with torch.no_grad():\n",
        "        for data, target in test_loader:\n",
        "            data, target = data.to(device), target.to(device)\n",
        "            output = model(data)\n",
        "            # test_loss += F.nll_loss(output, target, reduction='sum').item()  # sum up batch loss\n",
        "            pred = output.argmax(dim=1, keepdim=True)  # get the index of the max log-probability\n",
        "            status = pred.eq(target.view_as(pred))\n",
        "            # correct += status.sum().item()\n",
        "\n",
        "            mistakes, _ = torch.where(status==False)\n",
        "            if len(mistakes):\n",
        "                m_data = data[mistakes]\n",
        "                m_target = target[mistakes]\n",
        "                m_output = output[mistakes]\n",
        "                m_pred = pred[mistakes]\n",
        "                correct = [x.item() for x in m_target.cpu().detach()]\n",
        "                predicted = [x.item() for x in m_pred.cpu().detach()]\n",
        "                image_data = [x for x in m_data.cpu().detach()]\n",
        "\n",
        "                wrong_correct.extend(correct)\n",
        "                wrong_predicted.extend(predicted)\n",
        "                wrong_image_data.extend(image_data)\n",
        "\n",
        "    return wrong_correct, wrong_predicted, wrong_image_data\n",
        "\n",
        "\n",
        "def show_grid(img):\n",
        "    npimg = img.numpy()\n",
        "    plt.imshow(np.transpose(npimg, (1,2,0)), interpolation='nearest')\n",
        "\n",
        "def show_wrong_images(targets, predicts, images, size=30, grid=(5, 4)):\n",
        "    img_data_temp = []\n",
        "    wps = []\n",
        "    actual_predicted = []\n",
        "\n",
        "    for n, (wc, wp, wi) in enumerate(zip(targets, predicts, images)):\n",
        "        wps.append(wp)\n",
        "        img_data_temp.append(wi)\n",
        "        actual_predicted.append((class_labels[wc], class_labels[wp])) # convert indices to class labels\n",
        "        if n>18:\n",
        "            break\n",
        "\n",
        "    fig = plt.figure(figsize=(15,15))\n",
        "\n",
        "    for i in range(len(img_data_temp)):\n",
        "        ax = fig.add_subplot(grid[0], grid[1], i+1)\n",
        "        ax.axis('off')\n",
        "        ax.imshow(img_data_temp[i].permute(1, 2, 0)) # convert from (C,H,W) to (H,W,C) for displaying image\n",
        "        ax.set_title('Actual: '+str(actual_predicted[i][0])+' / Predicted: '+str(actual_predicted[i][1])) # Set title as \"actual label / predicted label\"\n",
        "\n",
        "    plt.show()\n",
        "\n",
        "\n",
        ""
      ],
      "metadata": {
        "id": "fA0_yWFmCGKG"
      },
      "execution_count": 28,
      "outputs": []
    },
    {
      "cell_type": "code",
      "source": [
        "#Print the wrong predicted Image\n",
        "targets, predicts, images = get_wrong_predictions(model, test_loader)\n",
        "show_wrong_images(targets, predicts, images)\n",
        "\n",
        "\n",
        "for model in model.items():\n",
        "    targets, predicts, images = get_wrong_predictions(model, test_loader)\n",
        "    show_wrong_images(targets, predicts, images)\n",
        "    plt.show()"
      ],
      "metadata": {
        "colab": {
          "base_uri": "https://localhost:8080/",
          "height": 1000
        },
        "id": "QXCiGWlmCJES",
        "outputId": "d3ad07d8-ec88-4465-d564-6970ad4df75d"
      },
      "execution_count": 29,
      "outputs": [
        {
          "output_type": "stream",
          "name": "stderr",
          "text": [
            "/usr/local/lib/python3.10/dist-packages/torch/utils/data/dataloader.py:560: UserWarning: This DataLoader will create 4 worker processes in total. Our suggested max number of worker in current system is 2, which is smaller than what this DataLoader is going to create. Please be aware that excessive worker creation might get DataLoader running slow or even freeze, lower the worker number to avoid potential slowness/freeze if necessary.\n",
            "  warnings.warn(_create_warning_msg(\n",
            "WARNING:matplotlib.image:Clipping input data to the valid range for imshow with RGB data ([0..1] for floats or [0..255] for integers).\n",
            "WARNING:matplotlib.image:Clipping input data to the valid range for imshow with RGB data ([0..1] for floats or [0..255] for integers).\n",
            "WARNING:matplotlib.image:Clipping input data to the valid range for imshow with RGB data ([0..1] for floats or [0..255] for integers).\n",
            "WARNING:matplotlib.image:Clipping input data to the valid range for imshow with RGB data ([0..1] for floats or [0..255] for integers).\n",
            "WARNING:matplotlib.image:Clipping input data to the valid range for imshow with RGB data ([0..1] for floats or [0..255] for integers).\n",
            "WARNING:matplotlib.image:Clipping input data to the valid range for imshow with RGB data ([0..1] for floats or [0..255] for integers).\n",
            "WARNING:matplotlib.image:Clipping input data to the valid range for imshow with RGB data ([0..1] for floats or [0..255] for integers).\n",
            "WARNING:matplotlib.image:Clipping input data to the valid range for imshow with RGB data ([0..1] for floats or [0..255] for integers).\n",
            "WARNING:matplotlib.image:Clipping input data to the valid range for imshow with RGB data ([0..1] for floats or [0..255] for integers).\n",
            "WARNING:matplotlib.image:Clipping input data to the valid range for imshow with RGB data ([0..1] for floats or [0..255] for integers).\n",
            "WARNING:matplotlib.image:Clipping input data to the valid range for imshow with RGB data ([0..1] for floats or [0..255] for integers).\n",
            "WARNING:matplotlib.image:Clipping input data to the valid range for imshow with RGB data ([0..1] for floats or [0..255] for integers).\n",
            "WARNING:matplotlib.image:Clipping input data to the valid range for imshow with RGB data ([0..1] for floats or [0..255] for integers).\n",
            "WARNING:matplotlib.image:Clipping input data to the valid range for imshow with RGB data ([0..1] for floats or [0..255] for integers).\n",
            "WARNING:matplotlib.image:Clipping input data to the valid range for imshow with RGB data ([0..1] for floats or [0..255] for integers).\n",
            "WARNING:matplotlib.image:Clipping input data to the valid range for imshow with RGB data ([0..1] for floats or [0..255] for integers).\n",
            "WARNING:matplotlib.image:Clipping input data to the valid range for imshow with RGB data ([0..1] for floats or [0..255] for integers).\n",
            "WARNING:matplotlib.image:Clipping input data to the valid range for imshow with RGB data ([0..1] for floats or [0..255] for integers).\n",
            "WARNING:matplotlib.image:Clipping input data to the valid range for imshow with RGB data ([0..1] for floats or [0..255] for integers).\n",
            "WARNING:matplotlib.image:Clipping input data to the valid range for imshow with RGB data ([0..1] for floats or [0..255] for integers).\n"
          ]
        },
        {
          "output_type": "display_data",
          "data": {
            "text/plain": [
              "<Figure size 1500x1500 with 20 Axes>"
            ],
            "image/png": "[encoded data removed]"
          },
          "metadata": {}
        },
        {
          "output_type": "error",
          "ename": "AttributeError",
          "evalue": "ignored",
          "traceback": [
            "\u001b[0;31m---------------------------------------------------------------------------\u001b[0m",
            "\u001b[0;31mAttributeError\u001b[0m                            Traceback (most recent call last)",
            "\u001b[0;32m<ipython-input-29-24ac3413061f>\u001b[0m in \u001b[0;36m<cell line: 6>\u001b[0;34m()\u001b[0m\n\u001b[1;32m      4\u001b[0m \u001b[0;34m\u001b[0m\u001b[0m\n\u001b[1;32m      5\u001b[0m \u001b[0;34m\u001b[0m\u001b[0m\n\u001b[0;32m----> 6\u001b[0;31m \u001b[0;32mfor\u001b[0m \u001b[0mmodel\u001b[0m \u001b[0;32min\u001b[0m \u001b[0mmodel\u001b[0m\u001b[0;34m.\u001b[0m\u001b[0mitems\u001b[0m\u001b[0;34m(\u001b[0m\u001b[0;34m)\u001b[0m\u001b[0;34m:\u001b[0m\u001b[0;34m\u001b[0m\u001b[0;34m\u001b[0m\u001b[0m\n\u001b[0m\u001b[1;32m      7\u001b[0m     \u001b[0mtargets\u001b[0m\u001b[0;34m,\u001b[0m \u001b[0mpredicts\u001b[0m\u001b[0;34m,\u001b[0m \u001b[0mimages\u001b[0m \u001b[0;34m=\u001b[0m \u001b[0mget_wrong_predictions\u001b[0m\u001b[0;34m(\u001b[0m\u001b[0mmodel\u001b[0m\u001b[0;34m,\u001b[0m \u001b[0mtest_loader\u001b[0m\u001b[0;34m)\u001b[0m\u001b[0;34m\u001b[0m\u001b[0;34m\u001b[0m\u001b[0m\n\u001b[1;32m      8\u001b[0m     \u001b[0mshow_wrong_images\u001b[0m\u001b[0;34m(\u001b[0m\u001b[0mtargets\u001b[0m\u001b[0;34m,\u001b[0m \u001b[0mpredicts\u001b[0m\u001b[0;34m,\u001b[0m \u001b[0mimages\u001b[0m\u001b[0;34m)\u001b[0m\u001b[0;34m\u001b[0m\u001b[0;34m\u001b[0m\u001b[0m\n",
            "\u001b[0;32m/usr/local/lib/python3.10/dist-packages/torch/nn/modules/module.py\u001b[0m in \u001b[0;36m__getattr__\u001b[0;34m(self, name)\u001b[0m\n\u001b[1;32m   1612\u001b[0m             \u001b[0;32mif\u001b[0m \u001b[0mname\u001b[0m \u001b[0;32min\u001b[0m \u001b[0mmodules\u001b[0m\u001b[0;34m:\u001b[0m\u001b[0;34m\u001b[0m\u001b[0;34m\u001b[0m\u001b[0m\n\u001b[1;32m   1613\u001b[0m                 \u001b[0;32mreturn\u001b[0m \u001b[0mmodules\u001b[0m\u001b[0;34m[\u001b[0m\u001b[0mname\u001b[0m\u001b[0;34m]\u001b[0m\u001b[0;34m\u001b[0m\u001b[0;34m\u001b[0m\u001b[0m\n\u001b[0;32m-> 1614\u001b[0;31m         raise AttributeError(\"'{}' object has no attribute '{}'\".format(\n\u001b[0m\u001b[1;32m   1615\u001b[0m             type(self).__name__, name))\n\u001b[1;32m   1616\u001b[0m \u001b[0;34m\u001b[0m\u001b[0m\n",
            "\u001b[0;31mAttributeError\u001b[0m: 'Net' object has no attribute 'items'"
          ]
        }
      ]
    },
    {
      "cell_type": "code",
      "execution_count": 20,
      "metadata": {
        "id": "8muln_VjTScb",
        "outputId": "dd89eadf-7f9b-4c7a-d2b3-a7d4c2b3f525",
        "colab": {
          "base_uri": "https://localhost:8080/"
        }
      },
      "outputs": [
        {
          "output_type": "execute_result",
          "data": {
            "text/plain": [
              "Net(\n",
              "  (convblock1): Sequential(\n",
              "    (0): depthwise_separable_conv(\n",
              "      (depthwise): Conv2d(3, 3, kernel_size=(3, 3), stride=(1, 1), padding=(1, 1), groups=3, bias=False)\n",
              "      (pointwise): Conv2d(3, 32, kernel_size=(1, 1), stride=(1, 1), bias=False)\n",
              "    )\n",
              "    (1): BatchNorm2d(32, eps=1e-05, momentum=0.1, affine=True, track_running_stats=True)\n",
              "    (2): ReLU()\n",
              "    (3): Dropout(p=0.1, inplace=False)\n",
              "    (4): Conv2d(32, 32, kernel_size=(3, 3), stride=(1, 1), padding=(1, 1), bias=False)\n",
              "    (5): BatchNorm2d(32, eps=1e-05, momentum=0.1, affine=True, track_running_stats=True)\n",
              "    (6): ReLU()\n",
              "    (7): Dropout(p=0.1, inplace=False)\n",
              "    (8): Conv2d(32, 32, kernel_size=(3, 3), stride=(1, 1), padding=(1, 1), bias=False)\n",
              "    (9): BatchNorm2d(32, eps=1e-05, momentum=0.1, affine=True, track_running_stats=True)\n",
              "    (10): ReLU()\n",
              "    (11): Dropout(p=0.1, inplace=False)\n",
              "    (12): Conv2d(32, 64, kernel_size=(3, 3), stride=(2, 2), dilation=(2, 2), bias=False)\n",
              "    (13): BatchNorm2d(64, eps=1e-05, momentum=0.1, affine=True, track_running_stats=True)\n",
              "    (14): ReLU()\n",
              "    (15): Dropout(p=0.1, inplace=False)\n",
              "  )\n",
              "  (convblock2): Sequential(\n",
              "    (0): depthwise_separable_conv(\n",
              "      (depthwise): Conv2d(64, 64, kernel_size=(3, 3), stride=(1, 1), padding=(1, 1), dilation=(2, 2), groups=64, bias=False)\n",
              "      (pointwise): Conv2d(64, 128, kernel_size=(1, 1), stride=(1, 1), bias=False)\n",
              "    )\n",
              "    (1): BatchNorm2d(128, eps=1e-05, momentum=0.1, affine=True, track_running_stats=True)\n",
              "    (2): ReLU()\n",
              "    (3): Dropout(p=0.1, inplace=False)\n",
              "    (4): Conv2d(128, 64, kernel_size=(1, 1), stride=(1, 1), bias=False)\n",
              "    (5): BatchNorm2d(64, eps=1e-05, momentum=0.1, affine=True, track_running_stats=True)\n",
              "    (6): ReLU()\n",
              "    (7): Dropout(p=0.1, inplace=False)\n",
              "    (8): Conv2d(64, 64, kernel_size=(3, 3), stride=(1, 1), dilation=(2, 2), bias=False)\n",
              "    (9): BatchNorm2d(64, eps=1e-05, momentum=0.1, affine=True, track_running_stats=True)\n",
              "    (10): ReLU()\n",
              "    (11): Dropout(p=0.1, inplace=False)\n",
              "  )\n",
              "  (convblock3): Sequential(\n",
              "    (0): depthwise_separable_conv(\n",
              "      (depthwise): Conv2d(64, 64, kernel_size=(3, 3), stride=(1, 1), padding=(1, 1), groups=64, bias=False)\n",
              "      (pointwise): Conv2d(64, 128, kernel_size=(1, 1), stride=(1, 1), bias=False)\n",
              "    )\n",
              "    (1): BatchNorm2d(128, eps=1e-05, momentum=0.1, affine=True, track_running_stats=True)\n",
              "    (2): ReLU()\n",
              "    (3): Dropout(p=0.1, inplace=False)\n",
              "    (4): Conv2d(128, 64, kernel_size=(3, 3), stride=(1, 1), bias=False)\n",
              "    (5): BatchNorm2d(64, eps=1e-05, momentum=0.1, affine=True, track_running_stats=True)\n",
              "    (6): ReLU()\n",
              "    (7): Dropout(p=0.1, inplace=False)\n",
              "    (8): Conv2d(64, 64, kernel_size=(1, 1), stride=(2, 2), padding=(1, 1), bias=False)\n",
              "    (9): BatchNorm2d(64, eps=1e-05, momentum=0.1, affine=True, track_running_stats=True)\n",
              "    (10): ReLU()\n",
              "    (11): Dropout(p=0.1, inplace=False)\n",
              "  )\n",
              "  (gap): AdaptiveAvgPool2d(output_size=(1, 1))\n",
              "  (fc): Linear(in_features=64, out_features=10, bias=True)\n",
              ")"
            ]
          },
          "metadata": {},
          "execution_count": 20
        }
      ],
      "source": [
        "model"
      ]
    },
    {
      "cell_type": "code",
      "execution_count": null,
      "metadata": {
        "id": "uo3dguwxTScb",
        "outputId": "4355c4e3-bae5-45d9-d443-dede973d00d2",
        "colab": {
          "base_uri": "https://localhost:8080/"
        }
      },
      "outputs": [
        {
          "output_type": "stream",
          "name": "stdout",
          "text": [
            "Total convolution layers: 8\n",
            "conv_layers\n"
          ]
        }
      ],
      "source": [
        "# we will save the conv layer weights in this list\n",
        "model_weights =[]\n",
        "#we will save the 49 conv layers in this list\n",
        "conv_layers = []\n",
        "# get all the model children as list\n",
        "model_children = list(model.children())\n",
        "#counter to keep count of the conv layers\n",
        "counter = 0\n",
        "#append all the conv layers and their respective wights to the list\n",
        "\n",
        "model_children = model.children()\n",
        "for children in model_children:\n",
        "    if type(children) == nn.Sequential:\n",
        "        for child in children:\n",
        "            if type(child) == nn.Conv2d:\n",
        "                counter += 1\n",
        "                model_weights.append(child.weight)\n",
        "                conv_layers.append(child)\n",
        "\n",
        "print(f\"Total convolution layers: {counter}\")\n",
        "print(\"conv_layers\")"
      ]
    },
    {
      "cell_type": "code",
      "execution_count": 21,
      "metadata": {
        "id": "gA7jjH1pTScc",
        "outputId": "8f987399-e366-4066-96bf-86fe15d0292b",
        "colab": {
          "base_uri": "https://localhost:8080/",
          "height": 210
        }
      },
      "outputs": [
        {
          "output_type": "stream",
          "name": "stderr",
          "text": [
            "WARNING:matplotlib.image:Clipping input data to the valid range for imshow with RGB data ([0..1] for floats or [0..255] for integers).\n"
          ]
        },
        {
          "output_type": "display_data",
          "data": {
            "text/plain": [
              "<Figure size 640x480 with 1 Axes>"
            ],
            "image/png": "[encoded data removed]"
          },
          "metadata": {}
        }
      ],
      "source": [
        "# get some random training images\n",
        "dataiter = iter(train_loader)\n",
        "images, labels = next(dataiter)\n",
        "imshow(torchvision.utils.make_grid(images[:10]))"
      ]
    },
    {
      "cell_type": "code",
      "execution_count": 22,
      "metadata": {
        "id": "F-lApYI9TScc",
        "outputId": "6dc91550-8835-47aa-9e6e-a723a6ccd7cc",
        "colab": {
          "base_uri": "https://localhost:8080/",
          "height": 448
        }
      },
      "outputs": [
        {
          "output_type": "stream",
          "name": "stderr",
          "text": [
            "WARNING:matplotlib.image:Clipping input data to the valid range for imshow with RGB data ([0..1] for floats or [0..255] for integers).\n"
          ]
        },
        {
          "output_type": "display_data",
          "data": {
            "text/plain": [
              "<Figure size 640x480 with 1 Axes>"
            ],
            "image/png": "[encoded data removed]"
          },
          "metadata": {}
        }
      ],
      "source": [
        "image = images[9]\n",
        "imshow(image)"
      ]
    },
    {
      "cell_type": "code",
      "execution_count": 23,
      "metadata": {
        "id": "zGO-0nevTScc"
      },
      "outputs": [],
      "source": [
        "image = image.unsqueeze(0)\n",
        "image = image.to(device)"
      ]
    },
    {
      "cell_type": "code",
      "execution_count": null,
      "metadata": {
        "id": "EyYi21quTScc"
      },
      "outputs": [],
      "source": [
        "outputs = []\n",
        "names = []\n",
        "for layer in conv_layers[0:]:\n",
        "    image = layer(image)\n",
        "    outputs.append(image)\n",
        "    names.append(str(layer))\n",
        "print(len(outputs))\n",
        "#print feature_maps\n",
        "for feature_map in outputs:\n",
        "    print(feature_map.shape)"
      ]
    },
    {
      "cell_type": "code",
      "execution_count": 25,
      "metadata": {
        "id": "Tn0OlF7STScc"
      },
      "outputs": [],
      "source": [
        "processed = []\n",
        "for feature_map in outputs:\n",
        "    feature_map = feature_map.squeeze(0)\n",
        "    gray_scale = torch.sum(feature_map,0)\n",
        "    # gray_scale = feature_map[0]\n",
        "    gray_scale = gray_scale / feature_map.shape[0]\n",
        "    processed.append(gray_scale.data.cpu().numpy())\n",
        "for fm in processed:\n",
        "    print(fm.shape)"
      ]
    },
    {
      "cell_type": "code",
      "execution_count": null,
      "metadata": {
        "id": "tt0ER0qkTScd"
      },
      "outputs": [],
      "source": [
        "fig = plt.figure(figsize=(6, 10))\n",
        "for i in range(len(processed)):\n",
        "    a = fig.add_subplot(5, 4, i+1)\n",
        "    imgplot = plt.imshow(processed[i])\n",
        "    a.axis(\"off\")\n",
        "    a.set_title(names[i].split('(')[0], fontsize=10)\n",
        "plt.savefig(str('feature_maps.jpg'), bbox_inches='tight')"
      ]
    },
    {
      "cell_type": "code",
      "execution_count": null,
      "metadata": {
        "id": "r2OQ88cqTScd"
      },
      "outputs": [],
      "source": [
        "# visualize the first conv layer filters\n",
        "plt.figure(figsize=(5, 4))\n",
        "first_layer_weights = model_weights[0].cpu()\n",
        "for i, filter in enumerate(first_layer_weights):\n",
        "    plt.subplot(8, 8, i+1) # (8, 8) because in conv0 we have 7x7 filters and total of 64 (see printed shapes)\n",
        "    plt.imshow(filter[0, :, :].detach(), cmap='gray')\n",
        "    plt.axis('off')\n",
        "plt.show()"
      ]
    },
    {
      "cell_type": "code",
      "execution_count": null,
      "metadata": {
        "id": "eBI1pokNTScd"
      },
      "outputs": [],
      "source": []
    }
  ],
  "metadata": {
    "kernelspec": {
      "display_name": "Python 3",
      "name": "python3"
    },
    "language_info": {
      "codemirror_mode": {
        "name": "ipython",
        "version": 3
      },
      "file_extension": ".py",
      "mimetype": "text/x-python",
      "name": "python",
      "nbconvert_exporter": "python",
      "pygments_lexer": "ipython3",
      "version": "3.9.7"
    },
    "orig_nbformat": 4,
    "colab": {
      "provenance": [],
      "gpuType": "T4",
      "include_colab_link": true
    },
    "accelerator": "GPU"
  },
  "nbformat": 4,
  "nbformat_minor": 0
}